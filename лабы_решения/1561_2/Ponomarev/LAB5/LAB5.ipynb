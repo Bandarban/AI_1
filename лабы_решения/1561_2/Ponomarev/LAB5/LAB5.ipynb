{
 "cells": [
  {
   "cell_type": "code",
   "execution_count": 4,
   "metadata": {
    "collapsed": true
   },
   "outputs": [],
   "source": [
    "import matplotlib.pyplot as plt\n",
    "import seaborn as sns\n",
    "import numpy as np\n",
    "import pandas as pd\n",
    "import scipy as sp"
   ]
  },
  {
   "cell_type": "markdown",
   "metadata": {},
   "source": [
    "### 1.Загрузка данных"
   ]
  },
  {
   "cell_type": "code",
   "execution_count": 5,
   "metadata": {
    "collapsed": false
   },
   "outputs": [
    {
     "name": "stdout",
     "output_type": "stream",
     "text": [
      "SepalLengthCm    150\n",
      "SepalWidthCm     150\n",
      "PetalLengthCm    150\n",
      "PetalWidthCm     150\n",
      "Species          150\n",
      "dtype: int64\n"
     ]
    },
    {
     "data": {
      "text/html": [
       "<div>\n",
       "<style>\n",
       "    .dataframe thead tr:only-child th {\n",
       "        text-align: right;\n",
       "    }\n",
       "\n",
       "    .dataframe thead th {\n",
       "        text-align: left;\n",
       "    }\n",
       "\n",
       "    .dataframe tbody tr th {\n",
       "        vertical-align: top;\n",
       "    }\n",
       "</style>\n",
       "<table border=\"1\" class=\"dataframe\">\n",
       "  <thead>\n",
       "    <tr style=\"text-align: right;\">\n",
       "      <th></th>\n",
       "      <th>SepalLengthCm</th>\n",
       "      <th>SepalWidthCm</th>\n",
       "      <th>PetalLengthCm</th>\n",
       "      <th>PetalWidthCm</th>\n",
       "      <th>Species</th>\n",
       "    </tr>\n",
       "    <tr>\n",
       "      <th>Id</th>\n",
       "      <th></th>\n",
       "      <th></th>\n",
       "      <th></th>\n",
       "      <th></th>\n",
       "      <th></th>\n",
       "    </tr>\n",
       "  </thead>\n",
       "  <tbody>\n",
       "    <tr>\n",
       "      <th>1</th>\n",
       "      <td>5.1</td>\n",
       "      <td>3.5</td>\n",
       "      <td>1.4</td>\n",
       "      <td>0.2</td>\n",
       "      <td>Iris-setosa</td>\n",
       "    </tr>\n",
       "    <tr>\n",
       "      <th>2</th>\n",
       "      <td>4.9</td>\n",
       "      <td>3.0</td>\n",
       "      <td>1.4</td>\n",
       "      <td>0.2</td>\n",
       "      <td>Iris-setosa</td>\n",
       "    </tr>\n",
       "    <tr>\n",
       "      <th>3</th>\n",
       "      <td>4.7</td>\n",
       "      <td>3.2</td>\n",
       "      <td>1.3</td>\n",
       "      <td>0.2</td>\n",
       "      <td>Iris-setosa</td>\n",
       "    </tr>\n",
       "    <tr>\n",
       "      <th>4</th>\n",
       "      <td>4.6</td>\n",
       "      <td>3.1</td>\n",
       "      <td>1.5</td>\n",
       "      <td>0.2</td>\n",
       "      <td>Iris-setosa</td>\n",
       "    </tr>\n",
       "    <tr>\n",
       "      <th>5</th>\n",
       "      <td>5.0</td>\n",
       "      <td>3.6</td>\n",
       "      <td>1.4</td>\n",
       "      <td>0.2</td>\n",
       "      <td>Iris-setosa</td>\n",
       "    </tr>\n",
       "  </tbody>\n",
       "</table>\n",
       "</div>"
      ],
      "text/plain": [
       "    SepalLengthCm  SepalWidthCm  PetalLengthCm  PetalWidthCm      Species\n",
       "Id                                                                       \n",
       "1             5.1           3.5            1.4           0.2  Iris-setosa\n",
       "2             4.9           3.0            1.4           0.2  Iris-setosa\n",
       "3             4.7           3.2            1.3           0.2  Iris-setosa\n",
       "4             4.6           3.1            1.5           0.2  Iris-setosa\n",
       "5             5.0           3.6            1.4           0.2  Iris-setosa"
      ]
     },
     "execution_count": 5,
     "metadata": {},
     "output_type": "execute_result"
    }
   ],
   "source": [
    "df = pd.read_csv('../../../../data/Iris.csv', index_col='Id')\n",
    "print(df.count())\n",
    "df.head()"
   ]
  },
  {
   "cell_type": "markdown",
   "metadata": {},
   "source": [
    "### 2.Предварительная обработка"
   ]
  },
  {
   "cell_type": "code",
   "execution_count": 6,
   "metadata": {
    "collapsed": false
   },
   "outputs": [
    {
     "name": "stdout",
     "output_type": "stream",
     "text": [
      "Requirement already satisfied (use --upgrade to upgrade): keras in c:\\users\\messgrave\\anaconda3\\lib\\site-packages\n",
      "Requirement already satisfied (use --upgrade to upgrade): keras-applications>=1.0.6 in c:\\users\\messgrave\\anaconda3\\lib\\site-packages (from keras)\n",
      "Requirement already satisfied (use --upgrade to upgrade): scipy>=0.14 in c:\\users\\messgrave\\anaconda3\\lib\\site-packages (from keras)\n",
      "Requirement already satisfied (use --upgrade to upgrade): pyyaml in c:\\users\\messgrave\\anaconda3\\lib\\site-packages (from keras)\n",
      "Requirement already satisfied (use --upgrade to upgrade): numpy>=1.9.1 in c:\\users\\messgrave\\anaconda3\\lib\\site-packages (from keras)\n",
      "Requirement already satisfied (use --upgrade to upgrade): h5py in c:\\users\\messgrave\\anaconda3\\lib\\site-packages (from keras)\n",
      "Requirement already satisfied (use --upgrade to upgrade): six>=1.9.0 in c:\\users\\messgrave\\anaconda3\\lib\\site-packages (from keras)\n",
      "Requirement already satisfied (use --upgrade to upgrade): keras-preprocessing>=1.0.5 in c:\\users\\messgrave\\anaconda3\\lib\\site-packages (from keras)\n"
     ]
    },
    {
     "name": "stderr",
     "output_type": "stream",
     "text": [
      "You are using pip version 8.1.2, however version 18.1 is available.\n",
      "You should consider upgrading via the 'python -m pip install --upgrade pip' command.\n"
     ]
    }
   ],
   "source": [
    "!pip install keras"
   ]
  },
  {
   "cell_type": "code",
   "execution_count": 5,
   "metadata": {
    "collapsed": false
   },
   "outputs": [
    {
     "name": "stdout",
     "output_type": "stream",
     "text": [
      "Requirement already satisfied (use --upgrade to upgrade): tensorflow in c:\\users\\messgrave\\anaconda3\\lib\\site-packages\n",
      "Requirement already satisfied (use --upgrade to upgrade): protobuf>=3.2.0 in c:\\users\\messgrave\\anaconda3\\lib\\site-packages (from tensorflow)\n",
      "Requirement already satisfied (use --upgrade to upgrade): backports.weakref==1.0rc1 in c:\\users\\messgrave\\anaconda3\\lib\\site-packages (from tensorflow)\n",
      "Requirement already satisfied (use --upgrade to upgrade): wheel>=0.26 in c:\\users\\messgrave\\anaconda3\\lib\\site-packages (from tensorflow)\n",
      "Requirement already satisfied (use --upgrade to upgrade): numpy>=1.11.0 in c:\\users\\messgrave\\anaconda3\\lib\\site-packages (from tensorflow)\n",
      "Requirement already satisfied (use --upgrade to upgrade): markdown>=2.6.8 in c:\\users\\messgrave\\anaconda3\\lib\\site-packages (from tensorflow)\n",
      "Requirement already satisfied (use --upgrade to upgrade): bleach==1.5.0 in c:\\users\\messgrave\\anaconda3\\lib\\site-packages (from tensorflow)\n",
      "Requirement already satisfied (use --upgrade to upgrade): werkzeug>=0.11.10 in c:\\users\\messgrave\\anaconda3\\lib\\site-packages (from tensorflow)\n",
      "Requirement already satisfied (use --upgrade to upgrade): html5lib==0.9999999 in c:\\users\\messgrave\\anaconda3\\lib\\site-packages (from tensorflow)\n",
      "Requirement already satisfied (use --upgrade to upgrade): six>=1.10.0 in c:\\users\\messgrave\\anaconda3\\lib\\site-packages (from tensorflow)\n",
      "Requirement already satisfied (use --upgrade to upgrade): setuptools in c:\\users\\messgrave\\anaconda3\\lib\\site-packages\\setuptools-27.2.0-py3.5.egg (from protobuf>=3.2.0->tensorflow)\n"
     ]
    },
    {
     "name": "stderr",
     "output_type": "stream",
     "text": [
      "You are using pip version 8.1.2, however version 18.1 is available.\n",
      "You should consider upgrading via the 'python -m pip install --upgrade pip' command.\n"
     ]
    }
   ],
   "source": [
    "!pip install  tensorflow"
   ]
  },
  {
   "cell_type": "code",
   "execution_count": 33,
   "metadata": {
    "collapsed": false
   },
   "outputs": [],
   "source": [
    "import sklearn.pipeline as pipeline\n",
    "import sklearn.preprocessing as preprocessing\n",
    "from sklearn.base import BaseEstimator, TransformerMixin\n",
    "from keras.utils import to_categorical"
   ]
  },
  {
   "cell_type": "code",
   "execution_count": 34,
   "metadata": {
    "collapsed": true
   },
   "outputs": [],
   "source": [
    "class FillNa(TransformerMixin, BaseEstimator):\n",
    "    def fit(self, df: pd.DataFrame, y=None):\n",
    "        return self\n",
    "    \n",
    "    def transform(self, df: pd.DataFrame, y=None) -> pd.DataFrame:\n",
    "        return df.interpolate(method='cubic').fillna(method='pad').dropna()\n",
    "    \n",
    "\n",
    "class DropOutlet(TransformerMixin, BaseEstimator):\n",
    "    def fit(self, df: pd.DataFrame, y=None):\n",
    "        self.std = df.std()\n",
    "        self.columns = self.std.index.values\n",
    "        return self\n",
    "    \n",
    "    def transform(self, df: pd.DataFrame, y=None) -> pd.DataFrame:\n",
    "        df_cols = df[self.columns]\n",
    "        return df[ (df_cols - df_cols.mean()).abs() <= 3*self.std].dropna()\n",
    "    \n",
    "    \n",
    "class PandasToNumpy(BaseEstimator):\n",
    "    def fit(self, data : pd.DataFrame, y=None):\n",
    "        return self\n",
    "    \n",
    "    def transform(self, data: pd.DataFrame, y=None) -> np.ndarray:\n",
    "        return data.values\n",
    "    \n",
    "class SparseToArray(TransformerMixin, BaseEstimator):\n",
    "    def fit(self, df, y=None):\n",
    "        return self\n",
    "    \n",
    "    def transform(self, df, y=None):\n",
    "        return df.toarray()\n",
    "    \n",
    "    \n",
    "class ModifyLabelEncoder(preprocessing.LabelEncoder):\n",
    "    def fit(self, df, y=None):\n",
    "        return super().fit(df)\n",
    "    \n",
    "    def transform(self, df, y=None):\n",
    "        return super().transform(df)\n",
    "    \n",
    "    def fit_transform(self, df, y=None):\n",
    "        return super().fit_transform(df)\n",
    "    \n",
    "class ExpandDims(TransformerMixin, BaseEstimator):\n",
    "    \"\"\"\n",
    "    Увеличение на 1 размерности массива в нужной оси \n",
    "    \"\"\"\n",
    "    def __init__(self, axis):\n",
    "        self.axis = axis\n",
    "        \n",
    "    def fit(self, df, y=None):\n",
    "        return self\n",
    "    \n",
    "    def transform(self, df, y=None):\n",
    "        return np.expand_dims(df, axis=self.axis)\n",
    "        \n",
    "    "
   ]
  },
  {
   "cell_type": "code",
   "execution_count": 35,
   "metadata": {
    "collapsed": true
   },
   "outputs": [],
   "source": [
    "x_data = df[df.columns[:-1]].copy()\n",
    "# в числовых данных getdummies не даст эффекта АСТАНАВИТЕС"
   ]
  },
  {
   "cell_type": "code",
   "execution_count": 36,
   "metadata": {
    "collapsed": true
   },
   "outputs": [],
   "source": [
    "y_data = df[df.columns[-1]].copy()"
   ]
  },
  {
   "cell_type": "code",
   "execution_count": 11,
   "metadata": {
    "collapsed": true
   },
   "outputs": [],
   "source": [
    "fill_na_pipe = pipeline.Pipeline([\n",
    "    ('fill', FillNa())\n",
    "])\n",
    "pipe_outlet = pipeline.Pipeline([\n",
    "    ('fill_na', fill_na_pipe),\n",
    "    ('drop_outlet', DropOutlet())\n",
    "])\n",
    "\n",
    "outletless_data_x = pipe_outlet.fit_transform(x_data)"
   ]
  },
  {
   "cell_type": "code",
   "execution_count": 12,
   "metadata": {
    "collapsed": true
   },
   "outputs": [],
   "source": [
    "outletless_data_y = y_data[fill_na_pipe.transform(y_data).index.isin(outletless_data_x.index) ]"
   ]
  },
  {
   "cell_type": "code",
   "execution_count": 13,
   "metadata": {
    "collapsed": true
   },
   "outputs": [],
   "source": [
    "pipe_x = pipeline.Pipeline([\n",
    "    ('to_matrix', PandasToNumpy()),\n",
    "    ('norm', preprocessing.MinMaxScaler())\n",
    "])"
   ]
  },
  {
   "cell_type": "code",
   "execution_count": 14,
   "metadata": {
    "collapsed": true
   },
   "outputs": [],
   "source": [
    "pipe_y = pipeline.Pipeline([\n",
    "    ('to_matrix', PandasToNumpy()),\n",
    "    ('label_encoder', ModifyLabelEncoder()),\n",
    "    ('expand_dims', ExpandDims(axis=1)),\n",
    "    ('one_hot_encoder', preprocessing.OneHotEncoder(sparse=False)),\n",
    "])"
   ]
  },
  {
   "cell_type": "code",
   "execution_count": 15,
   "metadata": {
    "collapsed": false
   },
   "outputs": [
    {
     "name": "stdout",
     "output_type": "stream",
     "text": [
      "(149, 4) (149, 3)\n"
     ]
    }
   ],
   "source": [
    "number_data_x = pipe_x.fit_transform(outletless_data_x)\n",
    "number_data_y = pipe_y.fit_transform(outletless_data_y)\n",
    "\n",
    "print(number_data_x.shape, number_data_y.shape)"
   ]
  },
  {
   "cell_type": "code",
   "execution_count": 16,
   "metadata": {
    "collapsed": false
   },
   "outputs": [
    {
     "data": {
      "text/plain": [
       "(array([[ 0.22222222,  0.68181818,  0.06779661,  0.04166667],\n",
       "        [ 0.16666667,  0.45454545,  0.06779661,  0.04166667],\n",
       "        [ 0.11111111,  0.54545455,  0.05084746,  0.04166667],\n",
       "        [ 0.08333333,  0.5       ,  0.08474576,  0.04166667],\n",
       "        [ 0.19444444,  0.72727273,  0.06779661,  0.04166667],\n",
       "        [ 0.30555556,  0.86363636,  0.11864407,  0.125     ],\n",
       "        [ 0.08333333,  0.63636364,  0.06779661,  0.08333333],\n",
       "        [ 0.19444444,  0.63636364,  0.08474576,  0.04166667],\n",
       "        [ 0.02777778,  0.40909091,  0.06779661,  0.04166667],\n",
       "        [ 0.16666667,  0.5       ,  0.08474576,  0.        ]]),\n",
       " array([[ 1.,  0.,  0.],\n",
       "        [ 1.,  0.,  0.],\n",
       "        [ 1.,  0.,  0.],\n",
       "        [ 1.,  0.,  0.],\n",
       "        [ 1.,  0.,  0.],\n",
       "        [ 0.,  1.,  0.],\n",
       "        [ 0.,  1.,  0.],\n",
       "        [ 0.,  1.,  0.],\n",
       "        [ 0.,  1.,  0.],\n",
       "        [ 0.,  1.,  0.],\n",
       "        [ 0.,  0.,  1.],\n",
       "        [ 0.,  0.,  1.],\n",
       "        [ 0.,  0.,  1.],\n",
       "        [ 0.,  0.,  1.],\n",
       "        [ 0.,  0.,  1.]]))"
      ]
     },
     "execution_count": 16,
     "metadata": {},
     "output_type": "execute_result"
    }
   ],
   "source": [
    "number_data_x[:10,:], number_data_y[::10]"
   ]
  },
  {
   "cell_type": "markdown",
   "metadata": {},
   "source": [
    "### 3.Построение нейронной сети"
   ]
  },
  {
   "cell_type": "code",
   "execution_count": 104,
   "metadata": {
    "collapsed": false
   },
   "outputs": [
    {
     "data": {
      "text/plain": [
       "((149, 4), (149, 3))"
      ]
     },
     "execution_count": 104,
     "metadata": {},
     "output_type": "execute_result"
    }
   ],
   "source": [
    "x_train = number_data_x\n",
    "y_train = number_data_y\n",
    "x_train.shape, y_train.shape"
   ]
  },
  {
   "cell_type": "code",
   "execution_count": 105,
   "metadata": {
    "collapsed": false
   },
   "outputs": [],
   "source": [
    "from keras.layers import Dense\n",
    "from keras.models import Sequential\n",
    "from keras import activations\n",
    "from keras.optimizers import Adam, RMSprop"
   ]
  },
  {
   "cell_type": "code",
   "execution_count": 106,
   "metadata": {
    "collapsed": false,
    "scrolled": false
   },
   "outputs": [],
   "source": [
    "model = Sequential()\n",
    "model.add(Dense(10, activation='relu', input_dim=x_train.shape[1]))\n",
    "model.add(Dense(y_train.shape[1], activation='sigmoid'))\n",
    "\n",
    "model.compile(Adam(), 'categorical_crossentropy', metrics=['categorical_accuracy'])"
   ]
  },
  {
   "cell_type": "code",
   "execution_count": 107,
   "metadata": {
    "collapsed": false
   },
   "outputs": [
    {
     "name": "stdout",
     "output_type": "stream",
     "text": [
      "Epoch 1/100\n",
      " - 0s - loss: 1.0757 - categorical_accuracy: 0.3356\n",
      "Epoch 2/100\n",
      " - 0s - loss: 1.0508 - categorical_accuracy: 0.3557\n",
      "Epoch 3/100\n",
      " - 0s - loss: 1.0270 - categorical_accuracy: 0.3893\n",
      "Epoch 4/100\n",
      " - 0s - loss: 1.0025 - categorical_accuracy: 0.5436\n",
      "Epoch 5/100\n",
      " - 0s - loss: 0.9749 - categorical_accuracy: 0.6376\n",
      "Epoch 6/100\n",
      " - 0s - loss: 0.9457 - categorical_accuracy: 0.6644\n",
      "Epoch 7/100\n",
      " - 0s - loss: 0.9137 - categorical_accuracy: 0.6644\n",
      "Epoch 8/100\n",
      " - 0s - loss: 0.8792 - categorical_accuracy: 0.6913\n",
      "Epoch 9/100\n",
      " - 0s - loss: 0.8443 - categorical_accuracy: 0.7718\n",
      "Epoch 10/100\n",
      " - 0s - loss: 0.8088 - categorical_accuracy: 0.7517\n",
      "Epoch 11/100\n",
      " - 0s - loss: 0.7735 - categorical_accuracy: 0.6779\n",
      "Epoch 12/100\n",
      " - 0s - loss: 0.7377 - categorical_accuracy: 0.6644\n",
      "Epoch 13/100\n",
      " - 0s - loss: 0.7057 - categorical_accuracy: 0.6644\n",
      "Epoch 14/100\n",
      " - 0s - loss: 0.6744 - categorical_accuracy: 0.7248\n",
      "Epoch 15/100\n",
      " - 0s - loss: 0.6472 - categorical_accuracy: 0.7852\n",
      "Epoch 16/100\n",
      " - 0s - loss: 0.6201 - categorical_accuracy: 0.6779\n",
      "Epoch 17/100\n",
      " - 0s - loss: 0.5922 - categorical_accuracy: 0.6846\n",
      "Epoch 18/100\n",
      " - 0s - loss: 0.5665 - categorical_accuracy: 0.6980\n",
      "Epoch 19/100\n",
      " - 0s - loss: 0.5411 - categorical_accuracy: 0.8389\n",
      "Epoch 20/100\n",
      " - 0s - loss: 0.5201 - categorical_accuracy: 0.7987\n",
      "Epoch 21/100\n",
      " - 0s - loss: 0.5014 - categorical_accuracy: 0.8523\n",
      "Epoch 22/100\n",
      " - 0s - loss: 0.4860 - categorical_accuracy: 0.8993\n",
      "Epoch 23/100\n",
      " - 0s - loss: 0.4713 - categorical_accuracy: 0.7651\n",
      "Epoch 24/100\n",
      " - 0s - loss: 0.4584 - categorical_accuracy: 0.9195\n",
      "Epoch 25/100\n",
      " - 0s - loss: 0.4432 - categorical_accuracy: 0.9262\n",
      "Epoch 26/100\n",
      " - 0s - loss: 0.4326 - categorical_accuracy: 0.8926\n",
      "Epoch 27/100\n",
      " - 0s - loss: 0.4212 - categorical_accuracy: 0.9329\n",
      "Epoch 28/100\n",
      " - 0s - loss: 0.4100 - categorical_accuracy: 0.9396\n",
      "Epoch 29/100\n",
      " - 0s - loss: 0.4004 - categorical_accuracy: 0.9329\n",
      "Epoch 30/100\n",
      " - 0s - loss: 0.3907 - categorical_accuracy: 0.9463\n",
      "Epoch 31/100\n",
      " - 0s - loss: 0.3853 - categorical_accuracy: 0.9396\n",
      "Epoch 32/100\n",
      " - 0s - loss: 0.3751 - categorical_accuracy: 0.9396\n",
      "Epoch 33/100\n",
      " - 0s - loss: 0.3674 - categorical_accuracy: 0.9329\n",
      "Epoch 34/100\n",
      " - 0s - loss: 0.3585 - categorical_accuracy: 0.9396\n",
      "Epoch 35/100\n",
      " - 0s - loss: 0.3508 - categorical_accuracy: 0.9530\n",
      "Epoch 36/100\n",
      " - 0s - loss: 0.3449 - categorical_accuracy: 0.9530\n",
      "Epoch 37/100\n",
      " - 0s - loss: 0.3394 - categorical_accuracy: 0.9530\n",
      "Epoch 38/100\n",
      " - 0s - loss: 0.3307 - categorical_accuracy: 0.9463\n",
      "Epoch 39/100\n",
      " - 0s - loss: 0.3235 - categorical_accuracy: 0.9530\n",
      "Epoch 40/100\n",
      " - 0s - loss: 0.3195 - categorical_accuracy: 0.9463\n",
      "Epoch 41/100\n",
      " - 0s - loss: 0.3144 - categorical_accuracy: 0.9396\n",
      "Epoch 42/100\n",
      " - 0s - loss: 0.3062 - categorical_accuracy: 0.9597\n",
      "Epoch 43/100\n",
      " - 0s - loss: 0.3023 - categorical_accuracy: 0.9530\n",
      "Epoch 44/100\n",
      " - 0s - loss: 0.2960 - categorical_accuracy: 0.9664\n",
      "Epoch 45/100\n",
      " - 0s - loss: 0.2914 - categorical_accuracy: 0.9530\n",
      "Epoch 46/100\n",
      " - 0s - loss: 0.2860 - categorical_accuracy: 0.9396\n",
      "Epoch 47/100\n",
      " - 0s - loss: 0.2806 - categorical_accuracy: 0.9530\n",
      "Epoch 48/100\n",
      " - 0s - loss: 0.2770 - categorical_accuracy: 0.9530\n",
      "Epoch 49/100\n",
      " - 0s - loss: 0.2707 - categorical_accuracy: 0.9664\n",
      "Epoch 50/100\n",
      " - 0s - loss: 0.2679 - categorical_accuracy: 0.9530\n",
      "Epoch 51/100\n",
      " - 0s - loss: 0.2653 - categorical_accuracy: 0.9530\n",
      "Epoch 52/100\n",
      " - 0s - loss: 0.2592 - categorical_accuracy: 0.9597\n",
      "Epoch 53/100\n",
      " - 0s - loss: 0.2540 - categorical_accuracy: 0.9530\n",
      "Epoch 54/100\n",
      " - 0s - loss: 0.2498 - categorical_accuracy: 0.9664\n",
      "Epoch 55/100\n",
      " - 0s - loss: 0.2463 - categorical_accuracy: 0.9530\n",
      "Epoch 56/100\n",
      " - 0s - loss: 0.2434 - categorical_accuracy: 0.9530\n",
      "Epoch 57/100\n",
      " - 0s - loss: 0.2393 - categorical_accuracy: 0.9597\n",
      "Epoch 58/100\n",
      " - 0s - loss: 0.2352 - categorical_accuracy: 0.9664\n",
      "Epoch 59/100\n",
      " - 0s - loss: 0.2308 - categorical_accuracy: 0.9664\n",
      "Epoch 60/100\n",
      " - 0s - loss: 0.2282 - categorical_accuracy: 0.9530\n",
      "Epoch 61/100\n",
      " - 0s - loss: 0.2247 - categorical_accuracy: 0.9664\n",
      "Epoch 62/100\n",
      " - 0s - loss: 0.2217 - categorical_accuracy: 0.9597\n",
      "Epoch 63/100\n",
      " - 0s - loss: 0.2183 - categorical_accuracy: 0.9597\n",
      "Epoch 64/100\n",
      " - 0s - loss: 0.2164 - categorical_accuracy: 0.9463\n",
      "Epoch 65/100\n",
      " - 0s - loss: 0.2128 - categorical_accuracy: 0.9664\n",
      "Epoch 66/100\n",
      " - 0s - loss: 0.2087 - categorical_accuracy: 0.9664\n",
      "Epoch 67/100\n",
      " - 0s - loss: 0.2084 - categorical_accuracy: 0.9664\n",
      "Epoch 68/100\n",
      " - 0s - loss: 0.2038 - categorical_accuracy: 0.9530\n",
      "Epoch 69/100\n",
      " - 0s - loss: 0.2022 - categorical_accuracy: 0.9664\n",
      "Epoch 70/100\n",
      " - 0s - loss: 0.2000 - categorical_accuracy: 0.9530\n",
      "Epoch 71/100\n",
      " - 0s - loss: 0.1965 - categorical_accuracy: 0.9530\n",
      "Epoch 72/100\n",
      " - 0s - loss: 0.1922 - categorical_accuracy: 0.9530\n",
      "Epoch 73/100\n",
      " - 0s - loss: 0.1898 - categorical_accuracy: 0.9597\n",
      "Epoch 74/100\n",
      " - 0s - loss: 0.1888 - categorical_accuracy: 0.9530\n",
      "Epoch 75/100\n",
      " - 0s - loss: 0.1860 - categorical_accuracy: 0.9530\n",
      "Epoch 76/100\n",
      " - 0s - loss: 0.1839 - categorical_accuracy: 0.9664\n",
      "Epoch 77/100\n",
      " - 0s - loss: 0.1820 - categorical_accuracy: 0.9597\n",
      "Epoch 78/100\n",
      " - 0s - loss: 0.1801 - categorical_accuracy: 0.9530\n",
      "Epoch 79/100\n",
      " - 0s - loss: 0.1775 - categorical_accuracy: 0.9530\n",
      "Epoch 80/100\n",
      " - 0s - loss: 0.1751 - categorical_accuracy: 0.9597\n",
      "Epoch 81/100\n",
      " - 0s - loss: 0.1739 - categorical_accuracy: 0.9664\n",
      "Epoch 82/100\n",
      " - 0s - loss: 0.1714 - categorical_accuracy: 0.9597\n",
      "Epoch 83/100\n",
      " - 0s - loss: 0.1683 - categorical_accuracy: 0.9597\n",
      "Epoch 84/100\n",
      " - 0s - loss: 0.1674 - categorical_accuracy: 0.9597\n",
      "Epoch 85/100\n",
      " - 0s - loss: 0.1649 - categorical_accuracy: 0.9530\n",
      "Epoch 86/100\n",
      " - 0s - loss: 0.1636 - categorical_accuracy: 0.9597\n",
      "Epoch 87/100\n",
      " - 0s - loss: 0.1640 - categorical_accuracy: 0.9664\n",
      "Epoch 88/100\n",
      " - 0s - loss: 0.1632 - categorical_accuracy: 0.9597\n",
      "Epoch 89/100\n",
      " - 0s - loss: 0.1587 - categorical_accuracy: 0.9597\n",
      "Epoch 90/100\n",
      " - 0s - loss: 0.1560 - categorical_accuracy: 0.9530\n",
      "Epoch 91/100\n",
      " - 0s - loss: 0.1553 - categorical_accuracy: 0.9664\n",
      "Epoch 92/100\n",
      " - 0s - loss: 0.1547 - categorical_accuracy: 0.9530\n",
      "Epoch 93/100\n",
      " - 0s - loss: 0.1533 - categorical_accuracy: 0.9597\n",
      "Epoch 94/100\n",
      " - 0s - loss: 0.1497 - categorical_accuracy: 0.9530\n",
      "Epoch 95/100\n",
      " - 0s - loss: 0.1505 - categorical_accuracy: 0.9530\n",
      "Epoch 96/100\n",
      " - 0s - loss: 0.1469 - categorical_accuracy: 0.9597\n",
      "Epoch 97/100\n",
      " - 0s - loss: 0.1456 - categorical_accuracy: 0.9597\n",
      "Epoch 98/100\n",
      " - 0s - loss: 0.1445 - categorical_accuracy: 0.9597\n",
      "Epoch 99/100\n",
      " - 0s - loss: 0.1432 - categorical_accuracy: 0.9597\n",
      "Epoch 100/100\n",
      " - 0s - loss: 0.1409 - categorical_accuracy: 0.9530\n"
     ]
    },
    {
     "data": {
      "text/plain": [
       "<keras.callbacks.History at 0x243a5b72d30>"
      ]
     },
     "execution_count": 107,
     "metadata": {},
     "output_type": "execute_result"
    }
   ],
   "source": [
    "model.fit(x_train,\n",
    "          y_train,\n",
    "          verbose=2,\n",
    "          epochs=100,\n",
    "          batch_size=3)"
   ]
  },
  {
   "cell_type": "code",
   "execution_count": 108,
   "metadata": {
    "collapsed": false
   },
   "outputs": [
    {
     "name": "stdout",
     "output_type": "stream",
     "text": [
      "149/149 [==============================] - 0s 837us/step\n"
     ]
    },
    {
     "data": {
      "text/plain": [
       "[0.13940361902217738, 0.95973154402419225]"
      ]
     },
     "execution_count": 108,
     "metadata": {},
     "output_type": "execute_result"
    }
   ],
   "source": [
    "model.evaluate(x_train, y_train)"
   ]
  },
  {
   "cell_type": "markdown",
   "metadata": {},
   "source": [
    "### 5. Построение усложненного варианта НС"
   ]
  },
  {
   "cell_type": "code",
   "execution_count": 109,
   "metadata": {
    "collapsed": true
   },
   "outputs": [],
   "source": [
    "from keras import callbacks"
   ]
  },
  {
   "cell_type": "code",
   "execution_count": 110,
   "metadata": {
    "collapsed": false
   },
   "outputs": [
    {
     "name": "stdout",
     "output_type": "stream",
     "text": [
      "Всего данных: 149\n",
      "Тренировочных данных: 119\n",
      "Тестовых данных: 30\n",
      "Размер данные для тренировки (входных): (119, 4)\n",
      "Размер данные для тренировки (выходных): (119, 3)\n",
      "Размер данные для теста (входных): (30, 4)\n",
      "Размер данные для теста (выходных): (30, 4)\n"
     ]
    }
   ],
   "source": [
    "xy_data = np.hstack( (number_data_x, number_data_y) ).transpose( (0,1))\n",
    "np.random.shuffle(xy_data)\n",
    "\n",
    "point_split = round(xy_data.shape[0] * 0.8)\n",
    "train_data = xy_data[:point_split]\n",
    "test_data = xy_data[point_split:]\n",
    "\n",
    "print('Всего данных: '+str(xy_data.shape[0]))\n",
    "print('Тренировочных данных: '+str(train_data.shape[0]))\n",
    "print('Тестовых данных: '+str(test_data.shape[0]))\n",
    "\n",
    "x_train = train_data[:, :number_data_x.shape[1] ]\n",
    "y_train = train_data[:, :number_data_y.shape[1] ]\n",
    "\n",
    "print('Размер данные для тренировки (входных): '+str(x_train.shape))\n",
    "print('Размер данные для тренировки (выходных): '+str(y_train.shape))\n",
    "\n",
    "x_test = test_data[:, :number_data_x.shape[1] ]\n",
    "y_test = test_data[:, :number_data_y.shape[1] ]\n",
    "\n",
    "print('Размер данные для теста (входных): '+str(x_test.shape))\n",
    "print('Размер данные для теста (выходных): '+str(x_test.shape))"
   ]
  },
  {
   "cell_type": "code",
   "execution_count": 111,
   "metadata": {
    "collapsed": true
   },
   "outputs": [],
   "source": [
    "def make_nn(input_len, output_len):\n",
    "    model = Sequential(layers=(\n",
    "        Dense(10, activation='relu', input_dim=input_len),\n",
    "        Dense(output_len, activation='sigmoid')\n",
    "        )\n",
    "    )\n",
    "    model.compile(optimizer='adam', loss = 'categorical_crossentropy', metrics=['categorical_accuracy'])\n",
    "    return model"
   ]
  },
  {
   "cell_type": "code",
   "execution_count": 112,
   "metadata": {
    "collapsed": false
   },
   "outputs": [
    {
     "name": "stdout",
     "output_type": "stream",
     "text": [
      "Начинаем обучение\n",
      "Train on 119 samples, validate on 30 samples\n",
      "Epoch 1/100\n",
      "119/119 [==============================] - 0s 4ms/step - loss: 1.5106 - categorical_accuracy: 0.4286 - val_loss: 1.5306 - val_categorical_accuracy: 0.3667\n",
      "Epoch 2/100\n",
      "119/119 [==============================] - 0s 285us/step - loss: 1.4988 - categorical_accuracy: 0.4202 - val_loss: 1.5197 - val_categorical_accuracy: 0.3667\n",
      "Epoch 3/100\n",
      "119/119 [==============================] - 0s 310us/step - loss: 1.4899 - categorical_accuracy: 0.5630 - val_loss: 1.5095 - val_categorical_accuracy: 0.6000\n",
      "Epoch 4/100\n",
      "119/119 [==============================] - 0s 310us/step - loss: 1.4814 - categorical_accuracy: 0.7311 - val_loss: 1.5002 - val_categorical_accuracy: 0.8000\n",
      "Epoch 5/100\n",
      "119/119 [==============================] - 0s 310us/step - loss: 1.4738 - categorical_accuracy: 0.8655 - val_loss: 1.4905 - val_categorical_accuracy: 0.9667\n",
      "Epoch 6/100\n",
      "119/119 [==============================] - 0s 302us/step - loss: 1.4659 - categorical_accuracy: 0.8908 - val_loss: 1.4811 - val_categorical_accuracy: 0.9667\n",
      "Epoch 7/100\n",
      "119/119 [==============================] - 0s 302us/step - loss: 1.4582 - categorical_accuracy: 0.8992 - val_loss: 1.4721 - val_categorical_accuracy: 0.9667\n",
      "Epoch 8/100\n",
      "119/119 [==============================] - 0s 335us/step - loss: 1.4507 - categorical_accuracy: 0.8992 - val_loss: 1.4632 - val_categorical_accuracy: 0.9667\n",
      "Epoch 9/100\n",
      "119/119 [==============================] - 0s 302us/step - loss: 1.4434 - categorical_accuracy: 0.8992 - val_loss: 1.4549 - val_categorical_accuracy: 0.9667\n",
      "Epoch 10/100\n",
      "119/119 [==============================] - 0s 318us/step - loss: 1.4363 - categorical_accuracy: 0.8992 - val_loss: 1.4472 - val_categorical_accuracy: 0.9667\n",
      "Epoch 11/100\n",
      "119/119 [==============================] - 0s 310us/step - loss: 1.4299 - categorical_accuracy: 0.8992 - val_loss: 1.4397 - val_categorical_accuracy: 0.9667\n",
      "Epoch 12/100\n",
      "119/119 [==============================] - 0s 310us/step - loss: 1.4236 - categorical_accuracy: 0.8824 - val_loss: 1.4330 - val_categorical_accuracy: 1.0000\n",
      "Epoch 13/100\n",
      "119/119 [==============================] - 0s 310us/step - loss: 1.4181 - categorical_accuracy: 0.8739 - val_loss: 1.4277 - val_categorical_accuracy: 1.0000\n",
      "Epoch 14/100\n",
      "119/119 [==============================] - 0s 327us/step - loss: 1.4135 - categorical_accuracy: 0.8739 - val_loss: 1.4229 - val_categorical_accuracy: 0.9667\n",
      "Epoch 15/100\n",
      "119/119 [==============================] - 0s 327us/step - loss: 1.4094 - categorical_accuracy: 0.8739 - val_loss: 1.4190 - val_categorical_accuracy: 0.9667\n",
      "Epoch 16/100\n",
      "119/119 [==============================] - 0s 360us/step - loss: 1.4062 - categorical_accuracy: 0.8403 - val_loss: 1.4159 - val_categorical_accuracy: 0.9667\n",
      "Epoch 17/100\n",
      "119/119 [==============================] - 0s 327us/step - loss: 1.4035 - categorical_accuracy: 0.8655 - val_loss: 1.4140 - val_categorical_accuracy: 0.9667\n",
      "Epoch 18/100\n",
      "119/119 [==============================] - 0s 318us/step - loss: 1.4013 - categorical_accuracy: 0.8067 - val_loss: 1.4120 - val_categorical_accuracy: 0.9667\n",
      "Epoch 19/100\n",
      "119/119 [==============================] - 0s 327us/step - loss: 1.3995 - categorical_accuracy: 0.8487 - val_loss: 1.4105 - val_categorical_accuracy: 0.9667\n",
      "Epoch 20/100\n",
      "119/119 [==============================] - 0s 327us/step - loss: 1.3984 - categorical_accuracy: 0.7815 - val_loss: 1.4095 - val_categorical_accuracy: 0.9667\n",
      "Epoch 21/100\n",
      "119/119 [==============================] - 0s 318us/step - loss: 1.3969 - categorical_accuracy: 0.8151 - val_loss: 1.4084 - val_categorical_accuracy: 0.9667\n",
      "Epoch 22/100\n",
      "119/119 [==============================] - 0s 310us/step - loss: 1.3957 - categorical_accuracy: 0.8235 - val_loss: 1.4079 - val_categorical_accuracy: 0.9667\n",
      "Epoch 23/100\n",
      "119/119 [==============================] - 0s 327us/step - loss: 1.3949 - categorical_accuracy: 0.8151 - val_loss: 1.4072 - val_categorical_accuracy: 0.9667\n",
      "Epoch 24/100\n",
      "119/119 [==============================] - 0s 327us/step - loss: 1.3941 - categorical_accuracy: 0.8319 - val_loss: 1.4064 - val_categorical_accuracy: 0.9667\n",
      "Epoch 25/100\n",
      "119/119 [==============================] - 0s 318us/step - loss: 1.3937 - categorical_accuracy: 0.8151 - val_loss: 1.4060 - val_categorical_accuracy: 0.9667\n",
      "Epoch 26/100\n",
      "119/119 [==============================] - 0s 310us/step - loss: 1.3930 - categorical_accuracy: 0.7899 - val_loss: 1.4055 - val_categorical_accuracy: 0.9667\n",
      "Epoch 27/100\n",
      "119/119 [==============================] - 0s 318us/step - loss: 1.3924 - categorical_accuracy: 0.8403 - val_loss: 1.4050 - val_categorical_accuracy: 0.9667\n",
      "Epoch 28/100\n",
      "119/119 [==============================] - 0s 314us/step - loss: 1.3922 - categorical_accuracy: 0.8655 - val_loss: 1.4043 - val_categorical_accuracy: 0.9667\n",
      "Epoch 29/100\n",
      "119/119 [==============================] - 0s 310us/step - loss: 1.3916 - categorical_accuracy: 0.8487 - val_loss: 1.4040 - val_categorical_accuracy: 0.9667\n",
      "Epoch 30/100\n",
      "119/119 [==============================] - 0s 318us/step - loss: 1.3909 - categorical_accuracy: 0.8403 - val_loss: 1.4037 - val_categorical_accuracy: 0.9667\n",
      "Epoch 31/100\n",
      "119/119 [==============================] - 0s 306us/step - loss: 1.3905 - categorical_accuracy: 0.8487 - val_loss: 1.4031 - val_categorical_accuracy: 0.9667\n",
      "Epoch 32/100\n",
      "119/119 [==============================] - 0s 310us/step - loss: 1.3900 - categorical_accuracy: 0.8403 - val_loss: 1.4031 - val_categorical_accuracy: 0.9667\n",
      "Epoch 33/100\n",
      "119/119 [==============================] - 0s 302us/step - loss: 1.3897 - categorical_accuracy: 0.8571 - val_loss: 1.4026 - val_categorical_accuracy: 0.9667\n",
      "Epoch 34/100\n",
      "119/119 [==============================] - 0s 323us/step - loss: 1.3894 - categorical_accuracy: 0.8655 - val_loss: 1.4027 - val_categorical_accuracy: 1.0000\n",
      "Epoch 35/100\n",
      "119/119 [==============================] - 0s 335us/step - loss: 1.3892 - categorical_accuracy: 0.8739 - val_loss: 1.4020 - val_categorical_accuracy: 0.9667\n",
      "Epoch 36/100\n",
      "119/119 [==============================] - 0s 331us/step - loss: 1.3889 - categorical_accuracy: 0.8655 - val_loss: 1.4019 - val_categorical_accuracy: 1.0000\n",
      "Epoch 37/100\n",
      "119/119 [==============================] - 0s 318us/step - loss: 1.3888 - categorical_accuracy: 0.8739 - val_loss: 1.4017 - val_categorical_accuracy: 1.0000\n",
      "Epoch 38/100\n",
      "119/119 [==============================] - 0s 310us/step - loss: 1.3884 - categorical_accuracy: 0.8824 - val_loss: 1.4015 - val_categorical_accuracy: 1.0000\n",
      "Epoch 39/100\n",
      "119/119 [==============================] - 0s 318us/step - loss: 1.3882 - categorical_accuracy: 0.8739 - val_loss: 1.4014 - val_categorical_accuracy: 1.0000\n",
      "Epoch 40/100\n",
      "119/119 [==============================] - 0s 344us/step - loss: 1.3880 - categorical_accuracy: 0.8571 - val_loss: 1.4014 - val_categorical_accuracy: 1.0000\n",
      "Epoch 41/100\n",
      "119/119 [==============================] - 0s 352us/step - loss: 1.3879 - categorical_accuracy: 0.8992 - val_loss: 1.4009 - val_categorical_accuracy: 1.0000\n",
      "Epoch 42/100\n",
      "119/119 [==============================] - 0s 302us/step - loss: 1.3878 - categorical_accuracy: 0.8739 - val_loss: 1.4007 - val_categorical_accuracy: 1.0000\n",
      "Epoch 43/100\n",
      "119/119 [==============================] - 0s 302us/step - loss: 1.3875 - categorical_accuracy: 0.8739 - val_loss: 1.4011 - val_categorical_accuracy: 1.0000\n",
      "Epoch 44/100\n",
      "119/119 [==============================] - 0s 293us/step - loss: 1.3873 - categorical_accuracy: 0.8739 - val_loss: 1.4006 - val_categorical_accuracy: 1.0000\n",
      "Epoch 45/100\n",
      "119/119 [==============================] - 0s 302us/step - loss: 1.3872 - categorical_accuracy: 0.8403 - val_loss: 1.4004 - val_categorical_accuracy: 1.0000\n",
      "Epoch 46/100\n",
      "119/119 [==============================] - 0s 293us/step - loss: 1.3872 - categorical_accuracy: 0.8739 - val_loss: 1.4004 - val_categorical_accuracy: 1.0000\n",
      "Epoch 47/100\n",
      "119/119 [==============================] - 0s 293us/step - loss: 1.3871 - categorical_accuracy: 0.8571 - val_loss: 1.4005 - val_categorical_accuracy: 1.0000\n",
      "Epoch 48/100\n",
      "119/119 [==============================] - 0s 302us/step - loss: 1.3869 - categorical_accuracy: 0.8824 - val_loss: 1.4000 - val_categorical_accuracy: 1.0000\n",
      "Epoch 49/100\n",
      "119/119 [==============================] - 0s 310us/step - loss: 1.3868 - categorical_accuracy: 0.8739 - val_loss: 1.4000 - val_categorical_accuracy: 1.0000\n",
      "Epoch 50/100\n",
      "119/119 [==============================] - 0s 310us/step - loss: 1.3866 - categorical_accuracy: 0.8655 - val_loss: 1.4002 - val_categorical_accuracy: 1.0000\n",
      "Epoch 51/100\n",
      "119/119 [==============================] - 0s 302us/step - loss: 1.3866 - categorical_accuracy: 0.8824 - val_loss: 1.4001 - val_categorical_accuracy: 1.0000\n",
      "Epoch 52/100\n",
      "119/119 [==============================] - 0s 293us/step - loss: 1.3865 - categorical_accuracy: 0.8739 - val_loss: 1.4001 - val_categorical_accuracy: 1.0000\n",
      "Epoch 53/100\n",
      "119/119 [==============================] - 0s 302us/step - loss: 1.3863 - categorical_accuracy: 0.8824 - val_loss: 1.3996 - val_categorical_accuracy: 1.0000\n",
      "Epoch 54/100\n",
      "119/119 [==============================] - 0s 285us/step - loss: 1.3863 - categorical_accuracy: 0.8824 - val_loss: 1.3998 - val_categorical_accuracy: 1.0000\n",
      "Epoch 55/100\n",
      "119/119 [==============================] - 0s 302us/step - loss: 1.3861 - categorical_accuracy: 0.8739 - val_loss: 1.3996 - val_categorical_accuracy: 1.0000\n",
      "Epoch 56/100\n",
      "119/119 [==============================] - 0s 318us/step - loss: 1.3862 - categorical_accuracy: 0.8403 - val_loss: 1.3996 - val_categorical_accuracy: 1.0000\n",
      "Epoch 57/100\n",
      "119/119 [==============================] - 0s 302us/step - loss: 1.3860 - categorical_accuracy: 0.8739 - val_loss: 1.3995 - val_categorical_accuracy: 1.0000\n",
      "Epoch 58/100\n",
      "119/119 [==============================] - 0s 302us/step - loss: 1.3860 - categorical_accuracy: 0.8908 - val_loss: 1.3994 - val_categorical_accuracy: 1.0000\n",
      "Epoch 59/100\n",
      "119/119 [==============================] - 0s 293us/step - loss: 1.3858 - categorical_accuracy: 0.8992 - val_loss: 1.3995 - val_categorical_accuracy: 1.0000\n",
      "Epoch 60/100\n",
      "119/119 [==============================] - 0s 302us/step - loss: 1.3858 - categorical_accuracy: 0.8655 - val_loss: 1.3993 - val_categorical_accuracy: 1.0000\n",
      "Epoch 61/100\n",
      "119/119 [==============================] - 0s 293us/step - loss: 1.3858 - categorical_accuracy: 0.8992 - val_loss: 1.3993 - val_categorical_accuracy: 1.0000\n",
      "Epoch 62/100\n",
      "119/119 [==============================] - 0s 293us/step - loss: 1.3857 - categorical_accuracy: 0.8824 - val_loss: 1.3993 - val_categorical_accuracy: 1.0000\n",
      "Epoch 63/100\n",
      "119/119 [==============================] - 0s 293us/step - loss: 1.3856 - categorical_accuracy: 0.8739 - val_loss: 1.3993 - val_categorical_accuracy: 1.0000\n",
      "Epoch 64/100\n",
      "119/119 [==============================] - 0s 302us/step - loss: 1.3854 - categorical_accuracy: 0.8824 - val_loss: 1.3993 - val_categorical_accuracy: 1.0000\n",
      "Epoch 65/100\n",
      "119/119 [==============================] - 0s 302us/step - loss: 1.3854 - categorical_accuracy: 0.8992 - val_loss: 1.3993 - val_categorical_accuracy: 1.0000\n",
      "Epoch 66/100\n",
      "119/119 [==============================] - 0s 302us/step - loss: 1.3852 - categorical_accuracy: 0.9076 - val_loss: 1.3995 - val_categorical_accuracy: 1.0000\n",
      "Epoch 67/100\n",
      "119/119 [==============================] - 0s 293us/step - loss: 1.3852 - categorical_accuracy: 0.8992 - val_loss: 1.3995 - val_categorical_accuracy: 0.9667\n",
      "Epoch 68/100\n",
      "119/119 [==============================] - 0s 293us/step - loss: 1.3849 - categorical_accuracy: 0.9076 - val_loss: 1.3993 - val_categorical_accuracy: 0.9667\n",
      "Epoch 69/100\n",
      "119/119 [==============================] - 0s 318us/step - loss: 1.3848 - categorical_accuracy: 0.9244 - val_loss: 1.3995 - val_categorical_accuracy: 0.9667\n",
      "Epoch 70/100\n",
      "119/119 [==============================] - 0s 293us/step - loss: 1.3847 - categorical_accuracy: 0.9160 - val_loss: 1.3991 - val_categorical_accuracy: 0.9667\n",
      "Epoch 71/100\n",
      "119/119 [==============================] - 0s 302us/step - loss: 1.3846 - categorical_accuracy: 0.9076 - val_loss: 1.3992 - val_categorical_accuracy: 0.9667\n",
      "Epoch 72/100\n",
      "119/119 [==============================] - 0s 302us/step - loss: 1.3845 - categorical_accuracy: 0.9160 - val_loss: 1.3992 - val_categorical_accuracy: 0.9667\n",
      "Epoch 73/100\n",
      "119/119 [==============================] - 0s 302us/step - loss: 1.3844 - categorical_accuracy: 0.9244 - val_loss: 1.3993 - val_categorical_accuracy: 0.9667\n",
      "Epoch 74/100\n",
      "119/119 [==============================] - 0s 293us/step - loss: 1.3843 - categorical_accuracy: 0.9244 - val_loss: 1.3992 - val_categorical_accuracy: 0.9667\n",
      "Epoch 75/100\n",
      "119/119 [==============================] - 0s 298us/step - loss: 1.3843 - categorical_accuracy: 0.9244 - val_loss: 1.3990 - val_categorical_accuracy: 0.9667\n",
      "Epoch 76/100\n",
      "119/119 [==============================] - 0s 293us/step - loss: 1.3842 - categorical_accuracy: 0.8908 - val_loss: 1.3990 - val_categorical_accuracy: 0.9667\n",
      "Epoch 77/100\n",
      "119/119 [==============================] - 0s 285us/step - loss: 1.3841 - categorical_accuracy: 0.9244 - val_loss: 1.3990 - val_categorical_accuracy: 0.9667\n",
      "Epoch 78/100\n",
      "119/119 [==============================] - 0s 306us/step - loss: 1.3841 - categorical_accuracy: 0.9076 - val_loss: 1.3989 - val_categorical_accuracy: 0.9667\n",
      "Epoch 79/100\n",
      "119/119 [==============================] - 0s 293us/step - loss: 1.3841 - categorical_accuracy: 0.9160 - val_loss: 1.3991 - val_categorical_accuracy: 1.0000\n",
      "Epoch 80/100\n",
      "119/119 [==============================] - 0s 298us/step - loss: 1.3841 - categorical_accuracy: 0.9244 - val_loss: 1.3990 - val_categorical_accuracy: 0.9667\n",
      "Epoch 81/100\n",
      "119/119 [==============================] - 0s 293us/step - loss: 1.3839 - categorical_accuracy: 0.9160 - val_loss: 1.3983 - val_categorical_accuracy: 1.0000\n",
      "Epoch 82/100\n",
      "119/119 [==============================] - 0s 302us/step - loss: 1.3839 - categorical_accuracy: 0.9160 - val_loss: 1.3983 - val_categorical_accuracy: 0.9667\n",
      "Epoch 83/100\n",
      "119/119 [==============================] - 0s 293us/step - loss: 1.3838 - categorical_accuracy: 0.9160 - val_loss: 1.3983 - val_categorical_accuracy: 0.9667\n",
      "Epoch 84/100\n",
      "119/119 [==============================] - 0s 310us/step - loss: 1.3839 - categorical_accuracy: 0.9160 - val_loss: 1.3984 - val_categorical_accuracy: 0.9667\n",
      "Epoch 85/100\n",
      "119/119 [==============================] - 0s 302us/step - loss: 1.3838 - categorical_accuracy: 0.9160 - val_loss: 1.3981 - val_categorical_accuracy: 0.9667\n",
      "Epoch 86/100\n",
      "119/119 [==============================] - 0s 293us/step - loss: 1.3837 - categorical_accuracy: 0.9076 - val_loss: 1.3981 - val_categorical_accuracy: 0.9667\n",
      "Epoch 87/100\n",
      "119/119 [==============================] - 0s 285us/step - loss: 1.3837 - categorical_accuracy: 0.9244 - val_loss: 1.3981 - val_categorical_accuracy: 0.9667\n",
      "Epoch 88/100\n",
      "119/119 [==============================] - 0s 285us/step - loss: 1.3836 - categorical_accuracy: 0.9244 - val_loss: 1.3979 - val_categorical_accuracy: 0.9667\n",
      "Epoch 89/100\n",
      "119/119 [==============================] - 0s 293us/step - loss: 1.3835 - categorical_accuracy: 0.9160 - val_loss: 1.3979 - val_categorical_accuracy: 0.9667\n",
      "Epoch 90/100\n",
      "119/119 [==============================] - 0s 302us/step - loss: 1.3835 - categorical_accuracy: 0.9244 - val_loss: 1.3977 - val_categorical_accuracy: 0.9667\n",
      "Epoch 91/100\n",
      "119/119 [==============================] - 0s 302us/step - loss: 1.3834 - categorical_accuracy: 0.8992 - val_loss: 1.3981 - val_categorical_accuracy: 0.9667\n",
      "Epoch 92/100\n",
      "119/119 [==============================] - 0s 293us/step - loss: 1.3833 - categorical_accuracy: 0.9160 - val_loss: 1.3980 - val_categorical_accuracy: 1.0000\n",
      "Epoch 93/100\n",
      "119/119 [==============================] - 0s 302us/step - loss: 1.3833 - categorical_accuracy: 0.9244 - val_loss: 1.3980 - val_categorical_accuracy: 0.9667\n",
      "Epoch 94/100\n",
      "119/119 [==============================] - 0s 310us/step - loss: 1.3833 - categorical_accuracy: 0.9244 - val_loss: 1.3977 - val_categorical_accuracy: 0.9667\n",
      "Epoch 95/100\n",
      "119/119 [==============================] - 0s 310us/step - loss: 1.3833 - categorical_accuracy: 0.9160 - val_loss: 1.3972 - val_categorical_accuracy: 0.9667\n",
      "Epoch 96/100\n",
      "119/119 [==============================] - 0s 285us/step - loss: 1.3831 - categorical_accuracy: 0.9244 - val_loss: 1.3975 - val_categorical_accuracy: 0.9667\n",
      "Epoch 97/100\n",
      "119/119 [==============================] - 0s 344us/step - loss: 1.3831 - categorical_accuracy: 0.9244 - val_loss: 1.3975 - val_categorical_accuracy: 0.9667\n",
      "Epoch 98/100\n",
      "119/119 [==============================] - 0s 302us/step - loss: 1.3831 - categorical_accuracy: 0.9244 - val_loss: 1.3974 - val_categorical_accuracy: 0.9667\n",
      "Epoch 99/100\n",
      "119/119 [==============================] - 0s 302us/step - loss: 1.3831 - categorical_accuracy: 0.9244 - val_loss: 1.3973 - val_categorical_accuracy: 0.9667\n",
      "Epoch 100/100\n",
      "119/119 [==============================] - 0s 293us/step - loss: 1.3830 - categorical_accuracy: 0.9244 - val_loss: 1.3974 - val_categorical_accuracy: 0.9667\n"
     ]
    }
   ],
   "source": [
    "model = make_nn(x_train.shape[1], y_train.shape[1])\n",
    "\n",
    "print('Начинаем обучение')\n",
    "history = model.fit(\n",
    "    x=x_train,\n",
    "    y=y_train,\n",
    "    batch_size=3,\n",
    "    epochs=100,\n",
    "    verbose=1,\n",
    "    validation_data=(x_test,y_test),\n",
    "    callbacks=[\n",
    "        callbacks.History()\n",
    "    ]\n",
    ")"
   ]
  },
  {
   "cell_type": "code",
   "execution_count": 113,
   "metadata": {
    "collapsed": false
   },
   "outputs": [
    {
     "data": {
      "text/plain": [
       "<matplotlib.legend.Legend at 0x243a9411160>"
      ]
     },
     "execution_count": 113,
     "metadata": {},
     "output_type": "execute_result"
    },
    {
     "data": {
      "image/png": "[encoded data removed]",
      "text/plain": [
       "<matplotlib.figure.Figure at 0x243a8ff77b8>"
      ]
     },
     "metadata": {},
     "output_type": "display_data"
    }
   ],
   "source": [
    "plt.figure(0, figsize=(8,5))\n",
    "plt.plot(history.history['loss'])\n",
    "plt.plot(history.history['val_loss'])\n",
    "plt.title('График ошибки')\n",
    "plt.ylabel('Значение')\n",
    "plt.xlabel('Эпоха')\n",
    "plt.legend(['Ошибка (train)', 'Ошибка (test)'])"
   ]
  },
  {
   "cell_type": "code",
   "execution_count": 114,
   "metadata": {
    "collapsed": false
   },
   "outputs": [
    {
     "data": {
      "text/plain": [
       "<matplotlib.legend.Legend at 0x243a90f01d0>"
      ]
     },
     "execution_count": 114,
     "metadata": {},
     "output_type": "execute_result"
    },
    {
     "data": {
      "image/png": "[encoded data removed]",
      "text/plain": [
       "<matplotlib.figure.Figure at 0x243a9426ac8>"
      ]
     },
     "metadata": {},
     "output_type": "display_data"
    }
   ],
   "source": [
    "plt.figure(1, figsize=(8,5))\n",
    "plt.plot(history.history['categorical_accuracy'])\n",
    "plt.plot(history.history['val_categorical_accuracy'])\n",
    "plt.title('График точности')\n",
    "plt.ylabel('Значение')\n",
    "plt.xlabel('Эпоха')\n",
    "plt.legend(['Точность (train)', 'Точность (test)'])"
   ]
  },
  {
   "cell_type": "code",
   "execution_count": 127,
   "metadata": {
    "collapsed": false
   },
   "outputs": [
    {
     "name": "stdout",
     "output_type": "stream",
     "text": [
      "Начинаем обучение сети\n",
      "Train on 95 samples, validate on 24 samples\n",
      "Epoch 1/100\n",
      "95/95 [==============================] - 1s 6ms/step - loss: 1.4871 - categorical_accuracy: 0.5789 - val_loss: 1.5562 - val_categorical_accuracy: 0.5417\n",
      "Epoch 2/100\n",
      "95/95 [==============================] - 0s 310us/step - loss: 1.4676 - categorical_accuracy: 0.5789 - val_loss: 1.5379 - val_categorical_accuracy: 0.5417\n",
      "Epoch 3/100\n",
      "95/95 [==============================] - 0s 315us/step - loss: 1.4566 - categorical_accuracy: 0.5474 - val_loss: 1.5265 - val_categorical_accuracy: 0.5833\n",
      "Epoch 4/100\n",
      "95/95 [==============================] - 0s 304us/step - loss: 1.4480 - categorical_accuracy: 0.8000 - val_loss: 1.5166 - val_categorical_accuracy: 0.7917\n",
      "Epoch 5/100\n",
      "95/95 [==============================] - 0s 310us/step - loss: 1.4402 - categorical_accuracy: 0.8316 - val_loss: 1.5061 - val_categorical_accuracy: 0.7917\n",
      "Epoch 6/100\n",
      "95/95 [==============================] - 0s 325us/step - loss: 1.4322 - categorical_accuracy: 0.8316 - val_loss: 1.4996 - val_categorical_accuracy: 0.8333\n",
      "Epoch 7/100\n",
      "95/95 [==============================] - 0s 325us/step - loss: 1.4258 - categorical_accuracy: 0.8316 - val_loss: 1.4923 - val_categorical_accuracy: 0.8333\n",
      "Epoch 8/100\n",
      "95/95 [==============================] - 0s 320us/step - loss: 1.4195 - categorical_accuracy: 0.8421 - val_loss: 1.4852 - val_categorical_accuracy: 0.8333\n",
      "Epoch 9/100\n",
      "95/95 [==============================] - 0s 325us/step - loss: 1.4136 - categorical_accuracy: 0.8421 - val_loss: 1.4794 - val_categorical_accuracy: 0.7917\n",
      "Epoch 10/100\n",
      "95/95 [==============================] - 0s 336us/step - loss: 1.4084 - categorical_accuracy: 0.8421 - val_loss: 1.4745 - val_categorical_accuracy: 0.7917\n",
      "Epoch 11/100\n",
      "95/95 [==============================] - 0s 320us/step - loss: 1.4037 - categorical_accuracy: 0.8421 - val_loss: 1.4692 - val_categorical_accuracy: 0.7500\n",
      "Epoch 12/100\n",
      "95/95 [==============================] - 0s 325us/step - loss: 1.3993 - categorical_accuracy: 0.8316 - val_loss: 1.4653 - val_categorical_accuracy: 0.7500\n",
      "Epoch 13/100\n",
      "95/95 [==============================] - 0s 315us/step - loss: 1.3957 - categorical_accuracy: 0.8316 - val_loss: 1.4618 - val_categorical_accuracy: 0.7917\n",
      "Epoch 14/100\n",
      "95/95 [==============================] - 0s 325us/step - loss: 1.3921 - categorical_accuracy: 0.8421 - val_loss: 1.4589 - val_categorical_accuracy: 0.7500\n",
      "Epoch 15/100\n",
      "95/95 [==============================] - 0s 315us/step - loss: 1.3892 - categorical_accuracy: 0.8526 - val_loss: 1.4565 - val_categorical_accuracy: 0.7917\n",
      "Epoch 16/100\n",
      "95/95 [==============================] - 0s 325us/step - loss: 1.3865 - categorical_accuracy: 0.8526 - val_loss: 1.4547 - val_categorical_accuracy: 0.7500\n",
      "Epoch 17/100\n",
      "95/95 [==============================] - 0s 336us/step - loss: 1.3846 - categorical_accuracy: 0.8526 - val_loss: 1.4531 - val_categorical_accuracy: 0.7500\n",
      "Epoch 18/100\n",
      "95/95 [==============================] - 0s 315us/step - loss: 1.3827 - categorical_accuracy: 0.8632 - val_loss: 1.4523 - val_categorical_accuracy: 0.7917\n",
      "Epoch 19/100\n",
      "95/95 [==============================] - 0s 315us/step - loss: 1.3812 - categorical_accuracy: 0.8842 - val_loss: 1.4513 - val_categorical_accuracy: 0.7917\n",
      "Epoch 20/100\n",
      "95/95 [==============================] - 0s 325us/step - loss: 1.3799 - categorical_accuracy: 0.8842 - val_loss: 1.4507 - val_categorical_accuracy: 0.8333\n",
      "Epoch 21/100\n",
      "95/95 [==============================] - 0s 336us/step - loss: 1.3790 - categorical_accuracy: 0.8842 - val_loss: 1.4502 - val_categorical_accuracy: 0.8333\n",
      "Epoch 22/100\n",
      "95/95 [==============================] - 0s 315us/step - loss: 1.3780 - categorical_accuracy: 0.8842 - val_loss: 1.4497 - val_categorical_accuracy: 0.7917\n",
      "Epoch 23/100\n",
      "95/95 [==============================] - 0s 336us/step - loss: 1.3772 - categorical_accuracy: 0.8842 - val_loss: 1.4497 - val_categorical_accuracy: 0.8333\n",
      "Epoch 24/100\n",
      "95/95 [==============================] - 0s 325us/step - loss: 1.3765 - categorical_accuracy: 0.8842 - val_loss: 1.4492 - val_categorical_accuracy: 0.8750\n",
      "Epoch 25/100\n",
      "95/95 [==============================] - 0s 325us/step - loss: 1.3758 - categorical_accuracy: 0.8842 - val_loss: 1.4492 - val_categorical_accuracy: 0.8750\n",
      "Epoch 26/100\n",
      "95/95 [==============================] - 0s 357us/step - loss: 1.3753 - categorical_accuracy: 0.8842 - val_loss: 1.4489 - val_categorical_accuracy: 0.8750\n",
      "Epoch 27/100\n",
      "95/95 [==============================] - 0s 367us/step - loss: 1.3748 - categorical_accuracy: 0.8842 - val_loss: 1.4486 - val_categorical_accuracy: 0.8750\n",
      "Epoch 28/100\n",
      "95/95 [==============================] - 0s 388us/step - loss: 1.3745 - categorical_accuracy: 0.8737 - val_loss: 1.4483 - val_categorical_accuracy: 0.9167\n",
      "Epoch 29/100\n",
      "95/95 [==============================] - 0s 357us/step - loss: 1.3741 - categorical_accuracy: 0.8842 - val_loss: 1.4481 - val_categorical_accuracy: 0.9167\n",
      "Epoch 30/100\n",
      "95/95 [==============================] - 0s 357us/step - loss: 1.3735 - categorical_accuracy: 0.8947 - val_loss: 1.4478 - val_categorical_accuracy: 0.9167\n",
      "Epoch 31/100\n",
      "95/95 [==============================] - 0s 346us/step - loss: 1.3731 - categorical_accuracy: 0.8842 - val_loss: 1.4477 - val_categorical_accuracy: 0.9167\n",
      "Epoch 32/100\n",
      "95/95 [==============================] - 0s 378us/step - loss: 1.3727 - categorical_accuracy: 0.8842 - val_loss: 1.4475 - val_categorical_accuracy: 0.9167\n",
      "Epoch 33/100\n",
      "95/95 [==============================] - 0s 367us/step - loss: 1.3725 - categorical_accuracy: 0.8842 - val_loss: 1.4472 - val_categorical_accuracy: 0.9167\n",
      "Epoch 34/100\n",
      "95/95 [==============================] - 0s 357us/step - loss: 1.3722 - categorical_accuracy: 0.8842 - val_loss: 1.4468 - val_categorical_accuracy: 0.9583\n",
      "Epoch 35/100\n",
      "95/95 [==============================] - 0s 346us/step - loss: 1.3719 - categorical_accuracy: 0.8842 - val_loss: 1.4466 - val_categorical_accuracy: 0.9583\n",
      "Epoch 36/100\n",
      "95/95 [==============================] - 0s 357us/step - loss: 1.3716 - categorical_accuracy: 0.8842 - val_loss: 1.4466 - val_categorical_accuracy: 0.9583\n",
      "Epoch 37/100\n",
      "95/95 [==============================] - 0s 357us/step - loss: 1.3713 - categorical_accuracy: 0.8842 - val_loss: 1.4464 - val_categorical_accuracy: 0.9583\n",
      "Epoch 38/100\n",
      "95/95 [==============================] - 0s 346us/step - loss: 1.3711 - categorical_accuracy: 0.8842 - val_loss: 1.4462 - val_categorical_accuracy: 0.9583\n",
      "Epoch 39/100\n",
      "95/95 [==============================] - 0s 357us/step - loss: 1.3709 - categorical_accuracy: 0.8842 - val_loss: 1.4462 - val_categorical_accuracy: 0.9583\n",
      "Epoch 40/100\n",
      "95/95 [==============================] - 0s 315us/step - loss: 1.3706 - categorical_accuracy: 0.8842 - val_loss: 1.4461 - val_categorical_accuracy: 0.9583\n",
      "Epoch 41/100\n",
      "95/95 [==============================] - 0s 357us/step - loss: 1.3703 - categorical_accuracy: 0.8842 - val_loss: 1.4458 - val_categorical_accuracy: 0.9583\n",
      "Epoch 42/100\n",
      "95/95 [==============================] - 0s 315us/step - loss: 1.3701 - categorical_accuracy: 0.8947 - val_loss: 1.4456 - val_categorical_accuracy: 0.9583\n",
      "Epoch 43/100\n",
      "95/95 [==============================] - 0s 315us/step - loss: 1.3699 - categorical_accuracy: 0.8947 - val_loss: 1.4455 - val_categorical_accuracy: 0.9583\n",
      "Epoch 44/100\n",
      "95/95 [==============================] - 0s 336us/step - loss: 1.3697 - categorical_accuracy: 0.8947 - val_loss: 1.4453 - val_categorical_accuracy: 0.9583\n",
      "Epoch 45/100\n",
      "95/95 [==============================] - 0s 325us/step - loss: 1.3695 - categorical_accuracy: 0.8947 - val_loss: 1.4454 - val_categorical_accuracy: 0.9583\n",
      "Epoch 46/100\n",
      "95/95 [==============================] - 0s 304us/step - loss: 1.3692 - categorical_accuracy: 0.8947 - val_loss: 1.4450 - val_categorical_accuracy: 0.9583\n",
      "Epoch 47/100\n",
      "95/95 [==============================] - 0s 315us/step - loss: 1.3691 - categorical_accuracy: 0.8947 - val_loss: 1.4449 - val_categorical_accuracy: 0.9583\n",
      "Epoch 48/100\n",
      "95/95 [==============================] - 0s 325us/step - loss: 1.3688 - categorical_accuracy: 0.8947 - val_loss: 1.4450 - val_categorical_accuracy: 0.9583\n",
      "Epoch 49/100\n",
      "95/95 [==============================] - 0s 325us/step - loss: 1.3686 - categorical_accuracy: 0.8947 - val_loss: 1.4447 - val_categorical_accuracy: 0.9583\n",
      "Epoch 50/100\n",
      "95/95 [==============================] - 0s 315us/step - loss: 1.3684 - categorical_accuracy: 0.8947 - val_loss: 1.4445 - val_categorical_accuracy: 0.9583\n",
      "Epoch 51/100\n",
      "95/95 [==============================] - 0s 315us/step - loss: 1.3682 - categorical_accuracy: 0.8947 - val_loss: 1.4444 - val_categorical_accuracy: 0.9583\n",
      "Epoch 52/100\n",
      "95/95 [==============================] - 0s 320us/step - loss: 1.3681 - categorical_accuracy: 0.8947 - val_loss: 1.4445 - val_categorical_accuracy: 0.9583\n",
      "Epoch 53/100\n",
      "95/95 [==============================] - 0s 294us/step - loss: 1.3679 - categorical_accuracy: 0.8947 - val_loss: 1.4443 - val_categorical_accuracy: 0.9583\n",
      "Epoch 54/100\n",
      "95/95 [==============================] - 0s 325us/step - loss: 1.3677 - categorical_accuracy: 0.8947 - val_loss: 1.4442 - val_categorical_accuracy: 0.9583\n",
      "Epoch 55/100\n",
      "95/95 [==============================] - 0s 310us/step - loss: 1.3675 - categorical_accuracy: 0.8947 - val_loss: 1.4441 - val_categorical_accuracy: 0.9583\n",
      "Epoch 56/100\n",
      "95/95 [==============================] - 0s 325us/step - loss: 1.3673 - categorical_accuracy: 0.8947 - val_loss: 1.4440 - val_categorical_accuracy: 0.9583\n",
      "Epoch 57/100\n",
      "95/95 [==============================] - 0s 315us/step - loss: 1.3672 - categorical_accuracy: 0.8947 - val_loss: 1.4440 - val_categorical_accuracy: 0.9583\n",
      "Epoch 58/100\n",
      "95/95 [==============================] - 0s 336us/step - loss: 1.3670 - categorical_accuracy: 0.8947 - val_loss: 1.4439 - val_categorical_accuracy: 0.9583\n",
      "Epoch 59/100\n",
      "95/95 [==============================] - 0s 336us/step - loss: 1.3669 - categorical_accuracy: 0.8947 - val_loss: 1.4438 - val_categorical_accuracy: 0.9583\n",
      "Epoch 60/100\n",
      "95/95 [==============================] - 0s 315us/step - loss: 1.3668 - categorical_accuracy: 0.8947 - val_loss: 1.4437 - val_categorical_accuracy: 0.9583\n",
      "Epoch 61/100\n",
      "95/95 [==============================] - 0s 346us/step - loss: 1.3666 - categorical_accuracy: 0.8947 - val_loss: 1.4437 - val_categorical_accuracy: 0.9583\n",
      "Epoch 62/100\n",
      "95/95 [==============================] - 0s 304us/step - loss: 1.3666 - categorical_accuracy: 0.8947 - val_loss: 1.4437 - val_categorical_accuracy: 0.9583\n",
      "Epoch 63/100\n",
      "95/95 [==============================] - 0s 304us/step - loss: 1.3663 - categorical_accuracy: 0.8842 - val_loss: 1.4434 - val_categorical_accuracy: 0.9583\n",
      "Epoch 64/100\n",
      "95/95 [==============================] - 0s 315us/step - loss: 1.3663 - categorical_accuracy: 0.8947 - val_loss: 1.4434 - val_categorical_accuracy: 0.9583\n",
      "Epoch 65/100\n",
      "95/95 [==============================] - 0s 304us/step - loss: 1.3662 - categorical_accuracy: 0.9053 - val_loss: 1.4433 - val_categorical_accuracy: 0.9583\n",
      "Epoch 66/100\n",
      "95/95 [==============================] - 0s 315us/step - loss: 1.3660 - categorical_accuracy: 0.8842 - val_loss: 1.4430 - val_categorical_accuracy: 0.9583\n",
      "Epoch 67/100\n",
      "95/95 [==============================] - 0s 315us/step - loss: 1.3660 - categorical_accuracy: 0.8842 - val_loss: 1.4433 - val_categorical_accuracy: 0.9583\n",
      "Epoch 68/100\n",
      "95/95 [==============================] - 0s 315us/step - loss: 1.3658 - categorical_accuracy: 0.8947 - val_loss: 1.4434 - val_categorical_accuracy: 0.9583\n",
      "Epoch 69/100\n",
      "95/95 [==============================] - 0s 315us/step - loss: 1.3657 - categorical_accuracy: 0.8737 - val_loss: 1.4430 - val_categorical_accuracy: 0.9583\n",
      "Epoch 70/100\n",
      "95/95 [==============================] - 0s 325us/step - loss: 1.3656 - categorical_accuracy: 0.8947 - val_loss: 1.4431 - val_categorical_accuracy: 0.9583\n",
      "Epoch 71/100\n",
      "95/95 [==============================] - 0s 315us/step - loss: 1.3655 - categorical_accuracy: 0.8842 - val_loss: 1.4429 - val_categorical_accuracy: 0.9583\n",
      "Epoch 72/100\n",
      "95/95 [==============================] - 0s 325us/step - loss: 1.3655 - categorical_accuracy: 0.8842 - val_loss: 1.4427 - val_categorical_accuracy: 0.9583\n",
      "Epoch 73/100\n",
      "95/95 [==============================] - 0s 325us/step - loss: 1.3653 - categorical_accuracy: 0.8947 - val_loss: 1.4428 - val_categorical_accuracy: 0.9583\n",
      "Epoch 74/100\n",
      "95/95 [==============================] - 0s 315us/step - loss: 1.3653 - categorical_accuracy: 0.8842 - val_loss: 1.4429 - val_categorical_accuracy: 0.9583\n",
      "Epoch 75/100\n",
      "95/95 [==============================] - 0s 283us/step - loss: 1.3652 - categorical_accuracy: 0.8842 - val_loss: 1.4428 - val_categorical_accuracy: 0.9583\n",
      "Epoch 76/100\n",
      "95/95 [==============================] - 0s 325us/step - loss: 1.3650 - categorical_accuracy: 0.8947 - val_loss: 1.4425 - val_categorical_accuracy: 0.9583\n",
      "Epoch 77/100\n",
      "95/95 [==============================] - 0s 315us/step - loss: 1.3650 - categorical_accuracy: 0.8947 - val_loss: 1.4425 - val_categorical_accuracy: 0.9583\n",
      "Epoch 78/100\n",
      "95/95 [==============================] - 0s 336us/step - loss: 1.3649 - categorical_accuracy: 0.8842 - val_loss: 1.4426 - val_categorical_accuracy: 0.9583\n",
      "Epoch 79/100\n",
      "95/95 [==============================] - 0s 315us/step - loss: 1.3650 - categorical_accuracy: 0.8842 - val_loss: 1.4425 - val_categorical_accuracy: 0.9583\n",
      "Epoch 80/100\n",
      "95/95 [==============================] - 0s 304us/step - loss: 1.3648 - categorical_accuracy: 0.8842 - val_loss: 1.4425 - val_categorical_accuracy: 0.9167\n",
      "Epoch 81/100\n",
      "95/95 [==============================] - 0s 315us/step - loss: 1.3647 - categorical_accuracy: 0.8737 - val_loss: 1.4422 - val_categorical_accuracy: 0.9167\n",
      "Epoch 82/100\n",
      "95/95 [==============================] - 0s 304us/step - loss: 1.3646 - categorical_accuracy: 0.8842 - val_loss: 1.4424 - val_categorical_accuracy: 0.9583\n",
      "Epoch 83/100\n",
      "95/95 [==============================] - 0s 304us/step - loss: 1.3645 - categorical_accuracy: 0.8842 - val_loss: 1.4422 - val_categorical_accuracy: 0.9583\n",
      "Epoch 84/100\n",
      "95/95 [==============================] - 0s 315us/step - loss: 1.3645 - categorical_accuracy: 0.8842 - val_loss: 1.4422 - val_categorical_accuracy: 0.9583\n",
      "Epoch 85/100\n",
      "95/95 [==============================] - 0s 294us/step - loss: 1.3645 - categorical_accuracy: 0.8842 - val_loss: 1.4422 - val_categorical_accuracy: 0.9167\n",
      "Epoch 86/100\n",
      "95/95 [==============================] - 0s 304us/step - loss: 1.3644 - categorical_accuracy: 0.8947 - val_loss: 1.4422 - val_categorical_accuracy: 0.9167\n",
      "Epoch 87/100\n",
      "95/95 [==============================] - 0s 315us/step - loss: 1.3644 - categorical_accuracy: 0.9053 - val_loss: 1.4421 - val_categorical_accuracy: 0.9583\n",
      "Epoch 88/100\n",
      "95/95 [==============================] - 0s 304us/step - loss: 1.3644 - categorical_accuracy: 0.8737 - val_loss: 1.4419 - val_categorical_accuracy: 0.9167\n",
      "Epoch 89/100\n",
      "95/95 [==============================] - 0s 315us/step - loss: 1.3642 - categorical_accuracy: 0.8842 - val_loss: 1.4421 - val_categorical_accuracy: 0.9167\n",
      "Epoch 90/100\n",
      "95/95 [==============================] - 0s 315us/step - loss: 1.3642 - categorical_accuracy: 0.8737 - val_loss: 1.4416 - val_categorical_accuracy: 0.9583\n",
      "Epoch 91/100\n",
      "95/95 [==============================] - 0s 315us/step - loss: 1.3640 - categorical_accuracy: 0.8737 - val_loss: 1.4420 - val_categorical_accuracy: 0.9583\n",
      "Epoch 92/100\n",
      "95/95 [==============================] - 0s 336us/step - loss: 1.3641 - categorical_accuracy: 0.8737 - val_loss: 1.4418 - val_categorical_accuracy: 0.9167\n",
      "Epoch 93/100\n",
      "95/95 [==============================] - 0s 336us/step - loss: 1.3641 - categorical_accuracy: 0.8947 - val_loss: 1.4418 - val_categorical_accuracy: 0.9583\n",
      "Epoch 94/100\n",
      "95/95 [==============================] - 0s 315us/step - loss: 1.3640 - categorical_accuracy: 0.8947 - val_loss: 1.4415 - val_categorical_accuracy: 0.9167\n",
      "Epoch 95/100\n",
      "95/95 [==============================] - 0s 283us/step - loss: 1.3639 - categorical_accuracy: 0.8737 - val_loss: 1.4416 - val_categorical_accuracy: 0.9583\n",
      "Epoch 96/100\n",
      "95/95 [==============================] - 0s 325us/step - loss: 1.3638 - categorical_accuracy: 0.8842 - val_loss: 1.4415 - val_categorical_accuracy: 0.9583\n",
      "Epoch 97/100\n",
      "95/95 [==============================] - 0s 325us/step - loss: 1.3639 - categorical_accuracy: 0.9053 - val_loss: 1.4415 - val_categorical_accuracy: 0.9167\n",
      "Epoch 98/100\n",
      "95/95 [==============================] - 0s 331us/step - loss: 1.3637 - categorical_accuracy: 0.8842 - val_loss: 1.4414 - val_categorical_accuracy: 0.9583\n",
      "Epoch 99/100\n",
      "95/95 [==============================] - 0s 315us/step - loss: 1.3638 - categorical_accuracy: 0.8737 - val_loss: 1.4412 - val_categorical_accuracy: 0.9167\n",
      "Epoch 100/100\n",
      "95/95 [==============================] - 0s 304us/step - loss: 1.3636 - categorical_accuracy: 0.8947 - val_loss: 1.4412 - val_categorical_accuracy: 0.9583\n"
     ]
    }
   ],
   "source": [
    "model = make_nn(number_data_x.shape[1], number_data_y.shape[1])\n",
    "\n",
    "print('Начинаем обучение сети')\n",
    "history = model.fit(\n",
    "    x=x_train,\n",
    "    y=y_train,\n",
    "    batch_size=3,\n",
    "    epochs=100,\n",
    "    verbose=1,\n",
    "#     Вот это разделения данных в соотношении 80/20\n",
    "    validation_split=0.2,\n",
    "    callbacks=[\n",
    "        callbacks.History(),\n",
    "    ]\n",
    "    \n",
    ")"
   ]
  },
  {
   "cell_type": "code",
   "execution_count": 128,
   "metadata": {
    "collapsed": false
   },
   "outputs": [
    {
     "data": {
      "text/plain": [
       "<matplotlib.legend.Legend at 0x243ae6af6d8>"
      ]
     },
     "execution_count": 128,
     "metadata": {},
     "output_type": "execute_result"
    },
    {
     "data": {
      "image/png": "[encoded data removed]",
      "text/plain": [
       "<matplotlib.figure.Figure at 0x243ae5caf60>"
      ]
     },
     "metadata": {},
     "output_type": "display_data"
    },
    {
     "data": {
      "image/png": "[encoded data removed]",
      "text/plain": [
       "<matplotlib.figure.Figure at 0x243ae71e9b0>"
      ]
     },
     "metadata": {},
     "output_type": "display_data"
    }
   ],
   "source": [
    "plt.figure(0, figsize=(8,5))\n",
    "plt.plot(history.history['loss'])\n",
    "plt.plot(history.history['val_loss'])\n",
    "plt.title('График ошибки')\n",
    "plt.ylabel('Значение')\n",
    "plt.xlabel('Эпоха')\n",
    "plt.legend(['Ошибка (train)', 'Ошибка (test)'])\n",
    "\n",
    "plt.figure(1, figsize=(8,5))\n",
    "plt.plot(history.history['categorical_accuracy'])\n",
    "plt.plot(history.history['val_categorical_accuracy'])\n",
    "plt.title('График точности')\n",
    "plt.ylabel('Значение')\n",
    "plt.xlabel('Эпоха')\n",
    "plt.legend(['Точность (train)', 'Точность (test)'])"
   ]
  },
  {
   "cell_type": "code",
   "execution_count": 129,
   "metadata": {
    "collapsed": false
   },
   "outputs": [
    {
     "name": "stdout",
     "output_type": "stream",
     "text": [
      "Начинаем обучение\n",
      "Train on 95 samples, validate on 24 samples\n",
      "Epoch 1/300\n",
      "95/95 [==============================] - 1s 6ms/step - loss: 1.4751 - categorical_accuracy: 0.6105 - val_loss: 1.5543 - val_categorical_accuracy: 0.6250\n",
      "Epoch 2/300\n",
      "95/95 [==============================] - 0s 325us/step - loss: 1.4685 - categorical_accuracy: 0.6632 - val_loss: 1.5492 - val_categorical_accuracy: 0.6667\n",
      "Epoch 3/300\n",
      "95/95 [==============================] - 0s 336us/step - loss: 1.4620 - categorical_accuracy: 0.8105 - val_loss: 1.5438 - val_categorical_accuracy: 0.7917\n",
      "Epoch 4/300\n",
      "95/95 [==============================] - 0s 325us/step - loss: 1.4562 - categorical_accuracy: 0.9053 - val_loss: 1.5390 - val_categorical_accuracy: 0.8750\n",
      "Epoch 5/300\n",
      "95/95 [==============================] - 0s 325us/step - loss: 1.4513 - categorical_accuracy: 0.9053 - val_loss: 1.5342 - val_categorical_accuracy: 0.8750\n",
      "Epoch 6/300\n",
      "95/95 [==============================] - 0s 325us/step - loss: 1.4470 - categorical_accuracy: 0.9053 - val_loss: 1.5301 - val_categorical_accuracy: 0.8750\n",
      "Epoch 7/300\n",
      "95/95 [==============================] - 0s 352us/step - loss: 1.4430 - categorical_accuracy: 0.9053 - val_loss: 1.5263 - val_categorical_accuracy: 0.8750\n",
      "Epoch 8/300\n",
      "95/95 [==============================] - 0s 336us/step - loss: 1.4392 - categorical_accuracy: 0.9053 - val_loss: 1.5226 - val_categorical_accuracy: 0.8750\n",
      "Epoch 9/300\n",
      "95/95 [==============================] - 0s 346us/step - loss: 1.4358 - categorical_accuracy: 0.9053 - val_loss: 1.5187 - val_categorical_accuracy: 0.8750\n",
      "Epoch 10/300\n",
      "95/95 [==============================] - 0s 341us/step - loss: 1.4325 - categorical_accuracy: 0.9053 - val_loss: 1.5155 - val_categorical_accuracy: 0.8750\n",
      "Epoch 11/300\n",
      "95/95 [==============================] - 0s 336us/step - loss: 1.4291 - categorical_accuracy: 0.9053 - val_loss: 1.5118 - val_categorical_accuracy: 0.8750\n",
      "Epoch 12/300\n",
      "95/95 [==============================] - 0s 336us/step - loss: 1.4261 - categorical_accuracy: 0.9053 - val_loss: 1.5087 - val_categorical_accuracy: 0.8750\n",
      "Epoch 13/300\n",
      "95/95 [==============================] - 0s 331us/step - loss: 1.4229 - categorical_accuracy: 0.9053 - val_loss: 1.5054 - val_categorical_accuracy: 0.8750\n",
      "Epoch 14/300\n",
      "95/95 [==============================] - 0s 336us/step - loss: 1.4203 - categorical_accuracy: 0.9053 - val_loss: 1.5021 - val_categorical_accuracy: 0.8750\n",
      "Epoch 15/300\n",
      "95/95 [==============================] - 0s 325us/step - loss: 1.4174 - categorical_accuracy: 0.9053 - val_loss: 1.4991 - val_categorical_accuracy: 0.8750\n",
      "Epoch 16/300\n",
      "95/95 [==============================] - 0s 357us/step - loss: 1.4147 - categorical_accuracy: 0.9053 - val_loss: 1.4966 - val_categorical_accuracy: 0.8750\n",
      "Epoch 17/300\n",
      "95/95 [==============================] - 0s 325us/step - loss: 1.4122 - categorical_accuracy: 0.9053 - val_loss: 1.4935 - val_categorical_accuracy: 0.8750\n",
      "Epoch 18/300\n",
      "95/95 [==============================] - 0s 346us/step - loss: 1.4098 - categorical_accuracy: 0.9053 - val_loss: 1.4912 - val_categorical_accuracy: 0.8750\n",
      "Epoch 19/300\n",
      "95/95 [==============================] - 0s 325us/step - loss: 1.4075 - categorical_accuracy: 0.9053 - val_loss: 1.4884 - val_categorical_accuracy: 0.8750\n",
      "Epoch 20/300\n",
      "95/95 [==============================] - 0s 325us/step - loss: 1.4050 - categorical_accuracy: 0.9053 - val_loss: 1.4858 - val_categorical_accuracy: 0.8750\n",
      "Epoch 21/300\n",
      "95/95 [==============================] - 0s 336us/step - loss: 1.4030 - categorical_accuracy: 0.9053 - val_loss: 1.4837 - val_categorical_accuracy: 0.8750\n",
      "Epoch 22/300\n",
      "95/95 [==============================] - 0s 325us/step - loss: 1.4009 - categorical_accuracy: 0.9053 - val_loss: 1.4811 - val_categorical_accuracy: 0.8333\n",
      "Epoch 23/300\n",
      "95/95 [==============================] - 0s 336us/step - loss: 1.3989 - categorical_accuracy: 0.9053 - val_loss: 1.4791 - val_categorical_accuracy: 0.8333\n",
      "Epoch 24/300\n",
      "95/95 [==============================] - 0s 336us/step - loss: 1.3969 - categorical_accuracy: 0.9053 - val_loss: 1.4766 - val_categorical_accuracy: 0.8333\n",
      "Epoch 25/300\n",
      "95/95 [==============================] - 0s 325us/step - loss: 1.3951 - categorical_accuracy: 0.9053 - val_loss: 1.4749 - val_categorical_accuracy: 0.8333\n",
      "Epoch 26/300\n",
      "95/95 [==============================] - 0s 367us/step - loss: 1.3933 - categorical_accuracy: 0.9053 - val_loss: 1.4728 - val_categorical_accuracy: 0.8333\n",
      "Epoch 27/300\n",
      "95/95 [==============================] - 0s 367us/step - loss: 1.3917 - categorical_accuracy: 0.9053 - val_loss: 1.4707 - val_categorical_accuracy: 0.8333\n",
      "Epoch 28/300\n",
      "95/95 [==============================] - 0s 367us/step - loss: 1.3900 - categorical_accuracy: 0.9053 - val_loss: 1.4693 - val_categorical_accuracy: 0.8333\n",
      "Epoch 29/300\n",
      "95/95 [==============================] - 0s 357us/step - loss: 1.3885 - categorical_accuracy: 0.8947 - val_loss: 1.4675 - val_categorical_accuracy: 0.8333\n",
      "Epoch 30/300\n",
      "95/95 [==============================] - 0s 346us/step - loss: 1.3871 - categorical_accuracy: 0.8947 - val_loss: 1.4656 - val_categorical_accuracy: 0.8333\n",
      "Epoch 31/300\n",
      "95/95 [==============================] - 0s 346us/step - loss: 1.3857 - categorical_accuracy: 0.8947 - val_loss: 1.4641 - val_categorical_accuracy: 0.8333\n",
      "Epoch 32/300\n",
      "95/95 [==============================] - 0s 346us/step - loss: 1.3843 - categorical_accuracy: 0.8842 - val_loss: 1.4625 - val_categorical_accuracy: 0.8333\n",
      "Epoch 33/300\n",
      "95/95 [==============================] - 0s 346us/step - loss: 1.3830 - categorical_accuracy: 0.8947 - val_loss: 1.4611 - val_categorical_accuracy: 0.8333\n",
      "Epoch 34/300\n",
      "95/95 [==============================] - 0s 336us/step - loss: 1.3818 - categorical_accuracy: 0.8842 - val_loss: 1.4599 - val_categorical_accuracy: 0.8333\n",
      "Epoch 35/300\n",
      "95/95 [==============================] - 0s 336us/step - loss: 1.3809 - categorical_accuracy: 0.8842 - val_loss: 1.4584 - val_categorical_accuracy: 0.8333\n",
      "Epoch 36/300\n",
      "95/95 [==============================] - 0s 336us/step - loss: 1.3796 - categorical_accuracy: 0.8947 - val_loss: 1.4574 - val_categorical_accuracy: 0.8333\n",
      "Epoch 37/300\n",
      "95/95 [==============================] - 0s 325us/step - loss: 1.3787 - categorical_accuracy: 0.8842 - val_loss: 1.4563 - val_categorical_accuracy: 0.8333\n",
      "Epoch 38/300\n",
      "95/95 [==============================] - 0s 315us/step - loss: 1.3777 - categorical_accuracy: 0.8842 - val_loss: 1.4553 - val_categorical_accuracy: 0.8333\n",
      "Epoch 39/300\n",
      "95/95 [==============================] - 0s 315us/step - loss: 1.3768 - categorical_accuracy: 0.8842 - val_loss: 1.4542 - val_categorical_accuracy: 0.7917\n",
      "Epoch 40/300\n",
      "95/95 [==============================] - 0s 315us/step - loss: 1.3760 - categorical_accuracy: 0.8842 - val_loss: 1.4534 - val_categorical_accuracy: 0.7917\n",
      "Epoch 41/300\n",
      "95/95 [==============================] - 0s 325us/step - loss: 1.3752 - categorical_accuracy: 0.8842 - val_loss: 1.4525 - val_categorical_accuracy: 0.8333\n",
      "Epoch 42/300\n",
      "95/95 [==============================] - 0s 315us/step - loss: 1.3746 - categorical_accuracy: 0.8737 - val_loss: 1.4516 - val_categorical_accuracy: 0.7917\n",
      "Epoch 43/300\n",
      "95/95 [==============================] - 0s 315us/step - loss: 1.3740 - categorical_accuracy: 0.8737 - val_loss: 1.4511 - val_categorical_accuracy: 0.7917\n",
      "Epoch 44/300\n",
      "95/95 [==============================] - 0s 336us/step - loss: 1.3731 - categorical_accuracy: 0.8842 - val_loss: 1.4504 - val_categorical_accuracy: 0.7917\n",
      "Epoch 45/300\n",
      "95/95 [==============================] - 0s 315us/step - loss: 1.3725 - categorical_accuracy: 0.8842 - val_loss: 1.4496 - val_categorical_accuracy: 0.7917\n",
      "Epoch 46/300\n",
      "95/95 [==============================] - 0s 336us/step - loss: 1.3720 - categorical_accuracy: 0.8737 - val_loss: 1.4490 - val_categorical_accuracy: 0.7917\n",
      "Epoch 47/300\n",
      "95/95 [==============================] - 0s 315us/step - loss: 1.3715 - categorical_accuracy: 0.8737 - val_loss: 1.4487 - val_categorical_accuracy: 0.7917\n",
      "Epoch 48/300\n",
      "95/95 [==============================] - 0s 325us/step - loss: 1.3712 - categorical_accuracy: 0.8842 - val_loss: 1.4482 - val_categorical_accuracy: 0.7917\n",
      "Epoch 49/300\n",
      "95/95 [==============================] - 0s 346us/step - loss: 1.3704 - categorical_accuracy: 0.8737 - val_loss: 1.4475 - val_categorical_accuracy: 0.7917\n",
      "Epoch 50/300\n",
      "95/95 [==============================] - 0s 299us/step - loss: 1.3700 - categorical_accuracy: 0.8737 - val_loss: 1.4470 - val_categorical_accuracy: 0.7917\n",
      "Epoch 51/300\n",
      "95/95 [==============================] - 0s 325us/step - loss: 1.3696 - categorical_accuracy: 0.8737 - val_loss: 1.4466 - val_categorical_accuracy: 0.8333\n",
      "Epoch 52/300\n",
      "95/95 [==============================] - 0s 315us/step - loss: 1.3692 - categorical_accuracy: 0.8737 - val_loss: 1.4463 - val_categorical_accuracy: 0.7917\n",
      "Epoch 53/300\n",
      "95/95 [==============================] - 0s 320us/step - loss: 1.3689 - categorical_accuracy: 0.8737 - val_loss: 1.4460 - val_categorical_accuracy: 0.8333\n",
      "Epoch 54/300\n",
      "95/95 [==============================] - 0s 315us/step - loss: 1.3685 - categorical_accuracy: 0.8737 - val_loss: 1.4459 - val_categorical_accuracy: 0.8750\n"
     ]
    }
   ],
   "source": [
    "model = make_nn(number_data_x.shape[1], number_data_y.shape[1])\n",
    "\n",
    "print('Начинаем обучение')\n",
    "history = model.fit(\n",
    "    x=x_train,\n",
    "    y=y_train,\n",
    "    batch_size=3,\n",
    "    epochs=300,\n",
    "    validation_split=0.2,\n",
    "    callbacks=[\n",
    "        callbacks.History(),\n",
    "        callbacks.EarlyStopping( monitor='val_categorical_accuracy',\n",
    "                                mode='max',\n",
    "                                patience=50,\n",
    "                               min_delta=0.01)\n",
    "    ]\n",
    ")"
   ]
  },
  {
   "cell_type": "code",
   "execution_count": 130,
   "metadata": {
    "collapsed": false
   },
   "outputs": [
    {
     "data": {
      "text/plain": [
       "<matplotlib.legend.Legend at 0x243ae8cd390>"
      ]
     },
     "execution_count": 130,
     "metadata": {},
     "output_type": "execute_result"
    },
    {
     "data": {
      "image/png": "[encoded data removed]",
      "text/plain": [
       "<matplotlib.figure.Figure at 0x243ae6dc198>"
      ]
     },
     "metadata": {},
     "output_type": "display_data"
    },
    {
     "data": {
      "image/png": "[encoded data removed]",
      "text/plain": [
       "<matplotlib.figure.Figure at 0x243afc37048>"
      ]
     },
     "metadata": {},
     "output_type": "display_data"
    }
   ],
   "source": [
    "plt.figure(0, figsize=(8,5))\n",
    "plt.plot(history.history['loss'])\n",
    "plt.plot(history.history['val_loss'])\n",
    "plt.title('График ошибки')\n",
    "plt.ylabel('Значение')\n",
    "plt.xlabel('Эпоха')\n",
    "plt.legend(['Ошибка (train)', 'Ошибка (test)'])\n",
    "\n",
    "plt.figure(1, figsize=(8,5))\n",
    "plt.plot(history.history['categorical_accuracy'])\n",
    "plt.plot(history.history['val_categorical_accuracy'])\n",
    "plt.title('График точности')\n",
    "plt.ylabel('Значение')\n",
    "plt.xlabel('Эпоха')\n",
    "plt.legend(['Точность (train)', 'Точность (test)'])"
   ]
  },
  {
   "cell_type": "code",
   "execution_count": 85,
   "metadata": {
    "collapsed": false
   },
   "outputs": [],
   "source": [
    "%matplotlib inline"
   ]
  },
  {
   "cell_type": "code",
   "execution_count": 119,
   "metadata": {
    "collapsed": true
   },
   "outputs": [],
   "source": [
    "from pathlib import Path\n",
    "from os import remove"
   ]
  },
  {
   "cell_type": "code",
   "execution_count": 131,
   "metadata": {
    "collapsed": false
   },
   "outputs": [],
   "source": [
    "file_name = 'nn_model_loss-{loss:.2f}_val_loss-{val_loss:.2f}_acc-{categorical_accuracy:.2f}_val_acc-{val_categorical_accuracy:.2f}.hdf5'\n",
    "\n",
    "def make_save_points(name='save_points', file_name=file_name):\n",
    "    checkpoints_dir = Path('./').joinpath('save_points')\n",
    "    checkpoints_dir.mkdir(exist_ok=True)\n",
    "    \n",
    "    for item in checkpoints_dir.iterdir():\n",
    "        if item.is_file():\n",
    "            print('Удаляю' +str(item))\n",
    "            remove(item)\n",
    "    return str(checkpoints_dir.joinpath(file_name))"
   ]
  },
  {
   "cell_type": "code",
   "execution_count": 132,
   "metadata": {
    "collapsed": false
   },
   "outputs": [
    {
     "name": "stdout",
     "output_type": "stream",
     "text": [
      "Начинаем обучение\n",
      "Train on 95 samples, validate on 24 samples\n",
      "Epoch 1/300\n",
      "95/95 [==============================] - 1s 6ms/step - loss: 1.5045 - categorical_accuracy: 0.5789 - val_loss: 1.5931 - val_categorical_accuracy: 0.5417\n",
      "Epoch 2/300\n",
      "95/95 [==============================] - 0s 325us/step - loss: 1.4942 - categorical_accuracy: 0.5789 - val_loss: 1.5803 - val_categorical_accuracy: 0.5417\n",
      "Epoch 3/300\n",
      "95/95 [==============================] - 0s 357us/step - loss: 1.4852 - categorical_accuracy: 0.6000 - val_loss: 1.5697 - val_categorical_accuracy: 0.5833\n",
      "Epoch 4/300\n",
      "95/95 [==============================] - 0s 346us/step - loss: 1.4767 - categorical_accuracy: 0.6526 - val_loss: 1.5605 - val_categorical_accuracy: 0.7083\n",
      "Epoch 5/300\n",
      "95/95 [==============================] - 0s 346us/step - loss: 1.4688 - categorical_accuracy: 0.8105 - val_loss: 1.5515 - val_categorical_accuracy: 0.7500\n",
      "Epoch 6/300\n",
      "95/95 [==============================] - 0s 315us/step - loss: 1.4618 - categorical_accuracy: 0.8947 - val_loss: 1.5432 - val_categorical_accuracy: 0.8333\n",
      "Epoch 7/300\n",
      "95/95 [==============================] - 0s 352us/step - loss: 1.4548 - categorical_accuracy: 0.9053 - val_loss: 1.5366 - val_categorical_accuracy: 0.8750\n",
      "Epoch 8/300\n",
      "95/95 [==============================] - 0s 347us/step - loss: 1.4488 - categorical_accuracy: 0.9053 - val_loss: 1.5293 - val_categorical_accuracy: 0.8750\n",
      "Epoch 9/300\n",
      "95/95 [==============================] - 0s 336us/step - loss: 1.4428 - categorical_accuracy: 0.9053 - val_loss: 1.5232 - val_categorical_accuracy: 0.8750\n",
      "Epoch 10/300\n",
      "95/95 [==============================] - 0s 346us/step - loss: 1.4373 - categorical_accuracy: 0.9053 - val_loss: 1.5164 - val_categorical_accuracy: 0.8750\n",
      "Epoch 11/300\n",
      "95/95 [==============================] - 0s 325us/step - loss: 1.4318 - categorical_accuracy: 0.9053 - val_loss: 1.5105 - val_categorical_accuracy: 0.8750\n",
      "Epoch 12/300\n",
      "95/95 [==============================] - 0s 336us/step - loss: 1.4266 - categorical_accuracy: 0.9053 - val_loss: 1.5053 - val_categorical_accuracy: 0.8750\n",
      "Epoch 13/300\n",
      "95/95 [==============================] - 0s 346us/step - loss: 1.4219 - categorical_accuracy: 0.9053 - val_loss: 1.4993 - val_categorical_accuracy: 0.8750\n",
      "Epoch 14/300\n",
      "95/95 [==============================] - 0s 336us/step - loss: 1.4173 - categorical_accuracy: 0.9053 - val_loss: 1.4941 - val_categorical_accuracy: 0.8750\n",
      "Epoch 15/300\n",
      "95/95 [==============================] - 0s 346us/step - loss: 1.4130 - categorical_accuracy: 0.9053 - val_loss: 1.4892 - val_categorical_accuracy: 0.8750\n",
      "Epoch 16/300\n",
      "95/95 [==============================] - 0s 325us/step - loss: 1.4088 - categorical_accuracy: 0.9053 - val_loss: 1.4850 - val_categorical_accuracy: 0.8750\n",
      "Epoch 17/300\n",
      "95/95 [==============================] - 0s 346us/step - loss: 1.4050 - categorical_accuracy: 0.9053 - val_loss: 1.4806 - val_categorical_accuracy: 0.8750\n",
      "Epoch 18/300\n",
      "95/95 [==============================] - 0s 336us/step - loss: 1.4014 - categorical_accuracy: 0.9053 - val_loss: 1.4768 - val_categorical_accuracy: 0.8333\n",
      "Epoch 19/300\n",
      "95/95 [==============================] - 0s 346us/step - loss: 1.3980 - categorical_accuracy: 0.9053 - val_loss: 1.4729 - val_categorical_accuracy: 0.8750\n",
      "Epoch 20/300\n",
      "95/95 [==============================] - 0s 346us/step - loss: 1.3950 - categorical_accuracy: 0.9053 - val_loss: 1.4695 - val_categorical_accuracy: 0.9167\n",
      "Epoch 21/300\n",
      "95/95 [==============================] - 0s 336us/step - loss: 1.3921 - categorical_accuracy: 0.8947 - val_loss: 1.4666 - val_categorical_accuracy: 0.8750\n",
      "Epoch 22/300\n",
      "95/95 [==============================] - 0s 346us/step - loss: 1.3896 - categorical_accuracy: 0.8842 - val_loss: 1.4637 - val_categorical_accuracy: 0.8750\n",
      "Epoch 23/300\n",
      "95/95 [==============================] - 0s 336us/step - loss: 1.3872 - categorical_accuracy: 0.8842 - val_loss: 1.4613 - val_categorical_accuracy: 0.8750\n",
      "Epoch 24/300\n",
      "95/95 [==============================] - 0s 367us/step - loss: 1.3851 - categorical_accuracy: 0.8842 - val_loss: 1.4591 - val_categorical_accuracy: 0.8750\n",
      "Epoch 25/300\n",
      "95/95 [==============================] - 0s 346us/step - loss: 1.3831 - categorical_accuracy: 0.8632 - val_loss: 1.4573 - val_categorical_accuracy: 0.8750\n",
      "Epoch 26/300\n",
      "95/95 [==============================] - 0s 357us/step - loss: 1.3814 - categorical_accuracy: 0.8737 - val_loss: 1.4558 - val_categorical_accuracy: 0.8750\n",
      "Epoch 27/300\n",
      "95/95 [==============================] - 0s 346us/step - loss: 1.3800 - categorical_accuracy: 0.8632 - val_loss: 1.4543 - val_categorical_accuracy: 0.8750\n",
      "Epoch 28/300\n",
      "95/95 [==============================] - 0s 336us/step - loss: 1.3787 - categorical_accuracy: 0.8737 - val_loss: 1.4529 - val_categorical_accuracy: 0.8333\n",
      "Epoch 29/300\n",
      "95/95 [==============================] - 0s 357us/step - loss: 1.3774 - categorical_accuracy: 0.8737 - val_loss: 1.4521 - val_categorical_accuracy: 0.8333\n",
      "Epoch 30/300\n",
      "95/95 [==============================] - 0s 346us/step - loss: 1.3764 - categorical_accuracy: 0.8737 - val_loss: 1.4511 - val_categorical_accuracy: 0.8333\n",
      "Epoch 31/300\n",
      "95/95 [==============================] - 0s 357us/step - loss: 1.3756 - categorical_accuracy: 0.8842 - val_loss: 1.4508 - val_categorical_accuracy: 0.8333\n",
      "Epoch 32/300\n",
      "95/95 [==============================] - 0s 357us/step - loss: 1.3748 - categorical_accuracy: 0.8632 - val_loss: 1.4498 - val_categorical_accuracy: 0.8333\n",
      "Epoch 33/300\n",
      "95/95 [==============================] - 0s 357us/step - loss: 1.3742 - categorical_accuracy: 0.8947 - val_loss: 1.4492 - val_categorical_accuracy: 0.8333\n",
      "Epoch 34/300\n",
      "95/95 [==============================] - 0s 388us/step - loss: 1.3735 - categorical_accuracy: 0.8842 - val_loss: 1.4488 - val_categorical_accuracy: 0.8333\n",
      "Epoch 35/300\n",
      "95/95 [==============================] - 0s 367us/step - loss: 1.3729 - categorical_accuracy: 0.8947 - val_loss: 1.4485 - val_categorical_accuracy: 0.8333\n",
      "Epoch 36/300\n",
      "95/95 [==============================] - 0s 367us/step - loss: 1.3725 - categorical_accuracy: 0.8947 - val_loss: 1.4485 - val_categorical_accuracy: 0.8333\n",
      "Epoch 37/300\n",
      "95/95 [==============================] - 0s 378us/step - loss: 1.3721 - categorical_accuracy: 0.8947 - val_loss: 1.4483 - val_categorical_accuracy: 0.7917\n",
      "Epoch 38/300\n",
      "95/95 [==============================] - 0s 409us/step - loss: 1.3717 - categorical_accuracy: 0.8947 - val_loss: 1.4479 - val_categorical_accuracy: 0.8333\n",
      "Epoch 39/300\n",
      "95/95 [==============================] - 0s 378us/step - loss: 1.3713 - categorical_accuracy: 0.8842 - val_loss: 1.4481 - val_categorical_accuracy: 0.7917\n",
      "Epoch 40/300\n",
      "95/95 [==============================] - 0s 378us/step - loss: 1.3710 - categorical_accuracy: 0.9053 - val_loss: 1.4479 - val_categorical_accuracy: 0.7917\n",
      "Epoch 41/300\n",
      "95/95 [==============================] - 0s 367us/step - loss: 1.3709 - categorical_accuracy: 0.8947 - val_loss: 1.4483 - val_categorical_accuracy: 0.7917\n",
      "Epoch 42/300\n",
      "95/95 [==============================] - 0s 325us/step - loss: 1.3706 - categorical_accuracy: 0.8947 - val_loss: 1.4477 - val_categorical_accuracy: 0.8333\n",
      "Epoch 43/300\n",
      "95/95 [==============================] - 0s 325us/step - loss: 1.3704 - categorical_accuracy: 0.9053 - val_loss: 1.4479 - val_categorical_accuracy: 0.7917\n",
      "Epoch 44/300\n",
      "95/95 [==============================] - 0s 336us/step - loss: 1.3702 - categorical_accuracy: 0.8947 - val_loss: 1.4475 - val_categorical_accuracy: 0.7917\n",
      "Epoch 45/300\n",
      "95/95 [==============================] - 0s 315us/step - loss: 1.3700 - categorical_accuracy: 0.8947 - val_loss: 1.4475 - val_categorical_accuracy: 0.8333\n",
      "Epoch 46/300\n",
      "95/95 [==============================] - 0s 304us/step - loss: 1.3699 - categorical_accuracy: 0.9053 - val_loss: 1.4473 - val_categorical_accuracy: 0.8333\n",
      "Epoch 47/300\n",
      "95/95 [==============================] - 0s 304us/step - loss: 1.3698 - categorical_accuracy: 0.8947 - val_loss: 1.4476 - val_categorical_accuracy: 0.7917\n",
      "Epoch 48/300\n",
      "95/95 [==============================] - 0s 331us/step - loss: 1.3694 - categorical_accuracy: 0.8947 - val_loss: 1.4475 - val_categorical_accuracy: 0.7917\n",
      "Epoch 49/300\n",
      "95/95 [==============================] - 0s 315us/step - loss: 1.3693 - categorical_accuracy: 0.9053 - val_loss: 1.4476 - val_categorical_accuracy: 0.7917\n",
      "Epoch 50/300\n",
      "95/95 [==============================] - 0s 325us/step - loss: 1.3692 - categorical_accuracy: 0.8947 - val_loss: 1.4479 - val_categorical_accuracy: 0.7917\n",
      "Epoch 51/300\n",
      "95/95 [==============================] - 0s 331us/step - loss: 1.3692 - categorical_accuracy: 0.8947 - val_loss: 1.4479 - val_categorical_accuracy: 0.7917\n",
      "Epoch 52/300\n",
      "95/95 [==============================] - 0s 336us/step - loss: 1.3689 - categorical_accuracy: 0.8842 - val_loss: 1.4471 - val_categorical_accuracy: 0.8333\n",
      "Epoch 53/300\n",
      "95/95 [==============================] - 0s 346us/step - loss: 1.3689 - categorical_accuracy: 0.8842 - val_loss: 1.4476 - val_categorical_accuracy: 0.7917\n",
      "Epoch 54/300\n",
      "95/95 [==============================] - 0s 310us/step - loss: 1.3688 - categorical_accuracy: 0.8737 - val_loss: 1.4473 - val_categorical_accuracy: 0.8333\n",
      "Epoch 55/300\n",
      "95/95 [==============================] - 0s 325us/step - loss: 1.3688 - categorical_accuracy: 0.8842 - val_loss: 1.4476 - val_categorical_accuracy: 0.7917\n",
      "Epoch 56/300\n",
      "95/95 [==============================] - 0s 325us/step - loss: 1.3689 - categorical_accuracy: 0.9053 - val_loss: 1.4481 - val_categorical_accuracy: 0.7917\n",
      "Epoch 57/300\n",
      "95/95 [==============================] - 0s 346us/step - loss: 1.3685 - categorical_accuracy: 0.8632 - val_loss: 1.4476 - val_categorical_accuracy: 0.7917\n",
      "Epoch 58/300\n",
      "95/95 [==============================] - 0s 367us/step - loss: 1.3685 - categorical_accuracy: 0.8947 - val_loss: 1.4483 - val_categorical_accuracy: 0.7917\n",
      "Epoch 59/300\n",
      "95/95 [==============================] - 0s 357us/step - loss: 1.3684 - categorical_accuracy: 0.8842 - val_loss: 1.4474 - val_categorical_accuracy: 0.7917\n",
      "Epoch 60/300\n",
      "95/95 [==============================] - 0s 367us/step - loss: 1.3682 - categorical_accuracy: 0.8947 - val_loss: 1.4477 - val_categorical_accuracy: 0.7917\n",
      "Epoch 61/300\n",
      "95/95 [==============================] - 0s 346us/step - loss: 1.3683 - categorical_accuracy: 0.8842 - val_loss: 1.4479 - val_categorical_accuracy: 0.7917\n",
      "Epoch 62/300\n",
      "95/95 [==============================] - 0s 367us/step - loss: 1.3681 - categorical_accuracy: 0.8842 - val_loss: 1.4474 - val_categorical_accuracy: 0.7917\n",
      "Epoch 63/300\n",
      "95/95 [==============================] - 0s 388us/step - loss: 1.3680 - categorical_accuracy: 0.8842 - val_loss: 1.4474 - val_categorical_accuracy: 0.7917\n",
      "Epoch 64/300\n",
      "95/95 [==============================] - 0s 388us/step - loss: 1.3679 - categorical_accuracy: 0.8947 - val_loss: 1.4477 - val_categorical_accuracy: 0.7917\n",
      "Epoch 65/300\n",
      "95/95 [==============================] - 0s 367us/step - loss: 1.3679 - categorical_accuracy: 0.8842 - val_loss: 1.4474 - val_categorical_accuracy: 0.7917\n",
      "Epoch 66/300\n",
      "95/95 [==============================] - 0s 346us/step - loss: 1.3678 - categorical_accuracy: 0.8737 - val_loss: 1.4470 - val_categorical_accuracy: 0.8333\n",
      "Epoch 67/300\n",
      "95/95 [==============================] - 0s 357us/step - loss: 1.3677 - categorical_accuracy: 0.8842 - val_loss: 1.4475 - val_categorical_accuracy: 0.7917\n",
      "Epoch 68/300\n",
      "95/95 [==============================] - 0s 346us/step - loss: 1.3678 - categorical_accuracy: 0.8842 - val_loss: 1.4473 - val_categorical_accuracy: 0.7917\n",
      "Epoch 69/300\n",
      "95/95 [==============================] - 0s 346us/step - loss: 1.3678 - categorical_accuracy: 0.8842 - val_loss: 1.4476 - val_categorical_accuracy: 0.7917\n",
      "Epoch 70/300\n",
      "95/95 [==============================] - 0s 346us/step - loss: 1.3675 - categorical_accuracy: 0.8842 - val_loss: 1.4469 - val_categorical_accuracy: 0.8750\n"
     ]
    }
   ],
   "source": [
    "print('Начинаем обучение')\n",
    "history = make_nn(x_train.shape[1], y_train.shape[1]).fit(\n",
    "    x=x_train,\n",
    "    y=y_train,\n",
    "    batch_size=3,\n",
    "    epochs=300,\n",
    "    validation_split=0.2,\n",
    "    verbose=1,\n",
    "    callbacks=[\n",
    "        callbacks.History(),\n",
    "        callbacks.EarlyStopping(\n",
    "        monitor='val_categorical_accuracy',\n",
    "        mode='max',\n",
    "        patience=50,\n",
    "        min_delta=0.01),\n",
    "        callbacks.ModelCheckpoint(\n",
    "            'rar.hdf5',\n",
    "            monitor='val_categorical_accuracy',\n",
    "            save_best_only=True,\n",
    "            period=5,\n",
    "            mode='max'\n",
    "        )\n",
    "    ]\n",
    ")"
   ]
  },
  {
   "cell_type": "code",
   "execution_count": 122,
   "metadata": {
    "collapsed": false
   },
   "outputs": [
    {
     "data": {
      "text/plain": [
       "<matplotlib.legend.Legend at 0x243ac09a6a0>"
      ]
     },
     "execution_count": 122,
     "metadata": {},
     "output_type": "execute_result"
    },
    {
     "data": {
      "image/png": "[encoded data removed]",
      "text/plain": [
       "<matplotlib.figure.Figure at 0x243ac03bcf8>"
      ]
     },
     "metadata": {},
     "output_type": "display_data"
    },
    {
     "data": {
      "image/png": "[encoded data removed]",
      "text/plain": [
       "<matplotlib.figure.Figure at 0x243ac0434e0>"
      ]
     },
     "metadata": {},
     "output_type": "display_data"
    }
   ],
   "source": [
    "plt.figure(0, figsize=(8,5))\n",
    "plt.plot(history.history['loss'])\n",
    "plt.plot(history.history['val_loss'])\n",
    "plt.title('График ошибки')\n",
    "plt.ylabel('Значение')\n",
    "plt.xlabel('Эпоха')\n",
    "plt.legend(['Ошибка (train)', 'Ошибка (test)'])\n",
    "\n",
    "plt.figure(1, figsize=(8,5))\n",
    "plt.plot(history.history['categorical_accuracy'])\n",
    "plt.plot(history.history['val_categorical_accuracy'])\n",
    "plt.title('График точности')\n",
    "plt.ylabel('Значение')\n",
    "plt.xlabel('Эпоха')\n",
    "plt.legend(['Точность (train)', 'Точность (test)'])"
   ]
  },
  {
   "cell_type": "code",
   "execution_count": 123,
   "metadata": {
    "collapsed": false
   },
   "outputs": [
    {
     "name": "stdout",
     "output_type": "stream",
     "text": [
      "119/119 [==============================] - 0s 1ms/step\n",
      "Точность предсказания на тренировочных данных: 0.915966390562\n",
      "30/30 [==============================] - 0s 0us/step\n",
      "Точность предсказания на тестовых данных: 1.0\n"
     ]
    },
    {
     "data": {
      "text/plain": [
       "array([2, 2, 2, 2, 2, 1, 2, 1, 1, 2, 2, 1, 2, 1, 1, 2, 2, 1, 2, 1, 2, 2, 1,\n",
       "       2, 2, 2, 1, 2, 2, 1], dtype=int64)"
      ]
     },
     "execution_count": 123,
     "metadata": {},
     "output_type": "execute_result"
    }
   ],
   "source": [
    "from keras.models import load_model\n",
    "\n",
    "loaded_model = load_model('rar.hdf5')\n",
    "\n",
    "print('Точность предсказания на тренировочных данных: '+str(loaded_model.evaluate(x_train, y_train)[1]))\n",
    "print('Точность предсказания на тестовых данных: '+str(loaded_model.evaluate(x_test, y_test)[1]))\n",
    "predict = loaded_model.predict_classes(x_test)\n",
    "predict\n"
   ]
  },
  {
   "cell_type": "code",
   "execution_count": 124,
   "metadata": {
    "collapsed": false
   },
   "outputs": [
    {
     "data": {
      "text/plain": [
       "array(['Iris-virginica', 'Iris-virginica', 'Iris-virginica',\n",
       "       'Iris-virginica', 'Iris-virginica', 'Iris-versicolor',\n",
       "       'Iris-virginica', 'Iris-versicolor', 'Iris-versicolor',\n",
       "       'Iris-virginica', 'Iris-virginica', 'Iris-versicolor',\n",
       "       'Iris-virginica', 'Iris-versicolor', 'Iris-versicolor',\n",
       "       'Iris-virginica', 'Iris-virginica', 'Iris-versicolor',\n",
       "       'Iris-virginica', 'Iris-versicolor', 'Iris-virginica',\n",
       "       'Iris-virginica', 'Iris-versicolor', 'Iris-virginica',\n",
       "       'Iris-virginica', 'Iris-virginica', 'Iris-versicolor',\n",
       "       'Iris-virginica', 'Iris-virginica', 'Iris-versicolor'], dtype=object)"
      ]
     },
     "execution_count": 124,
     "metadata": {},
     "output_type": "execute_result"
    }
   ],
   "source": [
    "pipe_y.named_steps['label_encoder'].inverse_transform(predict)"
   ]
  },
  {
   "cell_type": "code",
   "execution_count": 125,
   "metadata": {
    "collapsed": false
   },
   "outputs": [
    {
     "data": {
      "text/plain": [
       "array([[ 0.38963509,  0.30998021,  0.53381383],\n",
       "       [ 0.14759156,  0.75032037,  0.07240485],\n",
       "       [ 0.19380242,  0.66687238,  0.10878047],\n",
       "       [ 0.38369736,  0.33177671,  0.52032357],\n",
       "       [ 0.43021539,  0.35766244,  0.40257552],\n",
       "       [ 0.39768681,  0.28131744,  0.6243096 ],\n",
       "       [ 0.36045134,  0.33129567,  0.51154   ],\n",
       "       [ 0.32730845,  0.37932923,  0.43829286],\n",
       "       [ 0.39704373,  0.36565039,  0.44113651],\n",
       "       [ 0.19546613,  0.66972077,  0.12300837],\n",
       "       [ 0.52045661,  0.25203654,  0.51698214],\n",
       "       [ 0.42691574,  0.35370463,  0.40051845],\n",
       "       [ 0.16711222,  0.73194557,  0.07065322],\n",
       "       [ 0.43226209,  0.32882649,  0.51751179],\n",
       "       [ 0.40609792,  0.35543573,  0.42411223],\n",
       "       [ 0.23310277,  0.63426226,  0.13399309],\n",
       "       [ 0.32825789,  0.36782345,  0.47449529],\n",
       "       [ 0.55400276,  0.20893466,  0.60750926],\n",
       "       [ 0.4336226 ,  0.32560027,  0.37425467],\n",
       "       [ 0.37557462,  0.33572203,  0.48118025],\n",
       "       [ 0.3757574 ,  0.34067866,  0.4948619 ],\n",
       "       [ 0.21764727,  0.65735412,  0.12911719],\n",
       "       [ 0.30227056,  0.49946472,  0.32845244],\n",
       "       [ 0.36424339,  0.34978738,  0.48765239],\n",
       "       [ 0.44242677,  0.25590566,  0.64621687],\n",
       "       [ 0.39768681,  0.28131744,  0.6243096 ],\n",
       "       [ 0.20188485,  0.68909729,  0.09661502],\n",
       "       [ 0.23649654,  0.6247614 ,  0.14774962],\n",
       "       [ 0.53634399,  0.23110369,  0.58803481],\n",
       "       [ 0.32492813,  0.40700051,  0.38735139],\n",
       "       [ 0.39308983,  0.34675682,  0.43915495],\n",
       "       [ 0.37406677,  0.39655223,  0.35959142],\n",
       "       [ 0.17212893,  0.70684254,  0.10062309],\n",
       "       [ 0.3671194 ,  0.36432329,  0.45183024],\n",
       "       [ 0.42337918,  0.37441006,  0.36865774],\n",
       "       [ 0.45609066,  0.31005469,  0.4974528 ],\n",
       "       [ 0.19399633,  0.71185303,  0.08612147],\n",
       "       [ 0.34954777,  0.32156065,  0.54938745],\n",
       "       [ 0.57491058,  0.15020567,  0.71413463],\n",
       "       [ 0.18425217,  0.70435286,  0.103655  ],\n",
       "       [ 0.43150282,  0.28906775,  0.53035164],\n",
       "       [ 0.40127105,  0.33089197,  0.46638736],\n",
       "       [ 0.19598895,  0.71085191,  0.08255406],\n",
       "       [ 0.2269462 ,  0.68087065,  0.10234866],\n",
       "       [ 0.17848384,  0.73020142,  0.07329229],\n",
       "       [ 0.41488686,  0.31904411,  0.52719814],\n",
       "       [ 0.22476862,  0.63086957,  0.14389408],\n",
       "       [ 0.180778  ,  0.68185359,  0.12136745],\n",
       "       [ 0.48289418,  0.27435997,  0.4867686 ],\n",
       "       [ 0.16620994,  0.74445993,  0.06090415],\n",
       "       [ 0.5189566 ,  0.24196391,  0.62448418],\n",
       "       [ 0.48830584,  0.21241786,  0.69313598],\n",
       "       [ 0.37651628,  0.3399795 ,  0.49324894],\n",
       "       [ 0.18871392,  0.73349828,  0.06506333],\n",
       "       [ 0.30841529,  0.38498142,  0.44178987],\n",
       "       [ 0.20844908,  0.64367026,  0.14201967],\n",
       "       [ 0.2536169 ,  0.60536253,  0.15957814],\n",
       "       [ 0.22120167,  0.67303163,  0.11388972],\n",
       "       [ 0.42803448,  0.27358648,  0.58785015],\n",
       "       [ 0.44572216,  0.28228903,  0.53779215],\n",
       "       [ 0.47399542,  0.22450857,  0.63162166],\n",
       "       [ 0.41902038,  0.30741912,  0.55198252],\n",
       "       [ 0.41892165,  0.30113611,  0.56903714],\n",
       "       [ 0.45545679,  0.32356548,  0.43885115],\n",
       "       [ 0.20899762,  0.68652713,  0.09599745],\n",
       "       [ 0.51107186,  0.25338453,  0.60686898],\n",
       "       [ 0.45284513,  0.33411816,  0.41131899],\n",
       "       [ 0.20534955,  0.65295833,  0.12871607],\n",
       "       [ 0.36583966,  0.30377024,  0.64628476],\n",
       "       [ 0.39295414,  0.35554358,  0.45774627],\n",
       "       [ 0.18589893,  0.72067499,  0.08437514],\n",
       "       [ 0.42988998,  0.27060217,  0.57477921],\n",
       "       [ 0.41233161,  0.32952118,  0.49905258],\n",
       "       [ 0.38353905,  0.34877586,  0.46497282],\n",
       "       [ 0.5615899 ,  0.2048265 ,  0.62289459],\n",
       "       [ 0.4296703 ,  0.28454688,  0.61588424],\n",
       "       [ 0.33941814,  0.39540076,  0.38171732],\n",
       "       [ 0.22334115,  0.70746201,  0.07827526],\n",
       "       [ 0.42476037,  0.31044176,  0.47728622],\n",
       "       [ 0.21213755,  0.67769402,  0.10633212],\n",
       "       [ 0.35272989,  0.37661508,  0.42557561],\n",
       "       [ 0.50268114,  0.22599731,  0.66824532],\n",
       "       [ 0.21628204,  0.61737257,  0.17629734],\n",
       "       [ 0.4218249 ,  0.29548013,  0.5441252 ],\n",
       "       [ 0.45435879,  0.28471389,  0.55943555],\n",
       "       [ 0.14191926,  0.77817684,  0.04161599],\n",
       "       [ 0.42804813,  0.30618832,  0.52769244],\n",
       "       [ 0.42727795,  0.34997046,  0.42064977],\n",
       "       [ 0.34491146,  0.36341259,  0.50837725],\n",
       "       [ 0.3270047 ,  0.37444571,  0.49139068],\n",
       "       [ 0.59125984,  0.17179908,  0.6581493 ],\n",
       "       [ 0.41054368,  0.25799036,  0.68582529],\n",
       "       [ 0.23194283,  0.62704462,  0.15976749],\n",
       "       [ 0.23310277,  0.63426226,  0.13399309],\n",
       "       [ 0.42531252,  0.28031415,  0.64652765],\n",
       "       [ 0.41866001,  0.31091639,  0.53133035],\n",
       "       [ 0.19926584,  0.6844312 ,  0.10778958],\n",
       "       [ 0.45469767,  0.33905327,  0.3298035 ],\n",
       "       [ 0.44459304,  0.36367974,  0.35275912],\n",
       "       [ 0.5279603 ,  0.19252212,  0.68908715],\n",
       "       [ 0.14717735,  0.79590476,  0.0355354 ],\n",
       "       [ 0.40942857,  0.32213089,  0.51770473],\n",
       "       [ 0.20293629,  0.64428318,  0.15351851],\n",
       "       [ 0.3487604 ,  0.40570703,  0.35411564],\n",
       "       [ 0.20095217,  0.67401367,  0.11911562],\n",
       "       [ 0.49636135,  0.28832522,  0.49532604],\n",
       "       [ 0.38216364,  0.35523736,  0.45604318],\n",
       "       [ 0.466764  ,  0.24410495,  0.65661585],\n",
       "       [ 0.18144901,  0.78399801,  0.04020757],\n",
       "       [ 0.33071157,  0.42474648,  0.38466936],\n",
       "       [ 0.43064854,  0.30892479,  0.56215119],\n",
       "       [ 0.32221439,  0.39181146,  0.4219968 ],\n",
       "       [ 0.40351966,  0.30921397,  0.49812841],\n",
       "       [ 0.35050565,  0.39317679,  0.41147915],\n",
       "       [ 0.23466827,  0.66488498,  0.09931877],\n",
       "       [ 0.40628588,  0.36052546,  0.4375397 ],\n",
       "       [ 0.40337735,  0.33908048,  0.44946328],\n",
       "       [ 0.18959337,  0.68748754,  0.10049544],\n",
       "       [ 0.24211822,  0.62309694,  0.15274186]], dtype=float32)"
      ]
     },
     "execution_count": 125,
     "metadata": {},
     "output_type": "execute_result"
    }
   ],
   "source": [
    "loaded_model.predict(x_train)"
   ]
  },
  {
   "cell_type": "code",
   "execution_count": 126,
   "metadata": {
    "collapsed": true
   },
   "outputs": [],
   "source": [
    "def make_mashgird(x,y,h=0.2):\n",
    "    x_min, x_max = x.min() -1, x.max() +1\n",
    "    y_min, y_max = y.min() -1, y.max() +1\n",
    "    xx, yy = np.meshgrid(np.arange(x_min, x_max, h),\n",
    "                        np.arange(y_min, y_max, h))\n",
    "    return xx,yy\n",
    "    \n",
    "def plot_contours(ax, clf, xx,yy, **params):\n",
    "    z = clf(xx, yy)\n",
    "    z = z.reshape(xx.shape)\n",
    "    out = ax.contourf(xx, yy, z, **params)\n",
    "    return out"
   ]
  },
  {
   "cell_type": "code",
   "execution_count": 100,
   "metadata": {
    "collapsed": false
   },
   "outputs": [
    {
     "name": "stdout",
     "output_type": "stream",
     "text": [
      "(149, 2)\n"
     ]
    },
    {
     "data": {
      "text/plain": [
       "<matplotlib.collections.PathCollection at 0x243a5c88cc0>"
      ]
     },
     "execution_count": 100,
     "metadata": {},
     "output_type": "execute_result"
    },
    {
     "data": {
      "image/png": "[encoded data removed]",
      "text/plain": [
       "<matplotlib.figure.Figure at 0x243a2b98c50>"
      ]
     },
     "metadata": {},
     "output_type": "display_data"
    }
   ],
   "source": [
    "from sklearn.decomposition import PCA\n",
    "pipe_y_mini = pipeline.Pipeline([\n",
    "    ('to_matrix', PandasToNumpy()),\n",
    "    ('label_encoder', ModifyLabelEncoder())\n",
    "])\n",
    "\n",
    "y = pipe_y_mini.fit_transform(outletless_data_y)\n",
    "x = number_data_x\n",
    "\n",
    "pca = PCA(n_components=2)\n",
    "\n",
    "_x = pca.fit_transform(x)\n",
    "print(_x.shape)\n",
    "\n",
    "clf_predict = lambda xx, yy: model.predict_classes(pca.inverse_transform(np.c_[xx.ravel(),yy.ravel()]))\n",
    "\n",
    "x0, x1 = _x[:, 0], _x[:, 1]\n",
    "xx, yy = make_mashgird(x0, x1)\n",
    "\n",
    "clf_predict(xx, yy)\n",
    "\n",
    "fig, ax = plt.subplots(1, 1, figsize=(10,10))\n",
    "plot_contours(ax, clf_predict, xx, yy, cmap=plt.cm.coolwarm, alpha=0.8)\n",
    "ax.scatter(x0,x1, c=y, cmap=plt.cm.coolwarm, s=20, edgecolors='k')"
   ]
  },
  {
   "cell_type": "code",
   "execution_count": null,
   "metadata": {
    "collapsed": true
   },
   "outputs": [],
   "source": []
  }
 ],
 "metadata": {
  "anaconda-cloud": {},
  "kernelspec": {
   "display_name": "Python [default]",
   "language": "python",
   "name": "python3"
  },
  "language_info": {
   "codemirror_mode": {
    "name": "ipython",
    "version": 3
   },
   "file_extension": ".py",
   "mimetype": "text/x-python",
   "name": "python",
   "nbconvert_exporter": "python",
   "pygments_lexer": "ipython3",
   "version": "3.5.2"
  }
 },
 "nbformat": 4,
 "nbformat_minor": 2
}
