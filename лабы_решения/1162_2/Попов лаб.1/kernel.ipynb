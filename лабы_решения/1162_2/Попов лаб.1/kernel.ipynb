{
  "cells": [
    {
      "metadata": {
        "_uuid": "8f2839f25d086af736a60e9eeb907d3b93b6e0e5",
        "_cell_guid": "b1076dfc-b9ad-4769-8c92-a6c4dae69d19",
        "trusted": true
      },
      "cell_type": "code",
      "source": "# This Python 3 environment comes with many helpful analytics libraries installed\n# It is defined by the kaggle/python docker image: https://github.com/kaggle/docker-python\n# For example, here's several helpful packages to load in \n\nimport numpy as np # linear algebra\nimport pandas as pd # data processing, CSV file I/O (e.g. pd.read_csv)\n\n# Input data files are available in the \"../input/\" directory.\n# For example, running this (by clicking run or pressing Shift+Enter) will list the files in the input directory\n\nimport os\nprint(os.listdir(\"../input\"))\n\n# Any results you write to the current directory are saved as output.",
      "execution_count": null,
      "outputs": []
    },
    {
      "metadata": {
        "_cell_guid": "79c7e3d0-c299-4dcb-8224-4455121ee9b0",
        "_uuid": "d629ff2d2480ee46fbb7e2d37f6b5fab8052498a",
        "trusted": true
      },
      "cell_type": "code",
      "source": "2 + 3",
      "execution_count": null,
      "outputs": []
    },
    {
      "metadata": {
        "trusted": true,
        "_uuid": "6436f1e564d89f0d3ad74b1405ba1563591fc2a8"
      },
      "cell_type": "code",
      "source": "4 * 5 ",
      "execution_count": null,
      "outputs": []
    },
    {
      "metadata": {
        "trusted": true,
        "_uuid": "d7a0cede4273e303bbca679cc437ca4b15a38943"
      },
      "cell_type": "code",
      "source": "5 - 1\n40 / 2",
      "execution_count": null,
      "outputs": []
    },
    {
      "metadata": {
        "trusted": true,
        "_uuid": "7846ec9da3ab11b427a1e9c40f124950be6f3a4f"
      },
      "cell_type": "code",
      "source": "2 ** 4",
      "execution_count": null,
      "outputs": []
    },
    {
      "metadata": {
        "trusted": true,
        "_uuid": "89c408df6fcf8db3bc3e821cfaabcb55df606b38"
      },
      "cell_type": "code",
      "source": "\"Vlad\"",
      "execution_count": null,
      "outputs": []
    },
    {
      "metadata": {
        "trusted": true,
        "_uuid": "1810560e8790fd07beb2eea6bdb8c01949876a1f"
      },
      "cell_type": "code",
      "source": "\"Hi there \" + \"Vlad\"",
      "execution_count": null,
      "outputs": []
    },
    {
      "metadata": {
        "trusted": true,
        "_uuid": "1f88bab3db0470fd4c56cc9920e79d8ce87e7c68"
      },
      "cell_type": "code",
      "source": "\"Vlad\" * 4",
      "execution_count": null,
      "outputs": []
    },
    {
      "metadata": {
        "trusted": true,
        "_uuid": "fa902effb439a570a4970991eef3f2a3640c1984"
      },
      "cell_type": "code",
      "source": "\"Running' down the hill\"",
      "execution_count": null,
      "outputs": []
    },
    {
      "metadata": {
        "trusted": true,
        "_uuid": "825b071176b3da5d5bff229b81f24436dfc84bd6"
      },
      "cell_type": "code",
      "source": "'Runnin\\' down the hill'",
      "execution_count": null,
      "outputs": []
    },
    {
      "metadata": {
        "trusted": true,
        "_uuid": "7c61bba3d098886b85f343101bef69cf102a1b18"
      },
      "cell_type": "code",
      "source": "\"Vlad\".upper()",
      "execution_count": null,
      "outputs": []
    },
    {
      "metadata": {
        "trusted": true,
        "_uuid": "f2fe42d50e2012740086001d58a36bb3a2d770c5"
      },
      "cell_type": "code",
      "source": "len(str(154325217))",
      "execution_count": null,
      "outputs": []
    },
    {
      "metadata": {
        "trusted": true,
        "_uuid": "5b0b081ea3ca3d53c5bc4d6acbb3fa49009f4a01"
      },
      "cell_type": "code",
      "source": "name = \"Vlad\"",
      "execution_count": null,
      "outputs": []
    },
    {
      "metadata": {
        "trusted": true,
        "_uuid": "841acabede991db73c29129b1a5601af4d1bdfe6"
      },
      "cell_type": "code",
      "source": "name",
      "execution_count": null,
      "outputs": []
    },
    {
      "metadata": {
        "trusted": true,
        "_uuid": "2ffdc09d077b3affde6c8b3cffb4451a8c2d1a50"
      },
      "cell_type": "code",
      "source": "len(name)",
      "execution_count": null,
      "outputs": []
    },
    {
      "metadata": {
        "trusted": true,
        "_uuid": "01214a12f44520af75ea5f067ad9273fc6eb3613"
      },
      "cell_type": "code",
      "source": "name = \"Pasha\"",
      "execution_count": null,
      "outputs": []
    },
    {
      "metadata": {
        "trusted": true,
        "_uuid": "8e709ce4f0d324f482748edbbacfb3f46cc78ae5"
      },
      "cell_type": "code",
      "source": "name",
      "execution_count": null,
      "outputs": []
    },
    {
      "metadata": {
        "trusted": true,
        "_uuid": "dbc153c7a23830451069fab74e34a14aca6a6f1e"
      },
      "cell_type": "code",
      "source": "print(name\n    )",
      "execution_count": null,
      "outputs": []
    },
    {
      "metadata": {
        "trusted": true,
        "_uuid": "873f39f803105e6b9f439fd7489f21f5d77a35ec"
      },
      "cell_type": "code",
      "source": "[]",
      "execution_count": null,
      "outputs": []
    },
    {
      "metadata": {
        "trusted": true,
        "_uuid": "d5459468fb8fdb261a3a66f4e3177b2f17cdcd26"
      },
      "cell_type": "code",
      "source": "lottery = [3, 4, 6, 1, 6, 3]",
      "execution_count": null,
      "outputs": []
    },
    {
      "metadata": {
        "trusted": true,
        "_uuid": "fe4511167490ff6d83ebceb762e8c32db1a57a14"
      },
      "cell_type": "code",
      "source": "len(lottery)",
      "execution_count": null,
      "outputs": []
    },
    {
      "metadata": {
        "trusted": true,
        "_uuid": "13377cf3db1eea9a4224bc5e16bbb848d1a207e6"
      },
      "cell_type": "code",
      "source": "lottery.sort(\n)",
      "execution_count": null,
      "outputs": []
    },
    {
      "metadata": {
        "trusted": true,
        "_uuid": "b3c02bcc19d7c7d4f635eaae73d4bbd52b9d2d59"
      },
      "cell_type": "code",
      "source": "print(lottery\n     )",
      "execution_count": null,
      "outputs": []
    },
    {
      "metadata": {
        "trusted": true,
        "_uuid": "eb2065c9fba3b0aa1006e3a4e084428d8dc13505"
      },
      "cell_type": "code",
      "source": "lottery.reverse()",
      "execution_count": null,
      "outputs": []
    },
    {
      "metadata": {
        "trusted": true,
        "_uuid": "2f5fcda5f5abbbe2c3809231cf73ed7b8848093f"
      },
      "cell_type": "code",
      "source": "print(lottery\n     )",
      "execution_count": null,
      "outputs": []
    },
    {
      "metadata": {
        "trusted": true,
        "_uuid": "59d3c5e4fde3a0bf5bb97f5df289bb9a628bf373"
      },
      "cell_type": "code",
      "source": "lottery.append(111\n              )",
      "execution_count": null,
      "outputs": []
    },
    {
      "metadata": {
        "trusted": true,
        "_uuid": "03136d41f315cda8ad3678ccccf040b1912ad82d"
      },
      "cell_type": "code",
      "source": "print(lottery\n     )",
      "execution_count": null,
      "outputs": []
    },
    {
      "metadata": {
        "trusted": true,
        "_uuid": "23885bd6e37005e1a320078c6a47736617ec7d1b"
      },
      "cell_type": "code",
      "source": "print(lottery[4\n             ])",
      "execution_count": null,
      "outputs": []
    },
    {
      "metadata": {
        "trusted": true,
        "_uuid": "078e8157fb2feed600f2e1c859db5425b6b9b0b6"
      },
      "cell_type": "code",
      "source": "print(lottery)",
      "execution_count": null,
      "outputs": []
    },
    {
      "metadata": {
        "trusted": true,
        "_uuid": "45a1d5343de10c8e92ac15e921b5bb2f4e801054"
      },
      "cell_type": "code",
      "source": "print(loterry[2])",
      "execution_count": null,
      "outputs": []
    },
    {
      "metadata": {
        "trusted": true,
        "_uuid": "9c955b379f2f71e50b241a6334b451d4b2c494f5"
      },
      "cell_type": "code",
      "source": "print(lottery[2])",
      "execution_count": null,
      "outputs": []
    },
    {
      "metadata": {
        "trusted": true,
        "_uuid": "b6e0a699c80b444cd1cb667d10988b4f2fa58543"
      },
      "cell_type": "code",
      "source": "lottery.pop(2)",
      "execution_count": null,
      "outputs": []
    },
    {
      "metadata": {
        "trusted": true,
        "_uuid": "42d29ff254f60d2dfd2f62166b204c8bef1f006a"
      },
      "cell_type": "code",
      "source": "print(lottery)",
      "execution_count": null,
      "outputs": []
    },
    {
      "metadata": {
        "trusted": true,
        "_uuid": "87008244b7ab39664e44405b25f673f5f9157021"
      },
      "cell_type": "code",
      "source": "{}",
      "execution_count": null,
      "outputs": []
    },
    {
      "metadata": {
        "trusted": true,
        "_uuid": "d908c71cfb91ebe731e5ae6ca029f072fff718cf"
      },
      "cell_type": "code",
      "source": "slovar = {'name': 'Vlad', 'country': 'USA', 'favorite_numbers':[11 , 94, 19]}",
      "execution_count": null,
      "outputs": []
    },
    {
      "metadata": {
        "trusted": true,
        "_uuid": "fbe0be5c404c8a98cdf2c23524d7576092e5c170"
      },
      "cell_type": "code",
      "source": "print(slovar['name'])",
      "execution_count": null,
      "outputs": []
    },
    {
      "metadata": {
        "trusted": true,
        "_uuid": "1e226c856255f7a6ec10306f77ed42d806e22a24"
      },
      "cell_type": "code",
      "source": "slovar ['favorite_language'] = 'Python'",
      "execution_count": null,
      "outputs": []
    },
    {
      "metadata": {
        "trusted": true,
        "_uuid": "0fb9a7b4ce99502fcafe93fe99f727c0ecbf1399"
      },
      "cell_type": "code",
      "source": "len (slovar)",
      "execution_count": null,
      "outputs": []
    },
    {
      "metadata": {
        "trusted": true,
        "_uuid": "083faeb1c6a7a958bcd4b42e50a8a488b93d0cc7"
      },
      "cell_type": "code",
      "source": "slovar.pop('favorite_numbers')",
      "execution_count": null,
      "outputs": []
    },
    {
      "metadata": {
        "trusted": true,
        "_uuid": "ac8d40a9ead486e307377600badf088683974297"
      },
      "cell_type": "code",
      "source": "slovar",
      "execution_count": null,
      "outputs": []
    },
    {
      "metadata": {
        "trusted": true,
        "_uuid": "2eff8237a47951daa19440fa3e0d3b35c1d06017"
      },
      "cell_type": "code",
      "source": "slovar['country'] = 'Germany'",
      "execution_count": null,
      "outputs": []
    },
    {
      "metadata": {
        "trusted": true,
        "_uuid": "f3244a17c8149edde52d1d98e4d1f61b6135e977"
      },
      "cell_type": "code",
      "source": "slovar",
      "execution_count": null,
      "outputs": []
    },
    {
      "metadata": {
        "trusted": true,
        "_uuid": "8d0b9e73543429be6af5d517d600d1e883513c9a"
      },
      "cell_type": "code",
      "source": "5 > 2",
      "execution_count": null,
      "outputs": []
    },
    {
      "metadata": {
        "trusted": true,
        "_uuid": "c7010ef80ec46b2e88ed506539c138914c68a368"
      },
      "cell_type": "code",
      "source": "3>1\n",
      "execution_count": null,
      "outputs": []
    },
    {
      "metadata": {
        "trusted": true,
        "_uuid": "1febd5e4c09933db743953fa0debc5723d655dbe"
      },
      "cell_type": "code",
      "source": "3<1",
      "execution_count": null,
      "outputs": []
    },
    {
      "metadata": {
        "trusted": true,
        "_uuid": "8fd7b10ec3dcac1e9184b2fc9105b3a501dcaa0f"
      },
      "cell_type": "code",
      "source": "3 > 1 and 5>3",
      "execution_count": null,
      "outputs": []
    },
    {
      "metadata": {
        "trusted": true,
        "_uuid": "6d1c2dcbe4d67271bf51008f51c49b6f3f3e2bc3"
      },
      "cell_type": "code",
      "source": "3>2 and 2<1",
      "execution_count": null,
      "outputs": []
    },
    {
      "metadata": {
        "trusted": true,
        "_uuid": "04494693febb07b397720f3ca0ec8865433f2d64"
      },
      "cell_type": "code",
      "source": "3>2 or 5<1",
      "execution_count": null,
      "outputs": []
    },
    {
      "metadata": {
        "trusted": true,
        "_uuid": "09159f675751a9ca9935ba4c55f84f0f5e54866d"
      },
      "cell_type": "code",
      "source": "1 >'django'",
      "execution_count": null,
      "outputs": []
    },
    {
      "metadata": {
        "trusted": true,
        "_uuid": "e135bf54f0c92cf8805c47f099ed3b1822ce500a"
      },
      "cell_type": "code",
      "source": "a = True\na",
      "execution_count": null,
      "outputs": []
    },
    {
      "metadata": {
        "trusted": true,
        "_uuid": "2feda79fbcc04e1f427cf447102107a9dee184b7"
      },
      "cell_type": "code",
      "source": "a = 2>5\n",
      "execution_count": null,
      "outputs": []
    },
    {
      "metadata": {
        "trusted": true,
        "_uuid": "1c438d27a3935144c69f24df805401068d4cd9bb"
      },
      "cell_type": "code",
      "source": "a",
      "execution_count": null,
      "outputs": []
    },
    {
      "metadata": {
        "trusted": true,
        "_uuid": "353d9bf9b452e76c24f6cf044545acae72c25509"
      },
      "cell_type": "code",
      "source": "True and True",
      "execution_count": null,
      "outputs": []
    },
    {
      "metadata": {
        "trusted": true,
        "_uuid": "1c57f5b414dab1b3f55e744c849bc47f47ab439e"
      },
      "cell_type": "code",
      "source": "False and False ",
      "execution_count": null,
      "outputs": []
    },
    {
      "metadata": {
        "trusted": true,
        "_uuid": "d7b1c3d853529493178aa74ec5a0b3a26b04d8d8"
      },
      "cell_type": "code",
      "source": "True or False ",
      "execution_count": null,
      "outputs": []
    },
    {
      "metadata": {
        "trusted": true,
        "_uuid": "b768b212d267cba786a3bfeabf21a799a060a9a0"
      },
      "cell_type": "code",
      "source": "True or 1 == 1",
      "execution_count": null,
      "outputs": []
    },
    {
      "metadata": {
        "trusted": true,
        "_uuid": "3641bce8337777b774136a0989cadf1376f408da"
      },
      "cell_type": "code",
      "source": "1 !=2\n",
      "execution_count": null,
      "outputs": []
    },
    {
      "metadata": {
        "trusted": true,
        "_uuid": "e4895c9f2a5b56147e4392baa0f02029fbf74f1e"
      },
      "cell_type": "code",
      "source": "if 3 > 2: \n    print('Vladislav') \n",
      "execution_count": null,
      "outputs": []
    },
    {
      "metadata": {
        "trusted": true,
        "_uuid": "8daddfb6b9e3f8d3f864d508b372862d12a15b33"
      },
      "cell_type": "code",
      "source": "if 5 > 2:\n    print('Vladislav')\nelse: \n    print('Popov')",
      "execution_count": null,
      "outputs": []
    },
    {
      "metadata": {
        "trusted": true,
        "_uuid": "799fcc97342959f7e49bae1644e9764d7a08280c"
      },
      "cell_type": "code",
      "source": "name ",
      "execution_count": null,
      "outputs": []
    },
    {
      "metadata": {
        "trusted": true,
        "_uuid": "f981f2177f716d033ef6eff07e3fb51ca69b43e7"
      },
      "cell_type": "code",
      "source": "if name == 'Pasha':\n    print('Hey Pasha')\nelif name == 'Ola':\n    print('Hey Ola')\nelse:\n    print('Hey anonymous!')",
      "execution_count": null,
      "outputs": []
    },
    {
      "metadata": {
        "trusted": true,
        "_uuid": "c372d61b3bef113de6feac67b82355529145243f"
      },
      "cell_type": "code",
      "source": "volume = 60\nif volume < 10:\n    print(\"It's kinda quiet.\")\nelif 10 <= volume < 20:\n    print(\"It's nice for background music\")\nelif 20 <= volume < 30:  \n    print(\"Perfect, I can hear all the details\")\nelif 30 <= volume < 40:\n    print(\"Nice for parties\")\nelif 40 <= volume < 50:\n    print(\"A bit loud\")\nelse:\n    print(\"My ears are hurting\")\n    ",
      "execution_count": 5,
      "outputs": [
        {
          "output_type": "stream",
          "text": "My ears are hurting\n",
          "name": "stdout"
        }
      ]
    },
    {
      "metadata": {
        "trusted": true,
        "_uuid": "14c0495316d20e1c35ef949b8d170736280fc576"
      },
      "cell_type": "code",
      "source": "#Change the volume if it's too loud or to quiet\nif volume > 10 or volume > 60:\n    volume = 50\n    print(\"That's better\")",
      "execution_count": 7,
      "outputs": [
        {
          "output_type": "stream",
          "text": "That's better\n",
          "name": "stdout"
        }
      ]
    },
    {
      "metadata": {
        "trusted": true,
        "_uuid": "c36919f926a5afef5da4b1781515a2e218df87c5"
      },
      "cell_type": "code",
      "source": "def hi ():\n    print(\"Hello\")\n    print(\"How are you?\")",
      "execution_count": 8,
      "outputs": []
    },
    {
      "metadata": {
        "trusted": true,
        "_uuid": "f18f27c3a9a40585899dd07978014793de0f3513"
      },
      "cell_type": "code",
      "source": "hi()",
      "execution_count": 10,
      "outputs": [
        {
          "output_type": "stream",
          "text": "Hello\nHow are you?\n",
          "name": "stdout"
        }
      ]
    },
    {
      "metadata": {
        "trusted": true,
        "_uuid": "150eff550cc142894d0a1d8767f3871d281e486c"
      },
      "cell_type": "code",
      "source": "def hi(name):\n    if name == 'Vlad':\n        print(\"Hello Vlad\")\n    elif name == 'Pasha':\n        print(\"Hello Pasha\")\n    else: \n        print(\"Hello anonymos\")\n        ",
      "execution_count": 11,
      "outputs": []
    },
    {
      "metadata": {
        "trusted": true,
        "_uuid": "f8083f71dd3612c35d8aa4f8f872bcd510e82291"
      },
      "cell_type": "code",
      "source": "hi('Pasha')",
      "execution_count": 14,
      "outputs": [
        {
          "output_type": "stream",
          "text": "Hello Pasha\n",
          "name": "stdout"
        }
      ]
    },
    {
      "metadata": {
        "trusted": true,
        "_uuid": "3533e3ed5225cc4569d25caee8ee65e2b5bbc671"
      },
      "cell_type": "code",
      "source": "hi('Vlad')",
      "execution_count": 15,
      "outputs": [
        {
          "output_type": "stream",
          "text": "Hello Vlad\n",
          "name": "stdout"
        }
      ]
    },
    {
      "metadata": {
        "trusted": true,
        "_uuid": "c40b2d145ae81feb71c2ecf632d9897fbba1df99"
      },
      "cell_type": "code",
      "source": "hi('asd')",
      "execution_count": 16,
      "outputs": [
        {
          "output_type": "stream",
          "text": "Hello anonymos\n",
          "name": "stdout"
        }
      ]
    },
    {
      "metadata": {
        "trusted": true,
        "_uuid": "b9418af86b09315f7359f28f443440547cc4b467"
      },
      "cell_type": "code",
      "source": "def hi(name):\n    print('Hello ' + name + '!')\n",
      "execution_count": 21,
      "outputs": []
    },
    {
      "metadata": {
        "trusted": true,
        "_uuid": "b90a96b3800fe5e10ec21766f4bff2dbf1d8b480"
      },
      "cell_type": "code",
      "source": "hi('Kiril')",
      "execution_count": 22,
      "outputs": [
        {
          "output_type": "stream",
          "text": "Hello Kiril!\n",
          "name": "stdout"
        }
      ]
    },
    {
      "metadata": {
        "trusted": true,
        "_uuid": "a71582fcd39ad511423308cfc9ed8537800e8673"
      },
      "cell_type": "code",
      "source": "girls = ['Ola', 'Vika', 'Nastya', 'Sveta', 'Anya']",
      "execution_count": 24,
      "outputs": []
    },
    {
      "metadata": {
        "trusted": true,
        "_uuid": "4afb289388093e0d475d15dc8992e3b56f24ed24"
      },
      "cell_type": "code",
      "source": "for name in girls:\n    hi(name)\n    print('Next girl')",
      "execution_count": 25,
      "outputs": [
        {
          "output_type": "stream",
          "text": "Hello Ola!\nNext girl\nHello Vika!\nNext girl\nHello Nastya!\nNext girl\nHello Sveta!\nNext girl\nHello Anya!\nNext girl\n",
          "name": "stdout"
        }
      ]
    },
    {
      "metadata": {
        "trusted": true,
        "_uuid": "0b3b1c1996961a57dea6242ae7592fbecbaf4443"
      },
      "cell_type": "code",
      "source": "for i in range(1, 6):\n    print(i)",
      "execution_count": 26,
      "outputs": [
        {
          "output_type": "stream",
          "text": "1\n2\n3\n4\n5\n",
          "name": "stdout"
        }
      ]
    },
    {
      "metadata": {
        "trusted": true,
        "_uuid": "8960a23d28d5020a77d22cddfe96c302663b615d"
      },
      "cell_type": "code",
      "source": "",
      "execution_count": null,
      "outputs": []
    }
  ],
  "metadata": {
    "kernelspec": {
      "display_name": "Python 3",
      "language": "python",
      "name": "python3"
    },
    "language_info": {
      "name": "python",
      "version": "3.6.6",
      "mimetype": "text/x-python",
      "codemirror_mode": {
        "name": "ipython",
        "version": 3
      },
      "pygments_lexer": "ipython3",
      "nbconvert_exporter": "python",
      "file_extension": ".py"
    }
  },
  "nbformat": 4,
  "nbformat_minor": 1
}