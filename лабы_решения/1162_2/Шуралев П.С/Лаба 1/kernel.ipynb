{
  "cells": [
    {
      "metadata": {
        "_uuid": "8f2839f25d086af736a60e9eeb907d3b93b6e0e5",
        "_cell_guid": "b1076dfc-b9ad-4769-8c92-a6c4dae69d19",
        "trusted": true
      },
      "cell_type": "code",
      "source": "# This Python 3 environment comes with many helpful analytics libraries installed\n# It is defined by the kaggle/python docker image: https://github.com/kaggle/docker-python\n# For example, here's several helpful packages to load in \n\nimport numpy as np # linear algebra\nimport pandas as pd # data processing, CSV file I/O (e.g. pd.read_csv)\n\n# Input data files are available in the \"../input/\" directory.\n# For example, running this (by clicking run or pressing Shift+Enter) will list the files in the input directory\n\nimport os\nprint(os.listdir(\"../input\"))\n\n# Any results you write to the current directory are saved as output.",
      "execution_count": null,
      "outputs": []
    },
    {
      "metadata": {
        "trusted": true,
        "_uuid": "1aebb3db20034bf303c943b74e4a4a139b54a429"
      },
      "cell_type": "code",
      "source": "",
      "execution_count": null,
      "outputs": []
    },
    {
      "metadata": {
        "_cell_guid": "79c7e3d0-c299-4dcb-8224-4455121ee9b0",
        "_uuid": "d629ff2d2480ee46fbb7e2d37f6b5fab8052498a",
        "trusted": true
      },
      "cell_type": "code",
      "source": "2+3",
      "execution_count": null,
      "outputs": []
    },
    {
      "metadata": {
        "trusted": true,
        "_uuid": "e73b5940b8f21fafa9877ed9cb636b93b50aff36"
      },
      "cell_type": "code",
      "source": "4*5",
      "execution_count": null,
      "outputs": []
    },
    {
      "metadata": {
        "trusted": true,
        "_uuid": "1d60f205877ce09dce59aa862d07688afe2111b3"
      },
      "cell_type": "code",
      "source": "5-1",
      "execution_count": null,
      "outputs": []
    },
    {
      "metadata": {
        "trusted": true,
        "_uuid": "0ba570e6d567ff60eb51b69c13987f6518a598cb"
      },
      "cell_type": "code",
      "source": "40/2",
      "execution_count": null,
      "outputs": []
    },
    {
      "metadata": {
        "trusted": true,
        "_uuid": "485c79af8fcc915b866060d461f345d0b288f55e"
      },
      "cell_type": "code",
      "source": "\"Ola\"",
      "execution_count": null,
      "outputs": []
    },
    {
      "metadata": {
        "_kg_hide-input": false,
        "_kg_hide-output": false,
        "trusted": true,
        "_uuid": "f0759ae1a44655cd7b8b1fb1e52211709b8b35f3"
      },
      "cell_type": "code",
      "source": "2**3",
      "execution_count": null,
      "outputs": []
    },
    {
      "metadata": {
        "trusted": true,
        "_uuid": "53567a66143a30c2381f148cd52e5312f5c4e078"
      },
      "cell_type": "code",
      "source": "\"Hi there \"+\"ola\"",
      "execution_count": null,
      "outputs": []
    },
    {
      "metadata": {
        "trusted": true,
        "_uuid": "11a4b2e19136bfdcaa67efa0e759b75c1b4fc915"
      },
      "cell_type": "code",
      "source": "\"Ola\"*3",
      "execution_count": null,
      "outputs": []
    },
    {
      "metadata": {
        "trusted": true,
        "_uuid": "36e8cd0e510172ae107b182dafb19ff217ecd1ae"
      },
      "cell_type": "code",
      "source": "\"Runnin' down the hill\"",
      "execution_count": null,
      "outputs": []
    },
    {
      "metadata": {
        "trusted": true,
        "_uuid": "299a48ae2adf70d039929edfa3238d91426dc39f"
      },
      "cell_type": "code",
      "source": "'Runnin\\' down the hill'",
      "execution_count": null,
      "outputs": []
    },
    {
      "metadata": {
        "trusted": true,
        "_uuid": "3d690e24cf1cb56095c4d3a8766a837f6be53e7e"
      },
      "cell_type": "code",
      "source": "\"name\".upper()",
      "execution_count": null,
      "outputs": []
    },
    {
      "metadata": {
        "trusted": true,
        "_uuid": "1f228d07c279e45c7a5788ff3dd526539b42e52a"
      },
      "cell_type": "code",
      "source": "len(\"Name\")",
      "execution_count": null,
      "outputs": []
    },
    {
      "metadata": {
        "trusted": true,
        "_uuid": "6e7ff4f41be1e7db971de2460f255c3e47b1b72d"
      },
      "cell_type": "code",
      "source": "ken(304023)",
      "execution_count": null,
      "outputs": []
    },
    {
      "metadata": {
        "trusted": true,
        "_uuid": "4e50bbb1b7afb62f04841905ae7b45803c096bb6"
      },
      "cell_type": "code",
      "source": "len(str(303023))",
      "execution_count": null,
      "outputs": []
    },
    {
      "metadata": {
        "trusted": true,
        "_uuid": "386ffe5387fe863d6a88ca515f58ceea78677344"
      },
      "cell_type": "code",
      "source": "int('hello')",
      "execution_count": null,
      "outputs": []
    },
    {
      "metadata": {
        "trusted": true,
        "_uuid": "f2dcd944fb17253cda1ac609e478418ec00ad855"
      },
      "cell_type": "code",
      "source": "name= \"Ola\"\nname",
      "execution_count": null,
      "outputs": []
    },
    {
      "metadata": {
        "trusted": true,
        "_uuid": "888ceb1639d80150cb0754c5f2e626065d01be51"
      },
      "cell_type": "code",
      "source": "len(name)",
      "execution_count": null,
      "outputs": []
    },
    {
      "metadata": {
        "trusted": true,
        "_uuid": "f3cf7e46f473b976b8bd35bc4501d7ad23509e50"
      },
      "cell_type": "code",
      "source": "a = 4\nb = 6\na * b",
      "execution_count": null,
      "outputs": []
    },
    {
      "metadata": {
        "trusted": true,
        "_uuid": "0da8366205517bc4f28f26cbe6e780c9b1474419"
      },
      "cell_type": "code",
      "source": "city = \"Tokyo\"\nciyt",
      "execution_count": null,
      "outputs": []
    },
    {
      "metadata": {
        "trusted": true,
        "_uuid": "7207370fdaf9f1e11de858b318aa81e10e7c26f6"
      },
      "cell_type": "code",
      "source": "name = \"Maria\"\nprint(name)",
      "execution_count": null,
      "outputs": []
    },
    {
      "metadata": {
        "trusted": true,
        "_uuid": "514d9eebbc5bb8e6ded467fec0e19a4e3f69934c"
      },
      "cell_type": "code",
      "source": "lottery = [3, 42, 12, 19, 30, 59]\nlottery",
      "execution_count": null,
      "outputs": []
    },
    {
      "metadata": {
        "trusted": true,
        "_uuid": "cd5a4b3eceb48b05d2c2eedbed637fdae937d346"
      },
      "cell_type": "code",
      "source": "len(lottery)",
      "execution_count": null,
      "outputs": []
    },
    {
      "metadata": {
        "trusted": true,
        "_uuid": "90a1d4cf567923046fc88e173d3fd763a8401173"
      },
      "cell_type": "code",
      "source": "lottery.sort()\nlottery",
      "execution_count": null,
      "outputs": []
    },
    {
      "metadata": {
        "trusted": true,
        "_uuid": "092df86ca83eacce176c770da011bef27c638fae"
      },
      "cell_type": "code",
      "source": "lottery.reverse()\nprint(lottery)",
      "execution_count": null,
      "outputs": []
    },
    {
      "metadata": {
        "trusted": true,
        "_uuid": "8e333c7e9f04c717af60a189468db2f1200add7a"
      },
      "cell_type": "code",
      "source": "lottery.append(199)\nlottery",
      "execution_count": null,
      "outputs": []
    },
    {
      "metadata": {
        "trusted": true,
        "_uuid": "305de418e15b251d3a597fb2921bd968a2b31357"
      },
      "cell_type": "code",
      "source": "lottery[0]",
      "execution_count": null,
      "outputs": []
    },
    {
      "metadata": {
        "trusted": true,
        "_uuid": "8d492a42e077ac4b4ccfcd8432a44af9e9ced52d"
      },
      "cell_type": "code",
      "source": "lottery.pop(0)\nlottery",
      "execution_count": null,
      "outputs": []
    },
    {
      "metadata": {
        "trusted": true,
        "_uuid": "405f244fd2d2e81b91564ba39f88d99a68f2abca"
      },
      "cell_type": "code",
      "source": "par= {\"name\": \"Pavel\", \"country\": \"Russia\", \"fav\": [7, 42, 92]}\npar",
      "execution_count": null,
      "outputs": []
    },
    {
      "metadata": {
        "trusted": true,
        "_uuid": "197a2b02eb53fd2af063134d946eb901891b8cae"
      },
      "cell_type": "code",
      "source": "print(par[\"name\"])",
      "execution_count": null,
      "outputs": []
    },
    {
      "metadata": {
        "trusted": true,
        "_uuid": "58cadbf5cc30500dd360c49820c36f2d779472e4"
      },
      "cell_type": "code",
      "source": "par[\"age\"]",
      "execution_count": null,
      "outputs": []
    },
    {
      "metadata": {
        "trusted": true,
        "_uuid": "cd0fb6cd402f8b2596592e325d87d9a9aebde50b"
      },
      "cell_type": "code",
      "source": "par[\"fav\"] = \"123asd\"\nprint(par[\"fav\"])",
      "execution_count": null,
      "outputs": []
    },
    {
      "metadata": {
        "trusted": true,
        "_uuid": "37a5e2dda19e694404416a182530879ff0a16508"
      },
      "cell_type": "code",
      "source": "len(par)",
      "execution_count": null,
      "outputs": []
    },
    {
      "metadata": {
        "trusted": true,
        "_uuid": "ad03e6da480277a25725f21ae51719f50152dfae"
      },
      "cell_type": "code",
      "source": "par.pop(\"name\")\npar",
      "execution_count": null,
      "outputs": []
    },
    {
      "metadata": {
        "trusted": true,
        "_uuid": "80c6da65b4c1f592edb5e8b7be90c2b9318c8d97"
      },
      "cell_type": "code",
      "source": "par[\"country\"] = \"Germany\"\npar",
      "execution_count": null,
      "outputs": []
    },
    {
      "metadata": {
        "trusted": true,
        "_uuid": "85f5ccc02591a248590f9afcdf2226c09604feba"
      },
      "cell_type": "code",
      "source": "5>2",
      "execution_count": null,
      "outputs": []
    },
    {
      "metadata": {
        "trusted": true,
        "_uuid": "2fe92eea0075ccb884f097b11c82fd994a03743f"
      },
      "cell_type": "code",
      "source": "3<1",
      "execution_count": null,
      "outputs": []
    },
    {
      "metadata": {
        "trusted": true,
        "_uuid": "552a30fdd94327c87d6d1e93f11e2b46eef5df16"
      },
      "cell_type": "code",
      "source": "5!=2",
      "execution_count": null,
      "outputs": []
    },
    {
      "metadata": {
        "trusted": true,
        "_uuid": "7b4d005b264e3eb3161791b59ee9dcd60f014ff0"
      },
      "cell_type": "code",
      "source": "6 >= 12/2",
      "execution_count": null,
      "outputs": []
    },
    {
      "metadata": {
        "trusted": true,
        "_uuid": "196dc4b7e169397a06c14bbde246c8b1af9f64cd"
      },
      "cell_type": "code",
      "source": "6>2 and 2<3",
      "execution_count": null,
      "outputs": []
    },
    {
      "metadata": {
        "trusted": true,
        "_uuid": "981d4ccbca9c972a5cafb730636dffccce8b5c40"
      },
      "cell_type": "code",
      "source": "2>1 and 3<2",
      "execution_count": null,
      "outputs": []
    },
    {
      "metadata": {
        "trusted": true,
        "_uuid": "c05fd6b68d9ac4101ac0ed043186ff8d008d0838"
      },
      "cell_type": "code",
      "source": "2 > \"name\"",
      "execution_count": null,
      "outputs": []
    },
    {
      "metadata": {
        "trusted": true,
        "_uuid": "6d64842dc667086c3deb4cba6b51fa6f5d49f5b4"
      },
      "cell_type": "code",
      "source": "a = 2>1\na",
      "execution_count": null,
      "outputs": []
    },
    {
      "metadata": {
        "trusted": true,
        "_uuid": "76cdf60893ac5d531e65c5cfdd3c47a3ebcd868e"
      },
      "cell_type": "code",
      "source": "a = 2*2<2\na",
      "execution_count": null,
      "outputs": []
    },
    {
      "metadata": {
        "trusted": true,
        "_uuid": "45e8f85dd59f66b9cda42ae132222b39e4efdc8b"
      },
      "cell_type": "code",
      "source": "if 3<4:\n    print(\"Work\")",
      "execution_count": null,
      "outputs": []
    },
    {
      "metadata": {
        "trusted": true,
        "_uuid": "4379466d6e256b75c19dc3a8e4619867d3938258"
      },
      "cell_type": "code",
      "source": "name = \"Sonja\"\nif name == \"Ola\":\n    print(\"Hey Ola!\")\nelif name == \"Sonja\":\n    print(\"Hey Sonja!\")\nelse:\n    print(\"Hey anonymous!\")",
      "execution_count": null,
      "outputs": []
    },
    {
      "metadata": {
        "trusted": true,
        "_uuid": "d330927d2830238cef93dfc54afcfad9834d0879"
      },
      "cell_type": "code",
      "source": "# Change volume\nvolume = 0\nif volume < 20 or volume > 80:\n    volume = 50\n    print(\"That's better!\")",
      "execution_count": null,
      "outputs": []
    },
    {
      "metadata": {
        "trusted": true,
        "_uuid": "c64b6887ea61e22663443eb5d102668c1ae68d2d"
      },
      "cell_type": "code",
      "source": "\ndef hi(name):\n    if name == 'Ola':\n        print('Hi Ola!')\n    elif name == 'Sonja':\n        print('Hi Sonja!')\n    else:\n        print('Hi anonymous!')\nname = \"Ola\"\nhi(name)\nname = \"Sonja\"\nhi(name)",
      "execution_count": null,
      "outputs": []
    },
    {
      "metadata": {
        "trusted": true,
        "_uuid": "7e6a7caf49fc7e029a0ae83ef8ec2d0744c77802"
      },
      "cell_type": "code",
      "source": "def hi(name):\n    print('Hi ' + name + '!')\ngirls = ['Rachel', 'Monica', 'Phoebe', 'Ola', 'You']\nfor name in girls:\n    hi(name)\n    print('Next girl')\nfor i in range(1, 6):\n    print(i)",
      "execution_count": null,
      "outputs": []
    }
  ],
  "metadata": {
    "kernelspec": {
      "display_name": "Python 3",
      "language": "python",
      "name": "python3"
    },
    "language_info": {
      "name": "python",
      "version": "3.6.6",
      "mimetype": "text/x-python",
      "codemirror_mode": {
        "name": "ipython",
        "version": 3
      },
      "pygments_lexer": "ipython3",
      "nbconvert_exporter": "python",
      "file_extension": ".py"
    }
  },
  "nbformat": 4,
  "nbformat_minor": 1
}