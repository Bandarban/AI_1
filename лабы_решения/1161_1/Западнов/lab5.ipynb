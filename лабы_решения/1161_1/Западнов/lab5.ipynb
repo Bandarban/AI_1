{
 "cells": [
  {
   "cell_type": "code",
   "execution_count": 21,
   "metadata": {
    "colab": {
     "base_uri": "https://localhost:8080/",
     "height": 510
    },
    "colab_type": "code",
    "id": "47eZrOmlQiz7",
    "outputId": "2f105414-9a97-4443-fe9a-96c4e245da38"
   },
   "outputs": [
    {
     "name": "stdout",
     "output_type": "stream",
     "text": [
      "Requirement already satisfied: tensorflow in /usr/local/lib/python3.6/dist-packages (1.12.0)\n",
      "Requirement already satisfied: tensorboard<1.13.0,>=1.12.0 in /usr/local/lib/python3.6/dist-packages (from tensorflow) (1.12.1)\n",
      "Requirement already satisfied: keras-preprocessing>=1.0.5 in /usr/local/lib/python3.6/dist-packages (from tensorflow) (1.0.5)\n",
      "Requirement already satisfied: gast>=0.2.0 in /usr/local/lib/python3.6/dist-packages (from tensorflow) (0.2.0)\n",
      "Requirement already satisfied: protobuf>=3.6.1 in /usr/local/lib/python3.6/dist-packages (from tensorflow) (3.6.1)\n",
      "Requirement already satisfied: keras-applications>=1.0.6 in /usr/local/lib/python3.6/dist-packages (from tensorflow) (1.0.6)\n",
      "Requirement already satisfied: absl-py>=0.1.6 in /usr/local/lib/python3.6/dist-packages (from tensorflow) (0.6.1)\n",
      "Requirement already satisfied: numpy>=1.13.3 in /usr/local/lib/python3.6/dist-packages (from tensorflow) (1.14.6)\n",
      "Requirement already satisfied: wheel>=0.26 in /usr/local/lib/python3.6/dist-packages (from tensorflow) (0.32.3)\n",
      "Requirement already satisfied: grpcio>=1.8.6 in /usr/local/lib/python3.6/dist-packages (from tensorflow) (1.15.0)\n",
      "Requirement already satisfied: astor>=0.6.0 in /usr/local/lib/python3.6/dist-packages (from tensorflow) (0.7.1)\n",
      "Requirement already satisfied: termcolor>=1.1.0 in /usr/local/lib/python3.6/dist-packages (from tensorflow) (1.1.0)\n",
      "Requirement already satisfied: six>=1.10.0 in /usr/local/lib/python3.6/dist-packages (from tensorflow) (1.11.0)\n",
      "Requirement already satisfied: werkzeug>=0.11.10 in /usr/local/lib/python3.6/dist-packages (from tensorboard<1.13.0,>=1.12.0->tensorflow) (0.14.1)\n",
      "Requirement already satisfied: markdown>=2.6.8 in /usr/local/lib/python3.6/dist-packages (from tensorboard<1.13.0,>=1.12.0->tensorflow) (3.0.1)\n",
      "Requirement already satisfied: setuptools in /usr/local/lib/python3.6/dist-packages (from protobuf>=3.6.1->tensorflow) (40.6.3)\n",
      "Requirement already satisfied: h5py in /usr/local/lib/python3.6/dist-packages (from keras-applications>=1.0.6->tensorflow) (2.8.0)\n",
      "Всего данных: 891\n"
     ]
    },
    {
     "data": {
      "text/html": [
       "<div>\n",
       "<style scoped>\n",
       "    .dataframe tbody tr th:only-of-type {\n",
       "        vertical-align: middle;\n",
       "    }\n",
       "\n",
       "    .dataframe tbody tr th {\n",
       "        vertical-align: top;\n",
       "    }\n",
       "\n",
       "    .dataframe thead th {\n",
       "        text-align: right;\n",
       "    }\n",
       "</style>\n",
       "<table border=\"1\" class=\"dataframe\">\n",
       "  <thead>\n",
       "    <tr style=\"text-align: right;\">\n",
       "      <th></th>\n",
       "      <th>PassengerId</th>\n",
       "      <th>Survived</th>\n",
       "      <th>Pclass</th>\n",
       "      <th>Name</th>\n",
       "      <th>Sex</th>\n",
       "      <th>Age</th>\n",
       "      <th>SibSp</th>\n",
       "      <th>Parch</th>\n",
       "      <th>Ticket</th>\n",
       "      <th>Fare</th>\n",
       "      <th>Cabin</th>\n",
       "      <th>Embarked</th>\n",
       "    </tr>\n",
       "  </thead>\n",
       "  <tbody>\n",
       "    <tr>\n",
       "      <th>0</th>\n",
       "      <td>1</td>\n",
       "      <td>0</td>\n",
       "      <td>3</td>\n",
       "      <td>Braund, Mr. Owen Harris</td>\n",
       "      <td>male</td>\n",
       "      <td>22.0</td>\n",
       "      <td>1</td>\n",
       "      <td>0</td>\n",
       "      <td>A/5 21171</td>\n",
       "      <td>7.2500</td>\n",
       "      <td>NaN</td>\n",
       "      <td>S</td>\n",
       "    </tr>\n",
       "    <tr>\n",
       "      <th>1</th>\n",
       "      <td>2</td>\n",
       "      <td>1</td>\n",
       "      <td>1</td>\n",
       "      <td>Cumings, Mrs. John Bradley (Florence Briggs Th...</td>\n",
       "      <td>female</td>\n",
       "      <td>38.0</td>\n",
       "      <td>1</td>\n",
       "      <td>0</td>\n",
       "      <td>PC 17599</td>\n",
       "      <td>71.2833</td>\n",
       "      <td>C85</td>\n",
       "      <td>C</td>\n",
       "    </tr>\n",
       "    <tr>\n",
       "      <th>2</th>\n",
       "      <td>3</td>\n",
       "      <td>1</td>\n",
       "      <td>3</td>\n",
       "      <td>Heikkinen, Miss. Laina</td>\n",
       "      <td>female</td>\n",
       "      <td>26.0</td>\n",
       "      <td>0</td>\n",
       "      <td>0</td>\n",
       "      <td>STON/O2. 3101282</td>\n",
       "      <td>7.9250</td>\n",
       "      <td>NaN</td>\n",
       "      <td>S</td>\n",
       "    </tr>\n",
       "    <tr>\n",
       "      <th>3</th>\n",
       "      <td>4</td>\n",
       "      <td>1</td>\n",
       "      <td>1</td>\n",
       "      <td>Futrelle, Mrs. Jacques Heath (Lily May Peel)</td>\n",
       "      <td>female</td>\n",
       "      <td>35.0</td>\n",
       "      <td>1</td>\n",
       "      <td>0</td>\n",
       "      <td>113803</td>\n",
       "      <td>53.1000</td>\n",
       "      <td>C123</td>\n",
       "      <td>S</td>\n",
       "    </tr>\n",
       "    <tr>\n",
       "      <th>4</th>\n",
       "      <td>5</td>\n",
       "      <td>0</td>\n",
       "      <td>3</td>\n",
       "      <td>Allen, Mr. William Henry</td>\n",
       "      <td>male</td>\n",
       "      <td>35.0</td>\n",
       "      <td>0</td>\n",
       "      <td>0</td>\n",
       "      <td>373450</td>\n",
       "      <td>8.0500</td>\n",
       "      <td>NaN</td>\n",
       "      <td>S</td>\n",
       "    </tr>\n",
       "  </tbody>\n",
       "</table>\n",
       "</div>"
      ],
      "text/plain": [
       "   PassengerId  Survived  Pclass  \\\n",
       "0            1         0       3   \n",
       "1            2         1       1   \n",
       "2            3         1       3   \n",
       "3            4         1       1   \n",
       "4            5         0       3   \n",
       "\n",
       "                                                Name     Sex   Age  SibSp  \\\n",
       "0                            Braund, Mr. Owen Harris    male  22.0      1   \n",
       "1  Cumings, Mrs. John Bradley (Florence Briggs Th...  female  38.0      1   \n",
       "2                             Heikkinen, Miss. Laina  female  26.0      0   \n",
       "3       Futrelle, Mrs. Jacques Heath (Lily May Peel)  female  35.0      1   \n",
       "4                           Allen, Mr. William Henry    male  35.0      0   \n",
       "\n",
       "   Parch            Ticket     Fare Cabin Embarked  \n",
       "0      0         A/5 21171   7.2500   NaN        S  \n",
       "1      0          PC 17599  71.2833   C85        C  \n",
       "2      0  STON/O2. 3101282   7.9250   NaN        S  \n",
       "3      0            113803  53.1000  C123        S  \n",
       "4      0            373450   8.0500   NaN        S  "
      ]
     },
     "execution_count": 21,
     "metadata": {
      "tags": []
     },
     "output_type": "execute_result"
    }
   ],
   "source": [
    "!pip install tensorflow\n",
    "import matplotlib.pyplot as plt\n",
    "import seaborn as sns\n",
    "import numpy as np\n",
    "import scipy as sp\n",
    "import sklearn.pipeline as pipeline\n",
    "import sklearn.preprocessing as preprocessing\n",
    "from sklearn.base import BaseEstimator, TransformerMixin\n",
    "from keras.utils import to_categorical\n",
    "\n",
    "%matplotlib inline\n",
    "\n",
    "import pandas as pd\n",
    "\n",
    "data = pd.read_csv('https://drive.google.com/uc?authuser=0&id=12Jd3D_o66vQFnwuSep4KZY8OGSIwc9kn&export=download')\n",
    "print(f'Всего данных: {data.shape[0]}')\n",
    "data.head()\n"
   ]
  },
  {
   "cell_type": "code",
   "execution_count": 0,
   "metadata": {
    "colab": {},
    "colab_type": "code",
    "id": "3LHd50FFeQ5E"
   },
   "outputs": [],
   "source": [
    "data=data.drop(['Name', 'Ticket', 'Cabin'], axis=1)"
   ]
  },
  {
   "cell_type": "code",
   "execution_count": 0,
   "metadata": {
    "colab": {},
    "colab_type": "code",
    "id": "J9eoHgCURiAp"
   },
   "outputs": [],
   "source": [
    "\n",
    "\n",
    "class FillNa(TransformerMixin, BaseEstimator):\n",
    "    def fit(self, X: pd.DataFrame, y=None):\n",
    "        return self\n",
    "    def transform(self, X: pd.DataFrame, y=None) -> pd.DataFrame:\n",
    "        return X.interpolate(method='cubic').fillna(method='pad').dropna()\n",
    "        \n",
    "    \n",
    "    \n",
    "class DropOutlet(TransformerMixin, BaseEstimator):\n",
    "    def fit(self, X: pd.DataFrame, y=None):\n",
    "        self.std = X.std()\n",
    "        self.columns = self.std.index.values\n",
    "        return self\n",
    "    def transform(self, X: pd.DataFrame, y=None) -> pd.DataFrame:\n",
    "        X_cols = X[self.columns]\n",
    "        return X[ (X_cols - X_cols.mean()).abs() <= 3*self.std ].dropna()\n",
    "class PandasToNumpy(BaseEstimator):\n",
    "    def fit(self, X : pd.DataFrame = None, y=None):\n",
    "        return self\n",
    "    def transform(self, X: pd.DataFrame, y=None) -> np.ndarray:\n",
    "        return X.values\n",
    "class SparseToArray(TransformerMixin, BaseEstimator):\n",
    "    def fit(self, X, y=None):\n",
    "        return self\n",
    "    def transform(self, X, y=None):\n",
    "        return X.toarray()\n",
    "class ModifyLabelEncoder(preprocessing.LabelEncoder):\n",
    "    def fit(self, X, y=None):\n",
    "        return super().fit(X)\n",
    "    def transform(self, X, y=None):\n",
    "        print(1)\n",
    "        return super().transform(X)\n",
    "    def fit_transform(self, X, y=None):\n",
    "        return super().fit_transform(X)\n",
    "class ExpandDims(TransformerMixin, BaseEstimator):\n",
    "    def __init__(self, axis):\n",
    "        self.axis = axis\n",
    "    def fit(self, X, y=None):\n",
    "        return self\n",
    "    def transform(self, X, y=None):\n",
    "        return np.expand_dims(X, axis=self.axis)   "
   ]
  },
  {
   "cell_type": "code",
   "execution_count": 24,
   "metadata": {
    "colab": {
     "base_uri": "https://localhost:8080/",
     "height": 153
    },
    "colab_type": "code",
    "id": "5CzlVPbPedtX",
    "outputId": "30cd34e7-7918-4bbb-dff0-36c7cc2e61bc"
   },
   "outputs": [
    {
     "data": {
      "text/plain": [
       "Survived      0\n",
       "Pclass        0\n",
       "Sex           0\n",
       "Age         177\n",
       "SibSp         0\n",
       "Parch         0\n",
       "Fare          0\n",
       "dtype: int64"
      ]
     },
     "execution_count": 24,
     "metadata": {
      "tags": []
     },
     "output_type": "execute_result"
    }
   ],
   "source": [
    "data.iloc[:,1:8].isnull().sum()"
   ]
  },
  {
   "cell_type": "code",
   "execution_count": 26,
   "metadata": {
    "colab": {
     "base_uri": "https://localhost:8080/",
     "height": 122
    },
    "colab_type": "code",
    "id": "9--V98w-Ru7q",
    "outputId": "4f311ea0-b9b5-4e6c-8d4b-84bb06b9f88e"
   },
   "outputs": [
    {
     "name": "stdout",
     "output_type": "stream",
     "text": [
      "(821, 8) (821, 821)\n"
     ]
    },
    {
     "name": "stderr",
     "output_type": "stream",
     "text": [
      "/usr/local/lib/python3.6/dist-packages/sklearn/preprocessing/_encoders.py:368: FutureWarning: The handling of integer data will change in version 0.22. Currently, the categories are determined based on the range [0, max(values)], while in the future they will be determined based on the unique values.\n",
      "If you want the future behaviour and silence this warning, you can specify \"categories='auto'\".\n",
      "In case you used a LabelEncoder before this OneHotEncoder to convert the categories to integers, then you can now use the OneHotEncoder directly.\n",
      "  warnings.warn(msg, FutureWarning)\n"
     ]
    }
   ],
   "source": [
    "X_data = data.iloc[:,1:8].copy()\n",
    "X_data = pd.get_dummies(X_data)\n",
    "Y_data = data[data.columns[0]].copy()\n",
    "\n",
    "fill_na_pipe = pipeline.Pipeline([\n",
    "    ('fill', FillNa()),\n",
    "])\n",
    "\n",
    "pipe_outlet = pipeline.Pipeline([\n",
    "    ('fill_na', fill_na_pipe),\n",
    "    ('drop_outlet', DropOutlet()),\n",
    "])\n",
    "\n",
    "outletless_data_X = pipe_outlet.fit_transform(X_data)\n",
    "outletless_data_Y = Y_data[ fill_na_pipe.fit_transform(Y_data).index.isin(outletless_data_X.index) ]\n",
    "\n",
    "pipe_x = pipeline.Pipeline([\n",
    "    ('to_matrix', PandasToNumpy()),\n",
    "    ('norm', preprocessing.MinMaxScaler())\n",
    "])\n",
    "\n",
    "pipe_y = pipeline.Pipeline([\n",
    "    ('to_matrix', PandasToNumpy()),\n",
    "    ('label_encoder', ModifyLabelEncoder()),\n",
    "    ('expand_dims', ExpandDims(axis=1)),\n",
    "    ('one_hot_encoder', preprocessing.OneHotEncoder(sparse=False))\n",
    "])\n",
    "\n",
    "number_data_ready_X = pipe_x.fit_transform(outletless_data_X)\n",
    "number_data_ready_Y = pipe_y.fit_transform(outletless_data_Y)\n",
    "\n",
    "print(number_data_ready_X.shape, number_data_ready_Y.shape)"
   ]
  },
  {
   "cell_type": "code",
   "execution_count": 27,
   "metadata": {
    "colab": {
     "base_uri": "https://localhost:8080/",
     "height": 476
    },
    "colab_type": "code",
    "id": "sTDhOE_LS5Of",
    "outputId": "ba95d1fa-f95f-4645-8309-f2e8cb89df84"
   },
   "outputs": [
    {
     "data": {
      "text/plain": [
       "(array([[0.        , 1.        , 0.37002318, 0.33333333, 0.        ,\n",
       "         0.04397492, 0.        , 1.        ],\n",
       "        [1.        , 0.        , 0.5638622 , 0.33333333, 0.        ,\n",
       "         0.4323693 , 1.        , 0.        ],\n",
       "        [1.        , 1.        , 0.41848293, 0.        , 0.        ,\n",
       "         0.04806914, 1.        , 0.        ],\n",
       "        [1.        , 0.        , 0.52751738, 0.33333333, 0.        ,\n",
       "         0.32207838, 1.        , 0.        ],\n",
       "        [0.        , 1.        , 0.52751738, 0.        , 0.        ,\n",
       "         0.04882733, 0.        , 1.        ],\n",
       "        [0.        , 1.        , 0.80908601, 0.        , 0.        ,\n",
       "         0.05130387, 0.        , 1.        ],\n",
       "        [0.        , 0.        , 0.75770122, 0.        , 0.        ,\n",
       "         0.31457232, 0.        , 1.        ],\n",
       "        [0.        , 1.        , 0.1277244 , 1.        , 0.5       ,\n",
       "         0.12783054, 0.        , 1.        ],\n",
       "        [1.        , 1.        , 0.43059787, 0.        , 1.        ,\n",
       "         0.0675291 , 1.        , 0.        ],\n",
       "        [1.        , 0.5       , 0.27310367, 0.33333333, 0.        ,\n",
       "         0.18239463, 1.        , 0.        ]]),\n",
       " array([[1., 0., 0., ..., 0., 0., 0.],\n",
       "        [0., 0., 0., ..., 0., 0., 0.],\n",
       "        [0., 0., 0., ..., 0., 0., 0.],\n",
       "        ...,\n",
       "        [0., 0., 0., ..., 0., 0., 0.],\n",
       "        [0., 0., 0., ..., 0., 0., 0.],\n",
       "        [0., 0., 0., ..., 0., 0., 0.]]))"
      ]
     },
     "execution_count": 27,
     "metadata": {
      "tags": []
     },
     "output_type": "execute_result"
    }
   ],
   "source": [
    "number_data_ready_X[:10,:], number_data_ready_Y[::40]"
   ]
  },
  {
   "cell_type": "code",
   "execution_count": 28,
   "metadata": {
    "colab": {
     "base_uri": "https://localhost:8080/",
     "height": 34
    },
    "colab_type": "code",
    "id": "afR9CJ8eg-Pe",
    "outputId": "5eb28e49-ce68-4a0c-cebe-edae50131217"
   },
   "outputs": [
    {
     "data": {
      "text/plain": [
       "((821, 8), (821, 821))"
      ]
     },
     "execution_count": 28,
     "metadata": {
      "tags": []
     },
     "output_type": "execute_result"
    }
   ],
   "source": [
    "import sys\n",
    "import keras\n",
    "from keras.layers import Dense\n",
    "from keras.models import Sequential\n",
    "from keras import activations\n",
    "from keras.optimizers import Adam, RMSprop\n",
    "from keras.losses import categorical_crossentropy\n",
    "from keras.metrics import categorical_accuracy\n",
    "\n",
    "X_train = number_data_ready_X\n",
    "Y_train = number_data_ready_Y\n",
    "X_train.shape, Y_train.shape"
   ]
  },
  {
   "cell_type": "code",
   "execution_count": 0,
   "metadata": {
    "colab": {},
    "colab_type": "code",
    "id": "Rp1kkwD5TKwl"
   },
   "outputs": [],
   "source": [
    "\n",
    "model = Sequential()\n",
    "model.add(Dense(10, activation=activations.relu, input_dim=X_train.shape[1]))\n",
    "model.add(Dense(Y_train.shape[1], activation=activations.softmax))\n",
    "model.compile(Adam(), categorical_crossentropy, metrics=[categorical_accuracy])"
   ]
  },
  {
   "cell_type": "code",
   "execution_count": 30,
   "metadata": {
    "colab": {
     "base_uri": "https://localhost:8080/",
     "height": 3434
    },
    "colab_type": "code",
    "id": "zkz9JQWHhc8g",
    "outputId": "d64b1495-74be-46ef-b11a-222589f30568"
   },
   "outputs": [
    {
     "name": "stdout",
     "output_type": "stream",
     "text": [
      "Epoch 1/100\n",
      " - 1s - loss: 6.7748 - categorical_accuracy: 0.0000e+00\n",
      "Epoch 2/100\n",
      " - 0s - loss: 6.6559 - categorical_accuracy: 0.0037\n",
      "Epoch 3/100\n",
      " - 0s - loss: 6.4366 - categorical_accuracy: 0.0037\n",
      "Epoch 4/100\n",
      " - 0s - loss: 6.1611 - categorical_accuracy: 0.0061\n",
      "Epoch 5/100\n",
      " - 0s - loss: 5.8835 - categorical_accuracy: 0.0085\n",
      "Epoch 6/100\n",
      " - 0s - loss: 5.6413 - categorical_accuracy: 0.0122\n",
      "Epoch 7/100\n",
      " - 0s - loss: 5.4371 - categorical_accuracy: 0.0207\n",
      "Epoch 8/100\n",
      " - 0s - loss: 5.2612 - categorical_accuracy: 0.0219\n",
      "Epoch 9/100\n",
      " - 0s - loss: 5.1040 - categorical_accuracy: 0.0244\n",
      "Epoch 10/100\n",
      " - 0s - loss: 4.9636 - categorical_accuracy: 0.0365\n",
      "Epoch 11/100\n",
      " - 0s - loss: 4.8368 - categorical_accuracy: 0.0390\n",
      "Epoch 12/100\n",
      " - 0s - loss: 4.7225 - categorical_accuracy: 0.0451\n",
      "Epoch 13/100\n",
      " - 0s - loss: 4.6197 - categorical_accuracy: 0.0414\n",
      "Epoch 14/100\n",
      " - 0s - loss: 4.5256 - categorical_accuracy: 0.0560\n",
      "Epoch 15/100\n",
      " - 0s - loss: 4.4415 - categorical_accuracy: 0.0597\n",
      "Epoch 16/100\n",
      " - 0s - loss: 4.3632 - categorical_accuracy: 0.0524\n",
      "Epoch 17/100\n",
      " - 0s - loss: 4.2917 - categorical_accuracy: 0.0560\n",
      "Epoch 18/100\n",
      " - 0s - loss: 4.2243 - categorical_accuracy: 0.0572\n",
      "Epoch 19/100\n",
      " - 0s - loss: 4.1616 - categorical_accuracy: 0.0621\n",
      "Epoch 20/100\n",
      " - 0s - loss: 4.1027 - categorical_accuracy: 0.0706\n",
      "Epoch 21/100\n",
      " - 0s - loss: 4.0470 - categorical_accuracy: 0.0816\n",
      "Epoch 22/100\n",
      " - 0s - loss: 3.9942 - categorical_accuracy: 0.0743\n",
      "Epoch 23/100\n",
      " - 0s - loss: 3.9445 - categorical_accuracy: 0.0780\n",
      "Epoch 24/100\n",
      " - 0s - loss: 3.8989 - categorical_accuracy: 0.0853\n",
      "Epoch 25/100\n",
      " - 0s - loss: 3.8546 - categorical_accuracy: 0.0962\n",
      "Epoch 26/100\n",
      " - 0s - loss: 3.8128 - categorical_accuracy: 0.0816\n",
      "Epoch 27/100\n",
      " - 0s - loss: 3.7731 - categorical_accuracy: 0.0877\n",
      "Epoch 28/100\n",
      " - 0s - loss: 3.7352 - categorical_accuracy: 0.0962\n",
      "Epoch 29/100\n",
      " - 0s - loss: 3.6998 - categorical_accuracy: 0.0950\n",
      "Epoch 30/100\n",
      " - 0s - loss: 3.6655 - categorical_accuracy: 0.1035\n",
      "Epoch 31/100\n",
      " - 0s - loss: 3.6338 - categorical_accuracy: 0.0974\n",
      "Epoch 32/100\n",
      " - 0s - loss: 3.6037 - categorical_accuracy: 0.0962\n",
      "Epoch 33/100\n",
      " - 0s - loss: 3.5731 - categorical_accuracy: 0.0987\n",
      "Epoch 34/100\n",
      " - 0s - loss: 3.5457 - categorical_accuracy: 0.1035\n",
      "Epoch 35/100\n",
      " - 0s - loss: 3.5179 - categorical_accuracy: 0.1145\n",
      "Epoch 36/100\n",
      " - 0s - loss: 3.4919 - categorical_accuracy: 0.1145\n",
      "Epoch 37/100\n",
      " - 0s - loss: 3.4674 - categorical_accuracy: 0.1218\n",
      "Epoch 38/100\n",
      " - 0s - loss: 3.4418 - categorical_accuracy: 0.1145\n",
      "Epoch 39/100\n",
      " - 0s - loss: 3.4194 - categorical_accuracy: 0.1157\n",
      "Epoch 40/100\n",
      " - 0s - loss: 3.3972 - categorical_accuracy: 0.1242\n",
      "Epoch 41/100\n",
      " - 0s - loss: 3.3763 - categorical_accuracy: 0.1194\n",
      "Epoch 42/100\n",
      " - 0s - loss: 3.3557 - categorical_accuracy: 0.1206\n",
      "Epoch 43/100\n",
      " - 0s - loss: 3.3349 - categorical_accuracy: 0.1267\n",
      "Epoch 44/100\n",
      " - 0s - loss: 3.3151 - categorical_accuracy: 0.1303\n",
      "Epoch 45/100\n",
      " - 0s - loss: 3.2971 - categorical_accuracy: 0.1291\n",
      "Epoch 46/100\n",
      " - 0s - loss: 3.2788 - categorical_accuracy: 0.1315\n",
      "Epoch 47/100\n",
      " - 0s - loss: 3.2612 - categorical_accuracy: 0.1303\n",
      "Epoch 48/100\n",
      " - 0s - loss: 3.2439 - categorical_accuracy: 0.1218\n",
      "Epoch 49/100\n",
      " - 0s - loss: 3.2274 - categorical_accuracy: 0.1255\n",
      "Epoch 50/100\n",
      " - 0s - loss: 3.2115 - categorical_accuracy: 0.1389\n",
      "Epoch 51/100\n",
      " - 0s - loss: 3.1953 - categorical_accuracy: 0.1437\n",
      "Epoch 52/100\n",
      " - 0s - loss: 3.1812 - categorical_accuracy: 0.1389\n",
      "Epoch 53/100\n",
      " - 0s - loss: 3.1658 - categorical_accuracy: 0.1389\n",
      "Epoch 54/100\n",
      " - 0s - loss: 3.1522 - categorical_accuracy: 0.1425\n",
      "Epoch 55/100\n",
      " - 0s - loss: 3.1375 - categorical_accuracy: 0.1462\n",
      "Epoch 56/100\n",
      " - 0s - loss: 3.1243 - categorical_accuracy: 0.1389\n",
      "Epoch 57/100\n",
      " - 0s - loss: 3.1117 - categorical_accuracy: 0.1376\n",
      "Epoch 58/100\n",
      " - 0s - loss: 3.0977 - categorical_accuracy: 0.1510\n",
      "Epoch 59/100\n",
      " - 0s - loss: 3.0856 - categorical_accuracy: 0.1583\n",
      "Epoch 60/100\n",
      " - 0s - loss: 3.0736 - categorical_accuracy: 0.1523\n",
      "Epoch 61/100\n",
      " - 0s - loss: 3.0601 - categorical_accuracy: 0.1510\n",
      "Epoch 62/100\n",
      " - 0s - loss: 3.0488 - categorical_accuracy: 0.1547\n",
      "Epoch 63/100\n",
      " - 0s - loss: 3.0379 - categorical_accuracy: 0.1535\n",
      "Epoch 64/100\n",
      " - 0s - loss: 3.0272 - categorical_accuracy: 0.1669\n",
      "Epoch 65/100\n",
      " - 0s - loss: 3.0168 - categorical_accuracy: 0.1571\n",
      "Epoch 66/100\n",
      " - 0s - loss: 3.0047 - categorical_accuracy: 0.1693\n",
      "Epoch 67/100\n",
      " - 0s - loss: 2.9950 - categorical_accuracy: 0.1669\n",
      "Epoch 68/100\n",
      " - 0s - loss: 2.9832 - categorical_accuracy: 0.1730\n",
      "Epoch 69/100\n",
      " - 0s - loss: 2.9745 - categorical_accuracy: 0.1583\n",
      "Epoch 70/100\n",
      " - 0s - loss: 2.9630 - categorical_accuracy: 0.1681\n",
      "Epoch 71/100\n",
      " - 0s - loss: 2.9548 - categorical_accuracy: 0.1657\n",
      "Epoch 72/100\n",
      " - 0s - loss: 2.9456 - categorical_accuracy: 0.1742\n",
      "Epoch 73/100\n",
      " - 0s - loss: 2.9351 - categorical_accuracy: 0.1815\n",
      "Epoch 74/100\n",
      " - 0s - loss: 2.9278 - categorical_accuracy: 0.1620\n",
      "Epoch 75/100\n",
      " - 0s - loss: 2.9182 - categorical_accuracy: 0.1766\n",
      "Epoch 76/100\n",
      " - 0s - loss: 2.9102 - categorical_accuracy: 0.1766\n",
      "Epoch 77/100\n",
      " - 0s - loss: 2.9005 - categorical_accuracy: 0.1851\n",
      "Epoch 78/100\n",
      " - 0s - loss: 2.8915 - categorical_accuracy: 0.1827\n",
      "Epoch 79/100\n",
      " - 0s - loss: 2.8828 - categorical_accuracy: 0.1827\n",
      "Epoch 80/100\n",
      " - 0s - loss: 2.8751 - categorical_accuracy: 0.1839\n",
      "Epoch 81/100\n",
      " - 0s - loss: 2.8665 - categorical_accuracy: 0.1815\n",
      "Epoch 82/100\n",
      " - 0s - loss: 2.8592 - categorical_accuracy: 0.1900\n",
      "Epoch 83/100\n",
      " - 0s - loss: 2.8512 - categorical_accuracy: 0.1937\n",
      "Epoch 84/100\n",
      " - 0s - loss: 2.8431 - categorical_accuracy: 0.1864\n",
      "Epoch 85/100\n",
      " - 0s - loss: 2.8359 - categorical_accuracy: 0.1998\n",
      "Epoch 86/100\n",
      " - 0s - loss: 2.8283 - categorical_accuracy: 0.1912\n",
      "Epoch 87/100\n",
      " - 0s - loss: 2.8217 - categorical_accuracy: 0.1961\n",
      "Epoch 88/100\n",
      " - 0s - loss: 2.8142 - categorical_accuracy: 0.1949\n",
      "Epoch 89/100\n",
      " - 0s - loss: 2.8060 - categorical_accuracy: 0.1851\n",
      "Epoch 90/100\n",
      " - 0s - loss: 2.7979 - categorical_accuracy: 0.1924\n",
      "Epoch 91/100\n",
      " - 0s - loss: 2.7919 - categorical_accuracy: 0.1998\n",
      "Epoch 92/100\n",
      " - 0s - loss: 2.7868 - categorical_accuracy: 0.2034\n",
      "Epoch 93/100\n",
      " - 0s - loss: 2.7785 - categorical_accuracy: 0.1924\n",
      "Epoch 94/100\n",
      " - 0s - loss: 2.7721 - categorical_accuracy: 0.1973\n",
      "Epoch 95/100\n",
      " - 0s - loss: 2.7651 - categorical_accuracy: 0.2095\n",
      "Epoch 96/100\n",
      " - 0s - loss: 2.7585 - categorical_accuracy: 0.2010\n",
      "Epoch 97/100\n",
      " - 0s - loss: 2.7533 - categorical_accuracy: 0.2168\n",
      "Epoch 98/100\n",
      " - 0s - loss: 2.7477 - categorical_accuracy: 0.2058\n",
      "Epoch 99/100\n",
      " - 0s - loss: 2.7392 - categorical_accuracy: 0.1998\n",
      "Epoch 100/100\n",
      " - 0s - loss: 2.7346 - categorical_accuracy: 0.2071\n"
     ]
    },
    {
     "data": {
      "text/plain": [
       "<keras.callbacks.History at 0x7efce41f9780>"
      ]
     },
     "execution_count": 30,
     "metadata": {
      "tags": []
     },
     "output_type": "execute_result"
    }
   ],
   "source": [
    "model.fit(X_train, Y_train, verbose=2, epochs=100, batch_size=3)"
   ]
  },
  {
   "cell_type": "code",
   "execution_count": 31,
   "metadata": {
    "colab": {
     "base_uri": "https://localhost:8080/",
     "height": 51
    },
    "colab_type": "code",
    "id": "td3lCf0EhmGx",
    "outputId": "dbd3cbc0-2c16-4b52-9afb-761cfe102711"
   },
   "outputs": [
    {
     "name": "stdout",
     "output_type": "stream",
     "text": [
      "821/821 [==============================] - 0s 72us/step\n"
     ]
    },
    {
     "data": {
      "text/plain": [
       "[2.517220790435568, 0.37515225345847375]"
      ]
     },
     "execution_count": 31,
     "metadata": {
      "tags": []
     },
     "output_type": "execute_result"
    }
   ],
   "source": [
    "model.evaluate(X_train, Y_train)"
   ]
  },
  {
   "cell_type": "code",
   "execution_count": 32,
   "metadata": {
    "colab": {
     "base_uri": "https://localhost:8080/",
     "height": 136
    },
    "colab_type": "code",
    "id": "kcggsW4GhrYi",
    "outputId": "2f1ea2b5-43f8-46f3-cec4-d540697d17c8"
   },
   "outputs": [
    {
     "name": "stdout",
     "output_type": "stream",
     "text": [
      "Всего данных: 821\n",
      "Тренировочных данных: 657\n",
      "Тестовых данных: 164\n",
      "Размер данные для тренировки (входных): (657, 8)\n",
      "Размер данные для тренировки (выходных): (657, 821)\n",
      "Размер данные для теста (входных): (164, 8)\n",
      "Размер данные для теста (выходных): (164, 821)\n"
     ]
    }
   ],
   "source": [
    "from keras import callbacks\n",
    "\n",
    "\n",
    "XY_data = np.hstack( (number_data_ready_X, number_data_ready_Y) ).transpose((0,1))\n",
    "np.random.shuffle(XY_data)\n",
    "# Делим выборки\n",
    "point_split = round(XY_data.shape[0] * 0.8)\n",
    "train_data = XY_data[:point_split]\n",
    "test_data = XY_data[point_split:]\n",
    "#Выводим информацию \n",
    "print(\"Всего данных: {Z}\".format(Z=XY_data.shape[0]))\n",
    "print(\"Тренировочных данных: {Z}\".format(Z=train_data.shape[0]))\n",
    "print(\"Тестовых данных: {Z}\".format(Z=test_data.shape[0]))\n",
    "# Делим все на входные и выходные данные\n",
    "# Тренировочные\n",
    "X_train = train_data[:, :number_data_ready_X.shape[1] ]\n",
    "Y_train = train_data[:, :number_data_ready_Y.shape[1] ]\n",
    "print(\"Размер данные для тренировки (входных): {Z}\".format(Z=X_train.shape))\n",
    "print(\"Размер данные для тренировки (выходных): {Z}\".format(Z=Y_train.shape))\n",
    "\n",
    "# Тестовые\n",
    "X_test = test_data[:, :number_data_ready_X.shape[1] ]\n",
    "Y_test = test_data[:, :number_data_ready_Y.shape[1] ]\n",
    "print('Размер данные для теста (входных): {Z}'.format(Z=X_test.shape))\n",
    "print('Размер данные для теста (выходных): {Z}'.format(Z=Y_test.shape))"
   ]
  },
  {
   "cell_type": "code",
   "execution_count": 0,
   "metadata": {
    "colab": {},
    "colab_type": "code",
    "id": "7Dpfk8Z2hxqL"
   },
   "outputs": [],
   "source": [
    "def make_nn(input_len, output_len):\n",
    "    model = Sequential()\n",
    "    model.add(Dense(10, activation=activations.relu, input_dim=input_len))\n",
    "    model.add(Dense(output_len, activation=activations.softmax))\n",
    "    model.compile(Adam(), categorical_crossentropy, metrics=[categorical_accuracy])\n",
    "    return model"
   ]
  },
  {
   "cell_type": "code",
   "execution_count": 35,
   "metadata": {
    "colab": {
     "base_uri": "https://localhost:8080/",
     "height": 3451
    },
    "colab_type": "code",
    "id": "RKUgf-IOhzYR",
    "outputId": "f0ac37d0-538a-427e-be62-3a6117f895de"
   },
   "outputs": [
    {
     "name": "stdout",
     "output_type": "stream",
     "text": [
      "Начинаем обучение сети\n",
      "Train on 657 samples, validate on 164 samples\n",
      "Epoch 1/100\n",
      "657/657 [==============================] - 0s 637us/step - loss: 22.6733 - categorical_accuracy: 0.1553 - val_loss: 16.4340 - val_categorical_accuracy: 0.2134\n",
      "Epoch 2/100\n",
      "657/657 [==============================] - 0s 396us/step - loss: 14.2346 - categorical_accuracy: 0.2009 - val_loss: 15.1888 - val_categorical_accuracy: 0.2500\n",
      "Epoch 3/100\n",
      "657/657 [==============================] - 0s 384us/step - loss: 13.5035 - categorical_accuracy: 0.2511 - val_loss: 15.4638 - val_categorical_accuracy: 0.2439\n",
      "Epoch 4/100\n",
      "657/657 [==============================] - 0s 384us/step - loss: 13.2326 - categorical_accuracy: 0.2359 - val_loss: 15.7593 - val_categorical_accuracy: 0.2988\n",
      "Epoch 5/100\n",
      "657/657 [==============================] - 0s 387us/step - loss: 13.0513 - categorical_accuracy: 0.2542 - val_loss: 16.0033 - val_categorical_accuracy: 0.2683\n",
      "Epoch 6/100\n",
      "657/657 [==============================] - 0s 412us/step - loss: 12.8994 - categorical_accuracy: 0.2877 - val_loss: 16.2178 - val_categorical_accuracy: 0.2927\n",
      "Epoch 7/100\n",
      "657/657 [==============================] - 0s 424us/step - loss: 12.7553 - categorical_accuracy: 0.2770 - val_loss: 16.3985 - val_categorical_accuracy: 0.2927\n",
      "Epoch 8/100\n",
      "657/657 [==============================] - 0s 398us/step - loss: 12.6132 - categorical_accuracy: 0.2816 - val_loss: 16.5718 - val_categorical_accuracy: 0.4268\n",
      "Epoch 9/100\n",
      "657/657 [==============================] - 0s 369us/step - loss: 12.4770 - categorical_accuracy: 0.3409 - val_loss: 16.7524 - val_categorical_accuracy: 0.3720\n",
      "Epoch 10/100\n",
      "657/657 [==============================] - 0s 372us/step - loss: 12.3533 - categorical_accuracy: 0.3866 - val_loss: 16.9059 - val_categorical_accuracy: 0.4024\n",
      "Epoch 11/100\n",
      "657/657 [==============================] - 0s 368us/step - loss: 12.2413 - categorical_accuracy: 0.4536 - val_loss: 17.0968 - val_categorical_accuracy: 0.3963\n",
      "Epoch 12/100\n",
      "657/657 [==============================] - 0s 371us/step - loss: 12.1377 - categorical_accuracy: 0.4627 - val_loss: 17.2733 - val_categorical_accuracy: 0.4939\n",
      "Epoch 13/100\n",
      "657/657 [==============================] - 0s 361us/step - loss: 12.0430 - categorical_accuracy: 0.5540 - val_loss: 17.4481 - val_categorical_accuracy: 0.4817\n",
      "Epoch 14/100\n",
      "657/657 [==============================] - 0s 361us/step - loss: 11.9543 - categorical_accuracy: 0.5830 - val_loss: 17.6499 - val_categorical_accuracy: 0.6768\n",
      "Epoch 15/100\n",
      "657/657 [==============================] - 0s 355us/step - loss: 11.8730 - categorical_accuracy: 0.6043 - val_loss: 17.8420 - val_categorical_accuracy: 0.6585\n",
      "Epoch 16/100\n",
      "657/657 [==============================] - 0s 377us/step - loss: 11.7957 - categorical_accuracy: 0.6743 - val_loss: 18.0398 - val_categorical_accuracy: 0.6951\n",
      "Epoch 17/100\n",
      "657/657 [==============================] - 0s 354us/step - loss: 11.7220 - categorical_accuracy: 0.6210 - val_loss: 18.2368 - val_categorical_accuracy: 0.6524\n",
      "Epoch 18/100\n",
      "657/657 [==============================] - 0s 366us/step - loss: 11.6517 - categorical_accuracy: 0.6743 - val_loss: 18.4420 - val_categorical_accuracy: 0.7317\n",
      "Epoch 19/100\n",
      "657/657 [==============================] - 0s 373us/step - loss: 11.5837 - categorical_accuracy: 0.6651 - val_loss: 18.6417 - val_categorical_accuracy: 0.6768\n",
      "Epoch 20/100\n",
      "657/657 [==============================] - 0s 382us/step - loss: 11.5163 - categorical_accuracy: 0.6636 - val_loss: 18.8514 - val_categorical_accuracy: 0.7256\n",
      "Epoch 21/100\n",
      "657/657 [==============================] - 0s 375us/step - loss: 11.4512 - categorical_accuracy: 0.6788 - val_loss: 19.0540 - val_categorical_accuracy: 0.7134\n",
      "Epoch 22/100\n",
      "657/657 [==============================] - 0s 372us/step - loss: 11.3893 - categorical_accuracy: 0.6682 - val_loss: 19.2300 - val_categorical_accuracy: 0.7012\n",
      "Epoch 23/100\n",
      "657/657 [==============================] - 0s 375us/step - loss: 11.3293 - categorical_accuracy: 0.6728 - val_loss: 19.4002 - val_categorical_accuracy: 0.6829\n",
      "Epoch 24/100\n",
      "657/657 [==============================] - 0s 385us/step - loss: 11.2711 - categorical_accuracy: 0.6484 - val_loss: 19.5579 - val_categorical_accuracy: 0.6585\n",
      "Epoch 25/100\n",
      "657/657 [==============================] - 0s 368us/step - loss: 11.2162 - categorical_accuracy: 0.6728 - val_loss: 19.7134 - val_categorical_accuracy: 0.6646\n",
      "Epoch 26/100\n",
      "657/657 [==============================] - 0s 360us/step - loss: 11.1610 - categorical_accuracy: 0.6560 - val_loss: 19.8444 - val_categorical_accuracy: 0.7317\n",
      "Epoch 27/100\n",
      "657/657 [==============================] - 0s 369us/step - loss: 11.1096 - categorical_accuracy: 0.6697 - val_loss: 19.9808 - val_categorical_accuracy: 0.6159\n",
      "Epoch 28/100\n",
      "657/657 [==============================] - 0s 365us/step - loss: 11.0617 - categorical_accuracy: 0.6682 - val_loss: 20.0955 - val_categorical_accuracy: 0.3902\n",
      "Epoch 29/100\n",
      "657/657 [==============================] - 0s 378us/step - loss: 11.0135 - categorical_accuracy: 0.6682 - val_loss: 20.2061 - val_categorical_accuracy: 0.6768\n",
      "Epoch 30/100\n",
      "657/657 [==============================] - 0s 380us/step - loss: 10.9696 - categorical_accuracy: 0.6834 - val_loss: 20.3105 - val_categorical_accuracy: 0.7073\n",
      "Epoch 31/100\n",
      "657/657 [==============================] - 0s 396us/step - loss: 10.9249 - categorical_accuracy: 0.6499 - val_loss: 20.4122 - val_categorical_accuracy: 0.6829\n",
      "Epoch 32/100\n",
      "657/657 [==============================] - 0s 382us/step - loss: 10.8831 - categorical_accuracy: 0.6560 - val_loss: 20.5010 - val_categorical_accuracy: 0.8232\n",
      "Epoch 33/100\n",
      "657/657 [==============================] - 0s 370us/step - loss: 10.8443 - categorical_accuracy: 0.6438 - val_loss: 20.5698 - val_categorical_accuracy: 0.7256\n",
      "Epoch 34/100\n",
      "657/657 [==============================] - 0s 361us/step - loss: 10.8047 - categorical_accuracy: 0.6560 - val_loss: 20.6021 - val_categorical_accuracy: 0.7500\n",
      "Epoch 35/100\n",
      "657/657 [==============================] - 0s 372us/step - loss: 10.7680 - categorical_accuracy: 0.6317 - val_loss: 20.6483 - val_categorical_accuracy: 0.7500\n",
      "Epoch 36/100\n",
      "657/657 [==============================] - 0s 375us/step - loss: 10.7311 - categorical_accuracy: 0.6545 - val_loss: 20.6883 - val_categorical_accuracy: 0.7073\n",
      "Epoch 37/100\n",
      "657/657 [==============================] - 0s 385us/step - loss: 10.6973 - categorical_accuracy: 0.6621 - val_loss: 20.7007 - val_categorical_accuracy: 0.6707\n",
      "Epoch 38/100\n",
      "657/657 [==============================] - 0s 372us/step - loss: 10.6652 - categorical_accuracy: 0.6575 - val_loss: 20.7216 - val_categorical_accuracy: 0.6402\n",
      "Epoch 39/100\n",
      "657/657 [==============================] - 0s 376us/step - loss: 10.6312 - categorical_accuracy: 0.6149 - val_loss: 20.7669 - val_categorical_accuracy: 0.7439\n",
      "Epoch 40/100\n",
      "657/657 [==============================] - 0s 379us/step - loss: 10.6006 - categorical_accuracy: 0.6682 - val_loss: 20.7556 - val_categorical_accuracy: 0.6524\n",
      "Epoch 41/100\n",
      "657/657 [==============================] - 0s 385us/step - loss: 10.5710 - categorical_accuracy: 0.6347 - val_loss: 20.7676 - val_categorical_accuracy: 0.5427\n",
      "Epoch 42/100\n",
      "657/657 [==============================] - 0s 368us/step - loss: 10.5434 - categorical_accuracy: 0.6271 - val_loss: 20.7939 - val_categorical_accuracy: 0.7378\n",
      "Epoch 43/100\n",
      "657/657 [==============================] - 0s 381us/step - loss: 10.5138 - categorical_accuracy: 0.5951 - val_loss: 20.8160 - val_categorical_accuracy: 0.7317\n",
      "Epoch 44/100\n",
      "657/657 [==============================] - 0s 383us/step - loss: 10.4873 - categorical_accuracy: 0.6256 - val_loss: 20.8226 - val_categorical_accuracy: 0.4085\n",
      "Epoch 45/100\n",
      "657/657 [==============================] - 0s 372us/step - loss: 10.4617 - categorical_accuracy: 0.6012 - val_loss: 20.8063 - val_categorical_accuracy: 0.5671\n",
      "Epoch 46/100\n",
      "657/657 [==============================] - 0s 353us/step - loss: 10.4379 - categorical_accuracy: 0.5982 - val_loss: 20.7687 - val_categorical_accuracy: 0.5183\n",
      "Epoch 47/100\n",
      "657/657 [==============================] - 0s 364us/step - loss: 10.4120 - categorical_accuracy: 0.5890 - val_loss: 20.7901 - val_categorical_accuracy: 0.7378\n",
      "Epoch 48/100\n",
      "657/657 [==============================] - 0s 362us/step - loss: 10.3922 - categorical_accuracy: 0.5693 - val_loss: 20.8341 - val_categorical_accuracy: 0.6402\n",
      "Epoch 49/100\n",
      "657/657 [==============================] - 0s 365us/step - loss: 10.3676 - categorical_accuracy: 0.6088 - val_loss: 20.8504 - val_categorical_accuracy: 0.5122\n",
      "Epoch 50/100\n",
      "657/657 [==============================] - 0s 376us/step - loss: 10.3449 - categorical_accuracy: 0.5982 - val_loss: 20.8305 - val_categorical_accuracy: 0.5488\n",
      "Epoch 51/100\n",
      "657/657 [==============================] - 0s 370us/step - loss: 10.3235 - categorical_accuracy: 0.5738 - val_loss: 20.7944 - val_categorical_accuracy: 0.4817\n",
      "Epoch 52/100\n",
      "657/657 [==============================] - 0s 361us/step - loss: 10.3051 - categorical_accuracy: 0.5967 - val_loss: 20.8445 - val_categorical_accuracy: 0.3720\n",
      "Epoch 53/100\n",
      "657/657 [==============================] - 0s 378us/step - loss: 10.2855 - categorical_accuracy: 0.5616 - val_loss: 20.8093 - val_categorical_accuracy: 0.5427\n",
      "Epoch 54/100\n",
      "657/657 [==============================] - 0s 371us/step - loss: 10.2650 - categorical_accuracy: 0.5723 - val_loss: 20.8381 - val_categorical_accuracy: 0.7256\n",
      "Epoch 55/100\n",
      "657/657 [==============================] - 0s 369us/step - loss: 10.2456 - categorical_accuracy: 0.5540 - val_loss: 20.8293 - val_categorical_accuracy: 0.5427\n",
      "Epoch 56/100\n",
      "657/657 [==============================] - 0s 358us/step - loss: 10.2296 - categorical_accuracy: 0.5449 - val_loss: 20.8525 - val_categorical_accuracy: 0.6646\n",
      "Epoch 57/100\n",
      "657/657 [==============================] - 0s 368us/step - loss: 10.2120 - categorical_accuracy: 0.5540 - val_loss: 20.8120 - val_categorical_accuracy: 0.5610\n",
      "Epoch 58/100\n",
      "657/657 [==============================] - 0s 375us/step - loss: 10.1949 - categorical_accuracy: 0.5556 - val_loss: 20.8913 - val_categorical_accuracy: 0.7073\n",
      "Epoch 59/100\n",
      "657/657 [==============================] - 0s 387us/step - loss: 10.1804 - categorical_accuracy: 0.5388 - val_loss: 20.8453 - val_categorical_accuracy: 0.5244\n",
      "Epoch 60/100\n",
      "657/657 [==============================] - 0s 378us/step - loss: 10.1640 - categorical_accuracy: 0.5342 - val_loss: 20.9094 - val_categorical_accuracy: 0.4207\n",
      "Epoch 61/100\n",
      "657/657 [==============================] - 0s 369us/step - loss: 10.1482 - categorical_accuracy: 0.5327 - val_loss: 20.8148 - val_categorical_accuracy: 0.6159\n",
      "Epoch 62/100\n",
      "657/657 [==============================] - 0s 373us/step - loss: 10.1342 - categorical_accuracy: 0.5510 - val_loss: 20.8336 - val_categorical_accuracy: 0.3902\n",
      "Epoch 63/100\n",
      "657/657 [==============================] - 0s 358us/step - loss: 10.1200 - categorical_accuracy: 0.5342 - val_loss: 20.8726 - val_categorical_accuracy: 0.5000\n",
      "Epoch 64/100\n",
      "657/657 [==============================] - 0s 365us/step - loss: 10.1071 - categorical_accuracy: 0.5449 - val_loss: 20.8216 - val_categorical_accuracy: 0.4451\n",
      "Epoch 65/100\n",
      "657/657 [==============================] - 0s 379us/step - loss: 10.0937 - categorical_accuracy: 0.5327 - val_loss: 20.8017 - val_categorical_accuracy: 0.6098\n",
      "Epoch 66/100\n",
      "657/657 [==============================] - 0s 399us/step - loss: 10.0790 - categorical_accuracy: 0.5266 - val_loss: 20.8342 - val_categorical_accuracy: 0.5976\n",
      "Epoch 67/100\n",
      "657/657 [==============================] - 0s 373us/step - loss: 10.0678 - categorical_accuracy: 0.5327 - val_loss: 20.8319 - val_categorical_accuracy: 0.6463\n",
      "Epoch 68/100\n",
      "657/657 [==============================] - 0s 371us/step - loss: 10.0557 - categorical_accuracy: 0.5434 - val_loss: 20.8506 - val_categorical_accuracy: 0.6280\n",
      "Epoch 69/100\n",
      "657/657 [==============================] - 0s 378us/step - loss: 10.0435 - categorical_accuracy: 0.5129 - val_loss: 20.8163 - val_categorical_accuracy: 0.5000\n",
      "Epoch 70/100\n",
      "657/657 [==============================] - 0s 370us/step - loss: 10.0300 - categorical_accuracy: 0.5434 - val_loss: 20.8807 - val_categorical_accuracy: 0.3841\n",
      "Epoch 71/100\n",
      "657/657 [==============================] - 0s 376us/step - loss: 10.0189 - categorical_accuracy: 0.5373 - val_loss: 20.8691 - val_categorical_accuracy: 0.4878\n",
      "Epoch 72/100\n",
      "657/657 [==============================] - 0s 373us/step - loss: 10.0082 - categorical_accuracy: 0.5205 - val_loss: 20.8749 - val_categorical_accuracy: 0.5183\n",
      "Epoch 73/100\n",
      "657/657 [==============================] - 0s 380us/step - loss: 9.9961 - categorical_accuracy: 0.5327 - val_loss: 20.8069 - val_categorical_accuracy: 0.6951\n",
      "Epoch 74/100\n",
      "657/657 [==============================] - 0s 375us/step - loss: 9.9872 - categorical_accuracy: 0.5434 - val_loss: 20.8535 - val_categorical_accuracy: 0.6341\n",
      "Epoch 75/100\n",
      "657/657 [==============================] - 0s 374us/step - loss: 9.9742 - categorical_accuracy: 0.5327 - val_loss: 20.9048 - val_categorical_accuracy: 0.5122\n",
      "Epoch 76/100\n",
      "657/657 [==============================] - 0s 379us/step - loss: 9.9662 - categorical_accuracy: 0.5358 - val_loss: 20.8776 - val_categorical_accuracy: 0.4512\n",
      "Epoch 77/100\n",
      "657/657 [==============================] - 0s 366us/step - loss: 9.9566 - categorical_accuracy: 0.5327 - val_loss: 20.8525 - val_categorical_accuracy: 0.4756\n",
      "Epoch 78/100\n",
      "657/657 [==============================] - 0s 366us/step - loss: 9.9442 - categorical_accuracy: 0.5297 - val_loss: 20.8820 - val_categorical_accuracy: 0.5915\n",
      "Epoch 79/100\n",
      "657/657 [==============================] - 0s 363us/step - loss: 9.9367 - categorical_accuracy: 0.5160 - val_loss: 20.8290 - val_categorical_accuracy: 0.5305\n",
      "Epoch 80/100\n",
      "657/657 [==============================] - 0s 374us/step - loss: 9.9258 - categorical_accuracy: 0.5571 - val_loss: 20.8537 - val_categorical_accuracy: 0.4817\n",
      "Epoch 81/100\n",
      "657/657 [==============================] - 0s 382us/step - loss: 9.9164 - categorical_accuracy: 0.5342 - val_loss: 20.8594 - val_categorical_accuracy: 0.6098\n",
      "Epoch 82/100\n",
      "657/657 [==============================] - 0s 372us/step - loss: 9.9061 - categorical_accuracy: 0.5388 - val_loss: 20.7904 - val_categorical_accuracy: 0.4817\n",
      "Epoch 83/100\n",
      "657/657 [==============================] - 0s 373us/step - loss: 9.8979 - categorical_accuracy: 0.5221 - val_loss: 20.7661 - val_categorical_accuracy: 0.5549\n",
      "Epoch 84/100\n",
      "657/657 [==============================] - 0s 376us/step - loss: 9.8868 - categorical_accuracy: 0.5282 - val_loss: 20.8012 - val_categorical_accuracy: 0.6463\n",
      "Epoch 85/100\n",
      "657/657 [==============================] - 0s 379us/step - loss: 9.8796 - categorical_accuracy: 0.5434 - val_loss: 20.8789 - val_categorical_accuracy: 0.4695\n",
      "Epoch 86/100\n",
      "657/657 [==============================] - 0s 383us/step - loss: 9.8689 - categorical_accuracy: 0.5205 - val_loss: 20.8283 - val_categorical_accuracy: 0.6585\n",
      "Epoch 87/100\n",
      "657/657 [==============================] - 0s 375us/step - loss: 9.8594 - categorical_accuracy: 0.5266 - val_loss: 20.8177 - val_categorical_accuracy: 0.5305\n",
      "Epoch 88/100\n",
      "657/657 [==============================] - 0s 381us/step - loss: 9.8523 - categorical_accuracy: 0.5449 - val_loss: 20.8539 - val_categorical_accuracy: 0.5793\n",
      "Epoch 89/100\n",
      "657/657 [==============================] - 0s 383us/step - loss: 9.8460 - categorical_accuracy: 0.5297 - val_loss: 20.8801 - val_categorical_accuracy: 0.5854\n",
      "Epoch 90/100\n",
      "657/657 [==============================] - 0s 375us/step - loss: 9.8353 - categorical_accuracy: 0.5205 - val_loss: 20.8492 - val_categorical_accuracy: 0.6280\n",
      "Epoch 91/100\n",
      "657/657 [==============================] - 0s 364us/step - loss: 9.8269 - categorical_accuracy: 0.5251 - val_loss: 20.8516 - val_categorical_accuracy: 0.7134\n",
      "Epoch 92/100\n",
      "657/657 [==============================] - 0s 366us/step - loss: 9.8182 - categorical_accuracy: 0.5205 - val_loss: 20.8349 - val_categorical_accuracy: 0.3780\n",
      "Epoch 93/100\n",
      "657/657 [==============================] - 0s 396us/step - loss: 9.8121 - categorical_accuracy: 0.5449 - val_loss: 20.7813 - val_categorical_accuracy: 0.4207\n",
      "Epoch 94/100\n",
      "657/657 [==============================] - 0s 385us/step - loss: 9.8041 - categorical_accuracy: 0.5251 - val_loss: 20.8217 - val_categorical_accuracy: 0.5000\n",
      "Epoch 95/100\n",
      "657/657 [==============================] - 0s 377us/step - loss: 9.7941 - categorical_accuracy: 0.5190 - val_loss: 20.8698 - val_categorical_accuracy: 0.5427\n",
      "Epoch 96/100\n",
      "657/657 [==============================] - 0s 414us/step - loss: 9.7876 - categorical_accuracy: 0.5373 - val_loss: 20.8188 - val_categorical_accuracy: 0.4878\n",
      "Epoch 97/100\n",
      "657/657 [==============================] - 0s 404us/step - loss: 9.7773 - categorical_accuracy: 0.5327 - val_loss: 20.8343 - val_categorical_accuracy: 0.5732\n",
      "Epoch 98/100\n",
      "657/657 [==============================] - 0s 389us/step - loss: 9.7679 - categorical_accuracy: 0.5388 - val_loss: 20.7569 - val_categorical_accuracy: 0.5427\n",
      "Epoch 99/100\n",
      "657/657 [==============================] - 0s 374us/step - loss: 9.7611 - categorical_accuracy: 0.5327 - val_loss: 20.8803 - val_categorical_accuracy: 0.5488\n",
      "Epoch 100/100\n",
      "657/657 [==============================] - 0s 377us/step - loss: 9.7519 - categorical_accuracy: 0.5403 - val_loss: 20.8150 - val_categorical_accuracy: 0.6037\n"
     ]
    }
   ],
   "source": [
    "model = make_nn(X_train.shape[1], Y_train.shape[1])\n",
    "\n",
    "print('Начинаем обучение сети')\n",
    "history = model.fit(\n",
    "    x=X_train,\n",
    "    y=Y_train,\n",
    "    batch_size=3,\n",
    "    epochs=100,\n",
    "    verbose=1,\n",
    "    validation_data=(X_test, Y_test),\n",
    "    callbacks=[\n",
    "        callbacks.History(),\n",
    "    ]    \n",
    ")"
   ]
  },
  {
   "cell_type": "code",
   "execution_count": 36,
   "metadata": {
    "colab": {
     "base_uri": "https://localhost:8080/",
     "height": 51
    },
    "colab_type": "code",
    "id": "t0C4O6Smh_4o",
    "outputId": "0d2a7597-47a2-461b-d763-f9ae4607919a"
   },
   "outputs": [
    {
     "name": "stdout",
     "output_type": "stream",
     "text": [
      "657/657 [==============================] - 0s 45us/step\n"
     ]
    },
    {
     "data": {
      "text/plain": [
       "[9.592401417423057, 0.5966514465108491]"
      ]
     },
     "execution_count": 36,
     "metadata": {
      "tags": []
     },
     "output_type": "execute_result"
    }
   ],
   "source": [
    "model.evaluate(X_train, Y_train)"
   ]
  },
  {
   "cell_type": "code",
   "execution_count": 37,
   "metadata": {
    "colab": {
     "base_uri": "https://localhost:8080/",
     "height": 682
    },
    "colab_type": "code",
    "id": "A759F8IyiDMX",
    "outputId": "6db8cdc1-e1fe-49a0-b7b2-ecf47b39ad75"
   },
   "outputs": [
    {
     "data": {
      "image/png": "[encoded data removed]",
      "text/plain": [
       "<matplotlib.figure.Figure at 0x7efce0b337b8>"
      ]
     },
     "metadata": {
      "tags": []
     },
     "output_type": "display_data"
    },
    {
     "data": {
      "image/png": "[encoded data removed]",
      "text/plain": [
       "<matplotlib.figure.Figure at 0x7efce0a937b8>"
      ]
     },
     "metadata": {
      "tags": []
     },
     "output_type": "display_data"
    }
   ],
   "source": [
    "plt.figure(0, figsize=(10,5))\n",
    "plt.plot(history.history['loss'])\n",
    "plt.plot(history.history['val_loss'])\n",
    "plt.title('График ошибки')\n",
    "plt.ylabel('Значение')\n",
    "plt.xlabel('Эпоха')\n",
    "plt.legend(['Ошибка (train)', 'Ошибка (test)']);\n",
    "\n",
    "plt.figure(1, figsize=(10,5))\n",
    "plt.plot(history.history['categorical_accuracy'])\n",
    "plt.plot(history.history['val_categorical_accuracy'])\n",
    "plt.ylabel('Значение')\n",
    "plt.xlabel('Эпоха')\n",
    "plt.title('График точности')\n",
    "plt.legend(['Точность (train)', 'Точность (test)']);"
   ]
  },
  {
   "cell_type": "code",
   "execution_count": 38,
   "metadata": {
    "colab": {
     "base_uri": "https://localhost:8080/",
     "height": 3451
    },
    "colab_type": "code",
    "id": "dh4KqnJDiO4d",
    "outputId": "543c733c-ff8a-48f8-c89e-6bee841f8098"
   },
   "outputs": [
    {
     "name": "stdout",
     "output_type": "stream",
     "text": [
      "Начинаем обучение сети\n",
      "Train on 656 samples, validate on 165 samples\n",
      "Epoch 1/100\n",
      "656/656 [==============================] - 0s 650us/step - loss: 6.7702 - categorical_accuracy: 0.0000e+00 - val_loss: 6.8483 - val_categorical_accuracy: 0.0000e+00\n",
      "Epoch 2/100\n",
      "656/656 [==============================] - 0s 429us/step - loss: 6.5205 - categorical_accuracy: 0.0015 - val_loss: 7.3022 - val_categorical_accuracy: 0.0000e+00\n",
      "Epoch 3/100\n",
      "656/656 [==============================] - 0s 426us/step - loss: 6.1285 - categorical_accuracy: 0.0030 - val_loss: 8.0824 - val_categorical_accuracy: 0.0000e+00\n",
      "Epoch 4/100\n",
      "656/656 [==============================] - 0s 437us/step - loss: 5.8118 - categorical_accuracy: 0.0046 - val_loss: 8.9078 - val_categorical_accuracy: 0.0000e+00\n",
      "Epoch 5/100\n",
      "656/656 [==============================] - 0s 421us/step - loss: 5.5580 - categorical_accuracy: 0.0076 - val_loss: 9.6840 - val_categorical_accuracy: 0.0000e+00\n",
      "Epoch 6/100\n",
      "656/656 [==============================] - 0s 413us/step - loss: 5.3574 - categorical_accuracy: 0.0137 - val_loss: 10.3620 - val_categorical_accuracy: 0.0000e+00\n",
      "Epoch 7/100\n",
      "656/656 [==============================] - 0s 395us/step - loss: 5.1986 - categorical_accuracy: 0.0152 - val_loss: 11.0030 - val_categorical_accuracy: 0.0000e+00\n",
      "Epoch 8/100\n",
      "656/656 [==============================] - 0s 386us/step - loss: 5.0595 - categorical_accuracy: 0.0183 - val_loss: 11.5948 - val_categorical_accuracy: 0.0000e+00\n",
      "Epoch 9/100\n",
      "656/656 [==============================] - 0s 396us/step - loss: 4.9369 - categorical_accuracy: 0.0274 - val_loss: 12.0858 - val_categorical_accuracy: 0.0000e+00\n",
      "Epoch 10/100\n",
      "656/656 [==============================] - 0s 405us/step - loss: 4.8281 - categorical_accuracy: 0.0274 - val_loss: 12.5709 - val_categorical_accuracy: 0.0000e+00\n",
      "Epoch 11/100\n",
      "656/656 [==============================] - 0s 385us/step - loss: 4.7318 - categorical_accuracy: 0.0427 - val_loss: 13.0080 - val_categorical_accuracy: 0.0000e+00\n",
      "Epoch 12/100\n",
      "656/656 [==============================] - 0s 386us/step - loss: 4.6441 - categorical_accuracy: 0.0503 - val_loss: 13.4154 - val_categorical_accuracy: 0.0000e+00\n",
      "Epoch 13/100\n",
      "656/656 [==============================] - 0s 380us/step - loss: 4.5634 - categorical_accuracy: 0.0473 - val_loss: 13.7795 - val_categorical_accuracy: 0.0000e+00\n",
      "Epoch 14/100\n",
      "656/656 [==============================] - 0s 397us/step - loss: 4.4869 - categorical_accuracy: 0.0549 - val_loss: 14.1626 - val_categorical_accuracy: 0.0000e+00\n",
      "Epoch 15/100\n",
      "656/656 [==============================] - 0s 416us/step - loss: 4.4179 - categorical_accuracy: 0.0503 - val_loss: 14.4735 - val_categorical_accuracy: 0.0000e+00\n",
      "Epoch 16/100\n",
      "656/656 [==============================] - 0s 434us/step - loss: 4.3507 - categorical_accuracy: 0.0564 - val_loss: 14.7431 - val_categorical_accuracy: 0.0000e+00\n",
      "Epoch 17/100\n",
      "656/656 [==============================] - 0s 457us/step - loss: 4.2884 - categorical_accuracy: 0.0564 - val_loss: 15.0315 - val_categorical_accuracy: 0.0000e+00\n",
      "Epoch 18/100\n",
      "656/656 [==============================] - 0s 466us/step - loss: 4.2300 - categorical_accuracy: 0.0640 - val_loss: 15.2845 - val_categorical_accuracy: 0.0000e+00\n",
      "Epoch 19/100\n",
      "656/656 [==============================] - 0s 460us/step - loss: 4.1749 - categorical_accuracy: 0.0595 - val_loss: 15.4729 - val_categorical_accuracy: 0.0000e+00\n",
      "Epoch 20/100\n",
      "656/656 [==============================] - 0s 469us/step - loss: 4.1223 - categorical_accuracy: 0.0747 - val_loss: 15.6029 - val_categorical_accuracy: 0.0000e+00\n",
      "Epoch 21/100\n",
      "656/656 [==============================] - 0s 462us/step - loss: 4.0720 - categorical_accuracy: 0.0777 - val_loss: 15.7014 - val_categorical_accuracy: 0.0000e+00\n",
      "Epoch 22/100\n",
      "656/656 [==============================] - 0s 468us/step - loss: 4.0235 - categorical_accuracy: 0.0808 - val_loss: 15.7909 - val_categorical_accuracy: 0.0000e+00\n",
      "Epoch 23/100\n",
      "656/656 [==============================] - 0s 460us/step - loss: 3.9786 - categorical_accuracy: 0.0823 - val_loss: 15.8550 - val_categorical_accuracy: 0.0000e+00\n",
      "Epoch 24/100\n",
      "656/656 [==============================] - 0s 465us/step - loss: 3.9345 - categorical_accuracy: 0.0793 - val_loss: 15.9122 - val_categorical_accuracy: 0.0000e+00\n",
      "Epoch 25/100\n",
      "656/656 [==============================] - 0s 470us/step - loss: 3.8930 - categorical_accuracy: 0.0777 - val_loss: 15.9563 - val_categorical_accuracy: 0.0000e+00\n",
      "Epoch 26/100\n",
      "656/656 [==============================] - 0s 468us/step - loss: 3.8521 - categorical_accuracy: 0.0976 - val_loss: 16.0084 - val_categorical_accuracy: 0.0000e+00\n",
      "Epoch 27/100\n",
      "656/656 [==============================] - 0s 461us/step - loss: 3.8152 - categorical_accuracy: 0.0915 - val_loss: 16.0459 - val_categorical_accuracy: 0.0000e+00\n",
      "Epoch 28/100\n",
      "656/656 [==============================] - 0s 480us/step - loss: 3.7782 - categorical_accuracy: 0.1098 - val_loss: 16.0730 - val_categorical_accuracy: 0.0000e+00\n",
      "Epoch 29/100\n",
      "656/656 [==============================] - 0s 469us/step - loss: 3.7424 - categorical_accuracy: 0.0976 - val_loss: 16.0882 - val_categorical_accuracy: 0.0000e+00\n",
      "Epoch 30/100\n",
      "656/656 [==============================] - 0s 460us/step - loss: 3.7075 - categorical_accuracy: 0.1159 - val_loss: 16.0988 - val_categorical_accuracy: 0.0000e+00\n",
      "Epoch 31/100\n",
      "656/656 [==============================] - 0s 468us/step - loss: 3.6759 - categorical_accuracy: 0.1174 - val_loss: 16.1042 - val_categorical_accuracy: 0.0000e+00\n",
      "Epoch 32/100\n",
      "656/656 [==============================] - 0s 463us/step - loss: 3.6447 - categorical_accuracy: 0.1098 - val_loss: 16.1094 - val_categorical_accuracy: 0.0000e+00\n",
      "Epoch 33/100\n",
      "656/656 [==============================] - 0s 462us/step - loss: 3.6137 - categorical_accuracy: 0.1250 - val_loss: 16.1132 - val_categorical_accuracy: 0.0000e+00\n",
      "Epoch 34/100\n",
      "656/656 [==============================] - 0s 465us/step - loss: 3.5841 - categorical_accuracy: 0.1311 - val_loss: 16.1154 - val_categorical_accuracy: 0.0000e+00\n",
      "Epoch 35/100\n",
      "656/656 [==============================] - 0s 457us/step - loss: 3.5552 - categorical_accuracy: 0.1189 - val_loss: 16.1172 - val_categorical_accuracy: 0.0000e+00\n",
      "Epoch 36/100\n",
      "656/656 [==============================] - 0s 473us/step - loss: 3.5273 - categorical_accuracy: 0.1128 - val_loss: 16.1181 - val_categorical_accuracy: 0.0000e+00\n",
      "Epoch 37/100\n",
      "656/656 [==============================] - 0s 460us/step - loss: 3.4998 - categorical_accuracy: 0.1250 - val_loss: 16.1181 - val_categorical_accuracy: 0.0000e+00\n",
      "Epoch 38/100\n",
      "656/656 [==============================] - 0s 460us/step - loss: 3.4741 - categorical_accuracy: 0.1235 - val_loss: 16.1181 - val_categorical_accuracy: 0.0000e+00\n",
      "Epoch 39/100\n",
      "656/656 [==============================] - 0s 459us/step - loss: 3.4494 - categorical_accuracy: 0.1296 - val_loss: 16.1181 - val_categorical_accuracy: 0.0000e+00\n",
      "Epoch 40/100\n",
      "656/656 [==============================] - 0s 465us/step - loss: 3.4245 - categorical_accuracy: 0.1372 - val_loss: 16.1181 - val_categorical_accuracy: 0.0000e+00\n",
      "Epoch 41/100\n",
      "656/656 [==============================] - 0s 460us/step - loss: 3.4009 - categorical_accuracy: 0.1402 - val_loss: 16.1181 - val_categorical_accuracy: 0.0000e+00\n",
      "Epoch 42/100\n",
      "656/656 [==============================] - 0s 468us/step - loss: 3.3771 - categorical_accuracy: 0.1372 - val_loss: 16.1181 - val_categorical_accuracy: 0.0000e+00\n",
      "Epoch 43/100\n",
      "656/656 [==============================] - 0s 460us/step - loss: 3.3553 - categorical_accuracy: 0.1341 - val_loss: 16.1181 - val_categorical_accuracy: 0.0000e+00\n",
      "Epoch 44/100\n",
      "656/656 [==============================] - 0s 453us/step - loss: 3.3338 - categorical_accuracy: 0.1357 - val_loss: 16.1181 - val_categorical_accuracy: 0.0000e+00\n",
      "Epoch 45/100\n",
      "656/656 [==============================] - 0s 475us/step - loss: 3.3141 - categorical_accuracy: 0.1433 - val_loss: 16.1181 - val_categorical_accuracy: 0.0000e+00\n",
      "Epoch 46/100\n",
      "656/656 [==============================] - 0s 463us/step - loss: 3.2919 - categorical_accuracy: 0.1372 - val_loss: 16.1181 - val_categorical_accuracy: 0.0000e+00\n",
      "Epoch 47/100\n",
      "656/656 [==============================] - 0s 467us/step - loss: 3.2733 - categorical_accuracy: 0.1494 - val_loss: 16.1181 - val_categorical_accuracy: 0.0000e+00\n",
      "Epoch 48/100\n",
      "656/656 [==============================] - 0s 465us/step - loss: 3.2532 - categorical_accuracy: 0.1509 - val_loss: 16.1181 - val_categorical_accuracy: 0.0000e+00\n",
      "Epoch 49/100\n",
      "656/656 [==============================] - 0s 455us/step - loss: 3.2342 - categorical_accuracy: 0.1555 - val_loss: 16.1181 - val_categorical_accuracy: 0.0000e+00\n",
      "Epoch 50/100\n",
      "656/656 [==============================] - 0s 413us/step - loss: 3.2173 - categorical_accuracy: 0.1494 - val_loss: 16.1181 - val_categorical_accuracy: 0.0000e+00\n",
      "Epoch 51/100\n",
      "656/656 [==============================] - 0s 385us/step - loss: 3.1986 - categorical_accuracy: 0.1631 - val_loss: 16.1181 - val_categorical_accuracy: 0.0000e+00\n",
      "Epoch 52/100\n",
      "656/656 [==============================] - 0s 372us/step - loss: 3.1816 - categorical_accuracy: 0.1524 - val_loss: 16.1181 - val_categorical_accuracy: 0.0000e+00\n",
      "Epoch 53/100\n",
      "656/656 [==============================] - 0s 402us/step - loss: 3.1653 - categorical_accuracy: 0.1662 - val_loss: 16.1181 - val_categorical_accuracy: 0.0000e+00\n",
      "Epoch 54/100\n",
      "656/656 [==============================] - 0s 399us/step - loss: 3.1486 - categorical_accuracy: 0.1555 - val_loss: 16.1181 - val_categorical_accuracy: 0.0000e+00\n",
      "Epoch 55/100\n",
      "656/656 [==============================] - 0s 404us/step - loss: 3.1314 - categorical_accuracy: 0.1570 - val_loss: 16.1181 - val_categorical_accuracy: 0.0000e+00\n",
      "Epoch 56/100\n",
      "656/656 [==============================] - 0s 414us/step - loss: 3.1174 - categorical_accuracy: 0.1524 - val_loss: 16.1181 - val_categorical_accuracy: 0.0000e+00\n",
      "Epoch 57/100\n",
      "656/656 [==============================] - 0s 405us/step - loss: 3.1032 - categorical_accuracy: 0.1555 - val_loss: 16.1181 - val_categorical_accuracy: 0.0000e+00\n",
      "Epoch 58/100\n",
      "656/656 [==============================] - 0s 397us/step - loss: 3.0874 - categorical_accuracy: 0.1601 - val_loss: 16.1181 - val_categorical_accuracy: 0.0000e+00\n",
      "Epoch 59/100\n",
      "656/656 [==============================] - 0s 401us/step - loss: 3.0745 - categorical_accuracy: 0.1707 - val_loss: 16.1181 - val_categorical_accuracy: 0.0000e+00\n",
      "Epoch 60/100\n",
      "656/656 [==============================] - 0s 395us/step - loss: 3.0598 - categorical_accuracy: 0.1692 - val_loss: 16.1181 - val_categorical_accuracy: 0.0000e+00\n",
      "Epoch 61/100\n",
      "656/656 [==============================] - 0s 402us/step - loss: 3.0459 - categorical_accuracy: 0.1585 - val_loss: 16.1181 - val_categorical_accuracy: 0.0000e+00\n",
      "Epoch 62/100\n",
      "656/656 [==============================] - 0s 399us/step - loss: 3.0334 - categorical_accuracy: 0.1646 - val_loss: 16.1181 - val_categorical_accuracy: 0.0000e+00\n",
      "Epoch 63/100\n",
      "656/656 [==============================] - 0s 396us/step - loss: 3.0209 - categorical_accuracy: 0.1570 - val_loss: 16.1181 - val_categorical_accuracy: 0.0000e+00\n",
      "Epoch 64/100\n",
      "656/656 [==============================] - 0s 391us/step - loss: 3.0098 - categorical_accuracy: 0.1753 - val_loss: 16.1181 - val_categorical_accuracy: 0.0000e+00\n",
      "Epoch 65/100\n",
      "656/656 [==============================] - 0s 402us/step - loss: 2.9941 - categorical_accuracy: 0.1707 - val_loss: 16.1181 - val_categorical_accuracy: 0.0000e+00\n",
      "Epoch 66/100\n",
      "656/656 [==============================] - 0s 395us/step - loss: 2.9818 - categorical_accuracy: 0.1784 - val_loss: 16.1181 - val_categorical_accuracy: 0.0000e+00\n",
      "Epoch 67/100\n",
      "656/656 [==============================] - 0s 411us/step - loss: 2.9696 - categorical_accuracy: 0.1768 - val_loss: 16.1181 - val_categorical_accuracy: 0.0000e+00\n",
      "Epoch 68/100\n",
      "656/656 [==============================] - 0s 413us/step - loss: 2.9585 - categorical_accuracy: 0.1677 - val_loss: 16.1181 - val_categorical_accuracy: 0.0000e+00\n",
      "Epoch 69/100\n",
      "656/656 [==============================] - 0s 391us/step - loss: 2.9474 - categorical_accuracy: 0.1692 - val_loss: 16.1181 - val_categorical_accuracy: 0.0000e+00\n",
      "Epoch 70/100\n",
      "656/656 [==============================] - 0s 388us/step - loss: 2.9351 - categorical_accuracy: 0.1845 - val_loss: 16.1181 - val_categorical_accuracy: 0.0000e+00\n",
      "Epoch 71/100\n",
      "656/656 [==============================] - 0s 404us/step - loss: 2.9249 - categorical_accuracy: 0.1860 - val_loss: 16.1181 - val_categorical_accuracy: 0.0000e+00\n",
      "Epoch 72/100\n",
      "656/656 [==============================] - 0s 391us/step - loss: 2.9149 - categorical_accuracy: 0.1814 - val_loss: 16.1181 - val_categorical_accuracy: 0.0000e+00\n",
      "Epoch 73/100\n",
      "656/656 [==============================] - 0s 401us/step - loss: 2.9038 - categorical_accuracy: 0.1860 - val_loss: 16.1181 - val_categorical_accuracy: 0.0000e+00\n",
      "Epoch 74/100\n",
      "656/656 [==============================] - 0s 389us/step - loss: 2.8924 - categorical_accuracy: 0.1905 - val_loss: 16.1181 - val_categorical_accuracy: 0.0000e+00\n",
      "Epoch 75/100\n",
      "656/656 [==============================] - 0s 389us/step - loss: 2.8852 - categorical_accuracy: 0.1905 - val_loss: 16.1181 - val_categorical_accuracy: 0.0000e+00\n",
      "Epoch 76/100\n",
      "656/656 [==============================] - 0s 406us/step - loss: 2.8724 - categorical_accuracy: 0.2027 - val_loss: 16.1181 - val_categorical_accuracy: 0.0000e+00\n",
      "Epoch 77/100\n",
      "656/656 [==============================] - 0s 395us/step - loss: 2.8616 - categorical_accuracy: 0.1966 - val_loss: 16.1181 - val_categorical_accuracy: 0.0000e+00\n",
      "Epoch 78/100\n",
      "656/656 [==============================] - 0s 400us/step - loss: 2.8525 - categorical_accuracy: 0.2027 - val_loss: 16.1181 - val_categorical_accuracy: 0.0000e+00\n",
      "Epoch 79/100\n",
      "656/656 [==============================] - 0s 394us/step - loss: 2.8446 - categorical_accuracy: 0.2012 - val_loss: 16.1181 - val_categorical_accuracy: 0.0000e+00\n",
      "Epoch 80/100\n",
      "656/656 [==============================] - 0s 396us/step - loss: 2.8355 - categorical_accuracy: 0.2073 - val_loss: 16.1181 - val_categorical_accuracy: 0.0000e+00\n",
      "Epoch 81/100\n",
      "656/656 [==============================] - 0s 390us/step - loss: 2.8261 - categorical_accuracy: 0.1890 - val_loss: 16.1181 - val_categorical_accuracy: 0.0000e+00\n",
      "Epoch 82/100\n",
      "656/656 [==============================] - 0s 401us/step - loss: 2.8163 - categorical_accuracy: 0.1951 - val_loss: 16.1181 - val_categorical_accuracy: 0.0000e+00\n",
      "Epoch 83/100\n",
      "656/656 [==============================] - 0s 391us/step - loss: 2.8084 - categorical_accuracy: 0.2104 - val_loss: 16.1181 - val_categorical_accuracy: 0.0000e+00\n",
      "Epoch 84/100\n",
      "656/656 [==============================] - 0s 392us/step - loss: 2.7971 - categorical_accuracy: 0.2149 - val_loss: 16.1181 - val_categorical_accuracy: 0.0000e+00\n",
      "Epoch 85/100\n",
      "656/656 [==============================] - 0s 394us/step - loss: 2.7919 - categorical_accuracy: 0.2058 - val_loss: 16.1181 - val_categorical_accuracy: 0.0000e+00\n",
      "Epoch 86/100\n",
      "656/656 [==============================] - 0s 400us/step - loss: 2.7813 - categorical_accuracy: 0.2104 - val_loss: 16.1181 - val_categorical_accuracy: 0.0000e+00\n",
      "Epoch 87/100\n",
      "656/656 [==============================] - 0s 401us/step - loss: 2.7734 - categorical_accuracy: 0.2195 - val_loss: 16.1181 - val_categorical_accuracy: 0.0000e+00\n",
      "Epoch 88/100\n",
      "656/656 [==============================] - 0s 375us/step - loss: 2.7652 - categorical_accuracy: 0.2104 - val_loss: 16.1181 - val_categorical_accuracy: 0.0000e+00\n",
      "Epoch 89/100\n",
      "656/656 [==============================] - 0s 386us/step - loss: 2.7587 - categorical_accuracy: 0.2012 - val_loss: 16.1181 - val_categorical_accuracy: 0.0000e+00\n",
      "Epoch 90/100\n",
      "656/656 [==============================] - 0s 386us/step - loss: 2.7469 - categorical_accuracy: 0.2104 - val_loss: 16.1181 - val_categorical_accuracy: 0.0000e+00\n",
      "Epoch 91/100\n",
      "656/656 [==============================] - 0s 390us/step - loss: 2.7418 - categorical_accuracy: 0.2073 - val_loss: 16.1181 - val_categorical_accuracy: 0.0000e+00\n",
      "Epoch 92/100\n",
      "656/656 [==============================] - 0s 399us/step - loss: 2.7338 - categorical_accuracy: 0.2073 - val_loss: 16.1181 - val_categorical_accuracy: 0.0000e+00\n",
      "Epoch 93/100\n",
      "656/656 [==============================] - 0s 394us/step - loss: 2.7258 - categorical_accuracy: 0.2210 - val_loss: 16.1181 - val_categorical_accuracy: 0.0000e+00\n",
      "Epoch 94/100\n",
      "656/656 [==============================] - 0s 392us/step - loss: 2.7191 - categorical_accuracy: 0.2134 - val_loss: 16.1181 - val_categorical_accuracy: 0.0000e+00\n",
      "Epoch 95/100\n",
      "656/656 [==============================] - 0s 387us/step - loss: 2.7121 - categorical_accuracy: 0.2149 - val_loss: 16.1181 - val_categorical_accuracy: 0.0000e+00\n",
      "Epoch 96/100\n",
      "656/656 [==============================] - 0s 393us/step - loss: 2.7045 - categorical_accuracy: 0.2226 - val_loss: 16.1181 - val_categorical_accuracy: 0.0000e+00\n",
      "Epoch 97/100\n",
      "656/656 [==============================] - 0s 403us/step - loss: 2.6957 - categorical_accuracy: 0.2165 - val_loss: 16.1181 - val_categorical_accuracy: 0.0000e+00\n",
      "Epoch 98/100\n",
      "656/656 [==============================] - 0s 392us/step - loss: 2.6897 - categorical_accuracy: 0.2012 - val_loss: 16.1181 - val_categorical_accuracy: 0.0000e+00\n",
      "Epoch 99/100\n",
      "656/656 [==============================] - 0s 395us/step - loss: 2.6830 - categorical_accuracy: 0.2256 - val_loss: 16.1181 - val_categorical_accuracy: 0.0000e+00\n",
      "Epoch 100/100\n",
      "656/656 [==============================] - 0s 386us/step - loss: 2.6747 - categorical_accuracy: 0.2256 - val_loss: 16.1181 - val_categorical_accuracy: 0.0000e+00\n"
     ]
    }
   ],
   "source": [
    "model = make_nn(number_data_ready_X.shape[1], number_data_ready_Y.shape[1])\n",
    "\n",
    "print('Начинаем обучение сети')\n",
    "history = model.fit(\n",
    "    x=number_data_ready_X,\n",
    "    y=number_data_ready_Y,\n",
    "    batch_size=3,\n",
    "    epochs=100,\n",
    "    verbose=1,\n",
    "#     Вот это разделения данных в соотношении 80/20\n",
    "    validation_split=0.2,\n",
    "    callbacks=[\n",
    "        callbacks.History(),\n",
    "    ]\n",
    "    \n",
    ")"
   ]
  },
  {
   "cell_type": "code",
   "execution_count": 39,
   "metadata": {
    "colab": {
     "base_uri": "https://localhost:8080/",
     "height": 51
    },
    "colab_type": "code",
    "id": "bVhcfFS9ia2p",
    "outputId": "92a4e99f-2ef3-469c-8b48-45f714aab6a3"
   },
   "outputs": [
    {
     "name": "stdout",
     "output_type": "stream",
     "text": [
      "821/821 [==============================] - 0s 50us/step\n"
     ]
    },
    {
     "data": {
      "text/plain": [
       "[5.205819309991983, 0.2984165651644336]"
      ]
     },
     "execution_count": 39,
     "metadata": {
      "tags": []
     },
     "output_type": "execute_result"
    }
   ],
   "source": [
    "model.evaluate(number_data_ready_X, number_data_ready_Y)"
   ]
  },
  {
   "cell_type": "code",
   "execution_count": 40,
   "metadata": {
    "colab": {
     "base_uri": "https://localhost:8080/",
     "height": 682
    },
    "colab_type": "code",
    "id": "dpjplV4VieZW",
    "outputId": "b7b8cfbf-6cd0-4129-b768-a7734049e475"
   },
   "outputs": [
    {
     "data": {
      "image/png": "[encoded data removed]",
      "text/plain": [
       "<matplotlib.figure.Figure at 0x7efcde7cb240>"
      ]
     },
     "metadata": {
      "tags": []
     },
     "output_type": "display_data"
    },
    {
     "data": {
      "image/png": "[encoded data removed]",
      "text/plain": [
       "<matplotlib.figure.Figure at 0x7efcddf54240>"
      ]
     },
     "metadata": {
      "tags": []
     },
     "output_type": "display_data"
    }
   ],
   "source": [
    "plt.figure(0, figsize=(10,5))\n",
    "plt.plot(history.history['loss'])\n",
    "plt.plot(history.history['val_loss'])\n",
    "plt.title('График ошибки')\n",
    "plt.ylabel('Значение')\n",
    "plt.xlabel('Эпоха')\n",
    "plt.legend(['Ошибка (train)', 'Ошибка (test)']);\n",
    "\n",
    "plt.figure(1, figsize=(10,5))\n",
    "plt.plot(history.history['categorical_accuracy'])\n",
    "plt.plot(history.history['val_categorical_accuracy'])\n",
    "plt.ylabel('Значение')\n",
    "plt.xlabel('Эпоха')\n",
    "plt.title('График точности')\n",
    "plt.legend(['Точность (train)', 'Точность (test)']);"
   ]
  },
  {
   "cell_type": "code",
   "execution_count": 41,
   "metadata": {
    "colab": {
     "base_uri": "https://localhost:8080/",
     "height": 1785
    },
    "colab_type": "code",
    "id": "hNg-IOGcii4z",
    "outputId": "b0fa90c2-a1a5-4988-a87b-0c38503ac3bd"
   },
   "outputs": [
    {
     "name": "stdout",
     "output_type": "stream",
     "text": [
      "Начинаем обучение сети\n",
      "Train on 656 samples, validate on 165 samples\n",
      "Epoch 1/300\n",
      "656/656 [==============================] - 0s 758us/step - loss: 6.7701 - categorical_accuracy: 0.0000e+00 - val_loss: 6.8470 - val_categorical_accuracy: 0.0000e+00\n",
      "Epoch 2/300\n",
      "656/656 [==============================] - 0s 449us/step - loss: 6.5611 - categorical_accuracy: 0.0046 - val_loss: 7.3099 - val_categorical_accuracy: 0.0000e+00\n",
      "Epoch 3/300\n",
      "656/656 [==============================] - 0s 444us/step - loss: 6.1862 - categorical_accuracy: 0.0091 - val_loss: 8.1565 - val_categorical_accuracy: 0.0000e+00\n",
      "Epoch 4/300\n",
      "656/656 [==============================] - 0s 420us/step - loss: 5.8094 - categorical_accuracy: 0.0152 - val_loss: 9.0601 - val_categorical_accuracy: 0.0000e+00\n",
      "Epoch 5/300\n",
      "656/656 [==============================] - 0s 427us/step - loss: 5.5382 - categorical_accuracy: 0.0168 - val_loss: 9.8497 - val_categorical_accuracy: 0.0000e+00\n",
      "Epoch 6/300\n",
      "656/656 [==============================] - 0s 411us/step - loss: 5.3204 - categorical_accuracy: 0.0259 - val_loss: 10.5393 - val_categorical_accuracy: 0.0000e+00\n",
      "Epoch 7/300\n",
      "656/656 [==============================] - 0s 401us/step - loss: 5.1414 - categorical_accuracy: 0.0320 - val_loss: 11.1753 - val_categorical_accuracy: 0.0000e+00\n",
      "Epoch 8/300\n",
      "656/656 [==============================] - 0s 387us/step - loss: 4.9908 - categorical_accuracy: 0.0290 - val_loss: 11.7345 - val_categorical_accuracy: 0.0000e+00\n",
      "Epoch 9/300\n",
      "656/656 [==============================] - 0s 396us/step - loss: 4.8603 - categorical_accuracy: 0.0366 - val_loss: 12.2420 - val_categorical_accuracy: 0.0000e+00\n",
      "Epoch 10/300\n",
      "656/656 [==============================] - 0s 404us/step - loss: 4.7457 - categorical_accuracy: 0.0274 - val_loss: 12.7401 - val_categorical_accuracy: 0.0000e+00\n",
      "Epoch 11/300\n",
      "656/656 [==============================] - 0s 379us/step - loss: 4.6476 - categorical_accuracy: 0.0305 - val_loss: 13.1716 - val_categorical_accuracy: 0.0000e+00\n",
      "Epoch 12/300\n",
      "656/656 [==============================] - 0s 398us/step - loss: 4.5586 - categorical_accuracy: 0.0427 - val_loss: 13.6000 - val_categorical_accuracy: 0.0000e+00\n",
      "Epoch 13/300\n",
      "656/656 [==============================] - 0s 388us/step - loss: 4.4794 - categorical_accuracy: 0.0503 - val_loss: 14.0021 - val_categorical_accuracy: 0.0000e+00\n",
      "Epoch 14/300\n",
      "656/656 [==============================] - 0s 416us/step - loss: 4.4088 - categorical_accuracy: 0.0473 - val_loss: 14.3443 - val_categorical_accuracy: 0.0000e+00\n",
      "Epoch 15/300\n",
      "656/656 [==============================] - 0s 395us/step - loss: 4.3441 - categorical_accuracy: 0.0518 - val_loss: 14.7019 - val_categorical_accuracy: 0.0000e+00\n",
      "Epoch 16/300\n",
      "656/656 [==============================] - 0s 396us/step - loss: 4.2840 - categorical_accuracy: 0.0564 - val_loss: 14.9676 - val_categorical_accuracy: 0.0000e+00\n",
      "Epoch 17/300\n",
      "656/656 [==============================] - 0s 400us/step - loss: 4.2277 - categorical_accuracy: 0.0625 - val_loss: 15.2286 - val_categorical_accuracy: 0.0000e+00\n",
      "Epoch 18/300\n",
      "656/656 [==============================] - 0s 421us/step - loss: 4.1765 - categorical_accuracy: 0.0686 - val_loss: 15.4513 - val_categorical_accuracy: 0.0000e+00\n",
      "Epoch 19/300\n",
      "656/656 [==============================] - 0s 402us/step - loss: 4.1272 - categorical_accuracy: 0.0762 - val_loss: 15.6187 - val_categorical_accuracy: 0.0000e+00\n",
      "Epoch 20/300\n",
      "656/656 [==============================] - 0s 403us/step - loss: 4.0815 - categorical_accuracy: 0.0747 - val_loss: 15.7286 - val_categorical_accuracy: 0.0000e+00\n",
      "Epoch 21/300\n",
      "656/656 [==============================] - 0s 412us/step - loss: 4.0365 - categorical_accuracy: 0.0915 - val_loss: 15.8022 - val_categorical_accuracy: 0.0000e+00\n",
      "Epoch 22/300\n",
      "656/656 [==============================] - 0s 401us/step - loss: 3.9955 - categorical_accuracy: 0.0793 - val_loss: 15.8678 - val_categorical_accuracy: 0.0000e+00\n",
      "Epoch 23/300\n",
      "656/656 [==============================] - 0s 379us/step - loss: 3.9552 - categorical_accuracy: 0.0838 - val_loss: 15.9128 - val_categorical_accuracy: 0.0000e+00\n",
      "Epoch 24/300\n",
      "656/656 [==============================] - 0s 416us/step - loss: 3.9167 - categorical_accuracy: 0.0869 - val_loss: 15.9520 - val_categorical_accuracy: 0.0000e+00\n",
      "Epoch 25/300\n",
      "656/656 [==============================] - 0s 412us/step - loss: 3.8791 - categorical_accuracy: 0.0823 - val_loss: 15.9952 - val_categorical_accuracy: 0.0000e+00\n",
      "Epoch 26/300\n",
      "656/656 [==============================] - 0s 394us/step - loss: 3.8437 - categorical_accuracy: 0.1189 - val_loss: 16.0278 - val_categorical_accuracy: 0.0000e+00\n",
      "Epoch 27/300\n",
      "656/656 [==============================] - 0s 392us/step - loss: 3.8102 - categorical_accuracy: 0.1082 - val_loss: 16.0514 - val_categorical_accuracy: 0.0000e+00\n",
      "Epoch 28/300\n",
      "656/656 [==============================] - 0s 392us/step - loss: 3.7744 - categorical_accuracy: 0.1037 - val_loss: 16.0651 - val_categorical_accuracy: 0.0000e+00\n",
      "Epoch 29/300\n",
      "656/656 [==============================] - 0s 415us/step - loss: 3.7426 - categorical_accuracy: 0.1082 - val_loss: 16.0757 - val_categorical_accuracy: 0.0000e+00\n",
      "Epoch 30/300\n",
      "656/656 [==============================] - 0s 396us/step - loss: 3.7107 - categorical_accuracy: 0.1189 - val_loss: 16.0829 - val_categorical_accuracy: 0.0000e+00\n",
      "Epoch 31/300\n",
      "656/656 [==============================] - 0s 398us/step - loss: 3.6802 - categorical_accuracy: 0.1204 - val_loss: 16.0909 - val_categorical_accuracy: 0.0000e+00\n",
      "Epoch 32/300\n",
      "656/656 [==============================] - 0s 394us/step - loss: 3.6499 - categorical_accuracy: 0.1189 - val_loss: 16.0961 - val_categorical_accuracy: 0.0000e+00\n",
      "Epoch 33/300\n",
      "656/656 [==============================] - 0s 401us/step - loss: 3.6207 - categorical_accuracy: 0.1143 - val_loss: 16.0994 - val_categorical_accuracy: 0.0000e+00\n",
      "Epoch 34/300\n",
      "656/656 [==============================] - 0s 391us/step - loss: 3.5913 - categorical_accuracy: 0.1311 - val_loss: 16.1035 - val_categorical_accuracy: 0.0000e+00\n",
      "Epoch 35/300\n",
      "656/656 [==============================] - 0s 394us/step - loss: 3.5637 - categorical_accuracy: 0.1387 - val_loss: 16.1054 - val_categorical_accuracy: 0.0000e+00\n",
      "Epoch 36/300\n",
      "656/656 [==============================] - 0s 416us/step - loss: 3.5375 - categorical_accuracy: 0.1341 - val_loss: 16.1067 - val_categorical_accuracy: 0.0000e+00\n",
      "Epoch 37/300\n",
      "656/656 [==============================] - 0s 403us/step - loss: 3.5098 - categorical_accuracy: 0.1433 - val_loss: 16.1092 - val_categorical_accuracy: 0.0000e+00\n",
      "Epoch 38/300\n",
      "656/656 [==============================] - 0s 403us/step - loss: 3.4843 - categorical_accuracy: 0.1372 - val_loss: 16.1099 - val_categorical_accuracy: 0.0000e+00\n",
      "Epoch 39/300\n",
      "656/656 [==============================] - 0s 423us/step - loss: 3.4604 - categorical_accuracy: 0.1265 - val_loss: 16.1110 - val_categorical_accuracy: 0.0000e+00\n",
      "Epoch 40/300\n",
      "656/656 [==============================] - 0s 396us/step - loss: 3.4355 - categorical_accuracy: 0.1433 - val_loss: 16.1119 - val_categorical_accuracy: 0.0000e+00\n",
      "Epoch 41/300\n",
      "656/656 [==============================] - 0s 387us/step - loss: 3.4121 - categorical_accuracy: 0.1479 - val_loss: 16.1125 - val_categorical_accuracy: 0.0000e+00\n",
      "Epoch 42/300\n",
      "656/656 [==============================] - 0s 373us/step - loss: 3.3901 - categorical_accuracy: 0.1479 - val_loss: 16.1134 - val_categorical_accuracy: 0.0000e+00\n",
      "Epoch 43/300\n",
      "656/656 [==============================] - 0s 384us/step - loss: 3.3674 - categorical_accuracy: 0.1570 - val_loss: 16.1144 - val_categorical_accuracy: 0.0000e+00\n",
      "Epoch 44/300\n",
      "656/656 [==============================] - 0s 396us/step - loss: 3.3470 - categorical_accuracy: 0.1494 - val_loss: 16.1150 - val_categorical_accuracy: 0.0000e+00\n",
      "Epoch 45/300\n",
      "656/656 [==============================] - 0s 374us/step - loss: 3.3251 - categorical_accuracy: 0.1479 - val_loss: 16.1165 - val_categorical_accuracy: 0.0000e+00\n",
      "Epoch 46/300\n",
      "656/656 [==============================] - 0s 390us/step - loss: 3.3050 - categorical_accuracy: 0.1601 - val_loss: 16.1169 - val_categorical_accuracy: 0.0000e+00\n",
      "Epoch 47/300\n",
      "656/656 [==============================] - 0s 386us/step - loss: 3.2851 - categorical_accuracy: 0.1662 - val_loss: 16.1174 - val_categorical_accuracy: 0.0000e+00\n",
      "Epoch 48/300\n",
      "656/656 [==============================] - 0s 400us/step - loss: 3.2662 - categorical_accuracy: 0.1784 - val_loss: 16.1181 - val_categorical_accuracy: 0.0000e+00\n",
      "Epoch 49/300\n",
      "656/656 [==============================] - 0s 382us/step - loss: 3.2465 - categorical_accuracy: 0.1677 - val_loss: 16.1181 - val_categorical_accuracy: 0.0000e+00\n",
      "Epoch 50/300\n",
      "656/656 [==============================] - 0s 399us/step - loss: 3.2289 - categorical_accuracy: 0.1555 - val_loss: 16.1181 - val_categorical_accuracy: 0.0000e+00\n",
      "Epoch 51/300\n",
      "656/656 [==============================] - 0s 374us/step - loss: 3.2116 - categorical_accuracy: 0.1646 - val_loss: 16.1181 - val_categorical_accuracy: 0.0000e+00\n"
     ]
    }
   ],
   "source": [
    "#улучшение сети - ранняя остановка \n",
    "model = make_nn(number_data_ready_X.shape[1], number_data_ready_Y.shape[1])\n",
    "\n",
    "print('Начинаем обучение сети')\n",
    "history = model.fit(\n",
    "    x=number_data_ready_X,\n",
    "    y=number_data_ready_Y,\n",
    "    batch_size=3,\n",
    "#     Так как у нас теперь есть рання остановка мы можем увеличеть количество эпох (было 100 стало 300)\n",
    "    epochs=300,\n",
    "    verbose=1,\n",
    "#     Вот это разделения данных в соотношении 80/20\n",
    "    validation_split=0.2,\n",
    "    callbacks=[\n",
    "        callbacks.History(),\n",
    "        callbacks.EarlyStopping(\n",
    "#             На основе какого значения будет приниматься решеня об остановке\n",
    "            monitor='val_categorical_accuracy',\n",
    "#             Указываем направления лучшего значения (min, max, auto) лучшим является если тестовая точноть будет максимальной\n",
    "            mode='max',\n",
    "#             Количество эпок в резельтате которых если значение не изменилось, то произвести остановку\n",
    "            patience=50,\n",
    "#             \"Чуствительность\" метода - изменения ниже данного значения дубут считатья 0 (изменения в отслеживаемом значении нету)\n",
    "            min_delta=0.01,\n",
    "        )\n",
    "    ]\n",
    "    \n",
    ")"
   ]
  },
  {
   "cell_type": "code",
   "execution_count": 42,
   "metadata": {
    "colab": {
     "base_uri": "https://localhost:8080/",
     "height": 51
    },
    "colab_type": "code",
    "id": "9u_ejVKUis8R",
    "outputId": "b74aecbb-72d1-43cf-9de8-6c8295189983"
   },
   "outputs": [
    {
     "name": "stdout",
     "output_type": "stream",
     "text": [
      "821/821 [==============================] - 0s 47us/step\n"
     ]
    },
    {
     "data": {
      "text/plain": [
       "[5.6545501039902275, 0.24116930572472595]"
      ]
     },
     "execution_count": 42,
     "metadata": {
      "tags": []
     },
     "output_type": "execute_result"
    }
   ],
   "source": [
    "model.evaluate(number_data_ready_X, number_data_ready_Y)"
   ]
  },
  {
   "cell_type": "code",
   "execution_count": 43,
   "metadata": {
    "colab": {
     "base_uri": "https://localhost:8080/",
     "height": 682
    },
    "colab_type": "code",
    "id": "FDrVI3hdivHZ",
    "outputId": "daea73f2-867a-4d36-fbdf-91aaf9a62568"
   },
   "outputs": [
    {
     "data": {
      "image/png": "[encoded data removed]",
      "text/plain": [
       "<matplotlib.figure.Figure at 0x7efcddc08c88>"
      ]
     },
     "metadata": {
      "tags": []
     },
     "output_type": "display_data"
    },
    {
     "data": {
      "image/png": "[encoded data removed]",
      "text/plain": [
       "<matplotlib.figure.Figure at 0x7efcddbc0780>"
      ]
     },
     "metadata": {
      "tags": []
     },
     "output_type": "display_data"
    }
   ],
   "source": [
    "plt.figure(0, figsize=(10,5))\n",
    "plt.plot(history.history['loss'])\n",
    "plt.plot(history.history['val_loss'])\n",
    "plt.title('График ошибки')\n",
    "plt.ylabel('Значение')\n",
    "plt.xlabel('Эпоха')\n",
    "plt.legend(['Ошибка (train)', 'Ошибка (test)']);\n",
    "\n",
    "plt.figure(1, figsize=(10,5))\n",
    "plt.plot(history.history['categorical_accuracy'])\n",
    "plt.plot(history.history['val_categorical_accuracy'])\n",
    "plt.ylabel('Значение')\n",
    "plt.xlabel('Эпоха')\n",
    "plt.title('График точности')\n",
    "plt.legend(['Точность (train)', 'Точность (test)']);"
   ]
  },
  {
   "cell_type": "code",
   "execution_count": 0,
   "metadata": {
    "colab": {},
    "colab_type": "code",
    "id": "79qnFe8Iiy24"
   },
   "outputs": [],
   "source": [
    "from pathlib import Path\n",
    "from os import remove\n",
    "\n",
    "file_name = 'nn_model_loss-{loss:.2f}_val_loss-{val_loss:.2f}_acc-{categorical_accuracy:.2f}_val_acc-{val_categorical_accuracy:.2f}.hdf5'\n",
    "def make_save_points(name='save_points', file_name=file_name):\n",
    "#     выбираем катагол (подробнее https://docs.python.org/3.6/library/pathlib.html ) \n",
    "    checkpoints_dir = Path('./').joinpath('save_points')\n",
    "    print('Текущий каталог с контрольными точками {Z}'.format(Z=checkpoints_dir.absolute()))\n",
    "    # Создаем каталог если его нету\n",
    "    checkpoints_dir.mkdir(exist_ok=True)\n",
    "    # Удаляем все из каталога\n",
    "    for item in checkpoints_dir.iterdir():\n",
    "        if item.is_file():\n",
    "            print('Удаляем файл {}'.format(Z=item))\n",
    "            remove(item)\n",
    "    return str(checkpoints_dir.joinpath(file_name))"
   ]
  },
  {
   "cell_type": "code",
   "execution_count": 46,
   "metadata": {
    "colab": {
     "base_uri": "https://localhost:8080/",
     "height": 2278
    },
    "colab_type": "code",
    "id": "Q2oaxHAwjMfv",
    "outputId": "f6d49735-88da-40d5-980b-1f6c67e56ff4"
   },
   "outputs": [
    {
     "name": "stdout",
     "output_type": "stream",
     "text": [
      "Начинаем обучение сети\n",
      "Текущий каталог с контрольными точками /content/save_points\n",
      "Train on 525 samples, validate on 132 samples\n",
      "Epoch 1/300\n",
      "525/525 [==============================] - 0s 809us/step - loss: 23.1700 - categorical_accuracy: 0.1867 - val_loss: 18.7443 - val_categorical_accuracy: 0.1970\n",
      "Epoch 2/300\n",
      "525/525 [==============================] - 0s 412us/step - loss: 14.9022 - categorical_accuracy: 0.2438 - val_loss: 15.4733 - val_categorical_accuracy: 0.3712\n",
      "Epoch 3/300\n",
      "525/525 [==============================] - 0s 385us/step - loss: 13.4533 - categorical_accuracy: 0.4476 - val_loss: 15.6052 - val_categorical_accuracy: 0.4394\n",
      "Epoch 4/300\n",
      "525/525 [==============================] - 0s 397us/step - loss: 13.0413 - categorical_accuracy: 0.4876 - val_loss: 15.8192 - val_categorical_accuracy: 0.4848\n",
      "Epoch 5/300\n",
      "525/525 [==============================] - 0s 379us/step - loss: 12.7736 - categorical_accuracy: 0.4724 - val_loss: 16.0601 - val_categorical_accuracy: 0.4318\n",
      "Epoch 6/300\n",
      "525/525 [==============================] - 0s 452us/step - loss: 12.5623 - categorical_accuracy: 0.4476 - val_loss: 16.2763 - val_categorical_accuracy: 0.4242\n",
      "Epoch 7/300\n",
      "525/525 [==============================] - 0s 430us/step - loss: 12.3843 - categorical_accuracy: 0.4571 - val_loss: 16.4997 - val_categorical_accuracy: 0.4015\n",
      "Epoch 8/300\n",
      "525/525 [==============================] - 0s 416us/step - loss: 12.2265 - categorical_accuracy: 0.4514 - val_loss: 16.6924 - val_categorical_accuracy: 0.4091\n",
      "Epoch 9/300\n",
      "525/525 [==============================] - 0s 443us/step - loss: 12.0862 - categorical_accuracy: 0.4705 - val_loss: 16.9065 - val_categorical_accuracy: 0.4697\n",
      "Epoch 10/300\n",
      "525/525 [==============================] - 0s 415us/step - loss: 11.9564 - categorical_accuracy: 0.5181 - val_loss: 17.0861 - val_categorical_accuracy: 0.5909\n",
      "Epoch 11/300\n",
      "525/525 [==============================] - 0s 406us/step - loss: 11.8379 - categorical_accuracy: 0.4952 - val_loss: 17.2837 - val_categorical_accuracy: 0.6061\n",
      "Epoch 12/300\n",
      "525/525 [==============================] - 0s 397us/step - loss: 11.7291 - categorical_accuracy: 0.5752 - val_loss: 17.4595 - val_categorical_accuracy: 0.4470\n",
      "Epoch 13/300\n",
      "525/525 [==============================] - 0s 392us/step - loss: 11.6278 - categorical_accuracy: 0.5962 - val_loss: 17.6479 - val_categorical_accuracy: 0.6288\n",
      "Epoch 14/300\n",
      "525/525 [==============================] - 0s 391us/step - loss: 11.5348 - categorical_accuracy: 0.5943 - val_loss: 17.8380 - val_categorical_accuracy: 0.6212\n",
      "Epoch 15/300\n",
      "525/525 [==============================] - 0s 391us/step - loss: 11.4503 - categorical_accuracy: 0.6095 - val_loss: 18.0334 - val_categorical_accuracy: 0.6894\n",
      "Epoch 16/300\n",
      "525/525 [==============================] - 0s 388us/step - loss: 11.3718 - categorical_accuracy: 0.6362 - val_loss: 18.2359 - val_categorical_accuracy: 0.6439\n",
      "Epoch 17/300\n",
      "525/525 [==============================] - 0s 383us/step - loss: 11.2982 - categorical_accuracy: 0.6286 - val_loss: 18.4306 - val_categorical_accuracy: 0.5606\n",
      "Epoch 18/300\n",
      "525/525 [==============================] - 0s 391us/step - loss: 11.2289 - categorical_accuracy: 0.6400 - val_loss: 18.6501 - val_categorical_accuracy: 0.6288\n",
      "Epoch 19/300\n",
      "525/525 [==============================] - 0s 407us/step - loss: 11.1633 - categorical_accuracy: 0.6400 - val_loss: 18.8501 - val_categorical_accuracy: 0.6742\n",
      "Epoch 20/300\n",
      "525/525 [==============================] - 0s 392us/step - loss: 11.1018 - categorical_accuracy: 0.6495 - val_loss: 19.0365 - val_categorical_accuracy: 0.5076\n",
      "Epoch 21/300\n",
      "525/525 [==============================] - 0s 391us/step - loss: 11.0455 - categorical_accuracy: 0.6610 - val_loss: 19.2663 - val_categorical_accuracy: 0.6212\n",
      "Epoch 22/300\n",
      "525/525 [==============================] - 0s 386us/step - loss: 10.9884 - categorical_accuracy: 0.6705 - val_loss: 19.4408 - val_categorical_accuracy: 0.6212\n",
      "Epoch 23/300\n",
      "525/525 [==============================] - 0s 396us/step - loss: 10.9364 - categorical_accuracy: 0.6819 - val_loss: 19.6060 - val_categorical_accuracy: 0.6591\n",
      "Epoch 24/300\n",
      "525/525 [==============================] - 0s 392us/step - loss: 10.8842 - categorical_accuracy: 0.6667 - val_loss: 19.7929 - val_categorical_accuracy: 0.6212\n",
      "Epoch 25/300\n",
      "525/525 [==============================] - 0s 392us/step - loss: 10.8350 - categorical_accuracy: 0.6705 - val_loss: 19.9496 - val_categorical_accuracy: 0.6136\n",
      "Epoch 26/300\n",
      "525/525 [==============================] - 0s 382us/step - loss: 10.7884 - categorical_accuracy: 0.6819 - val_loss: 20.1058 - val_categorical_accuracy: 0.6061\n",
      "Epoch 27/300\n",
      "525/525 [==============================] - 0s 387us/step - loss: 10.7437 - categorical_accuracy: 0.6781 - val_loss: 20.2199 - val_categorical_accuracy: 0.6288\n",
      "Epoch 28/300\n",
      "525/525 [==============================] - 0s 380us/step - loss: 10.7012 - categorical_accuracy: 0.6876 - val_loss: 20.3048 - val_categorical_accuracy: 0.5833\n",
      "Epoch 29/300\n",
      "525/525 [==============================] - 0s 381us/step - loss: 10.6591 - categorical_accuracy: 0.7029 - val_loss: 20.4032 - val_categorical_accuracy: 0.6591\n",
      "Epoch 30/300\n",
      "525/525 [==============================] - 0s 402us/step - loss: 10.6194 - categorical_accuracy: 0.7029 - val_loss: 20.4677 - val_categorical_accuracy: 0.5758\n",
      "Epoch 31/300\n",
      "525/525 [==============================] - 0s 373us/step - loss: 10.5809 - categorical_accuracy: 0.6686 - val_loss: 20.5477 - val_categorical_accuracy: 0.6591\n",
      "Epoch 32/300\n",
      "525/525 [==============================] - 0s 386us/step - loss: 10.5422 - categorical_accuracy: 0.6876 - val_loss: 20.5785 - val_categorical_accuracy: 0.6364\n",
      "Epoch 33/300\n",
      "525/525 [==============================] - 0s 389us/step - loss: 10.5063 - categorical_accuracy: 0.6895 - val_loss: 20.6087 - val_categorical_accuracy: 0.5530\n",
      "Epoch 34/300\n",
      "525/525 [==============================] - 0s 388us/step - loss: 10.4722 - categorical_accuracy: 0.6819 - val_loss: 20.6432 - val_categorical_accuracy: 0.5606\n",
      "Epoch 35/300\n",
      "525/525 [==============================] - 0s 389us/step - loss: 10.4396 - categorical_accuracy: 0.6838 - val_loss: 20.7009 - val_categorical_accuracy: 0.6288\n",
      "Epoch 36/300\n",
      "525/525 [==============================] - 0s 388us/step - loss: 10.4060 - categorical_accuracy: 0.6781 - val_loss: 20.7145 - val_categorical_accuracy: 0.6439\n",
      "Epoch 37/300\n",
      "525/525 [==============================] - 0s 409us/step - loss: 10.3783 - categorical_accuracy: 0.6819 - val_loss: 20.7297 - val_categorical_accuracy: 0.5379\n",
      "Epoch 38/300\n",
      "525/525 [==============================] - 0s 407us/step - loss: 10.3482 - categorical_accuracy: 0.6667 - val_loss: 20.7275 - val_categorical_accuracy: 0.5682\n",
      "Epoch 39/300\n",
      "525/525 [==============================] - 0s 386us/step - loss: 10.3201 - categorical_accuracy: 0.6857 - val_loss: 20.7867 - val_categorical_accuracy: 0.6515\n",
      "Epoch 40/300\n",
      "525/525 [==============================] - 0s 405us/step - loss: 10.2934 - categorical_accuracy: 0.6990 - val_loss: 20.7694 - val_categorical_accuracy: 0.5758\n",
      "Epoch 41/300\n",
      "525/525 [==============================] - 0s 393us/step - loss: 10.2689 - categorical_accuracy: 0.6781 - val_loss: 20.8190 - val_categorical_accuracy: 0.5379\n",
      "Epoch 42/300\n",
      "525/525 [==============================] - 0s 413us/step - loss: 10.2426 - categorical_accuracy: 0.6629 - val_loss: 20.8563 - val_categorical_accuracy: 0.6742\n",
      "Epoch 43/300\n",
      "525/525 [==============================] - 0s 390us/step - loss: 10.2199 - categorical_accuracy: 0.6724 - val_loss: 20.8476 - val_categorical_accuracy: 0.6136\n",
      "Epoch 44/300\n",
      "525/525 [==============================] - 0s 391us/step - loss: 10.1981 - categorical_accuracy: 0.6876 - val_loss: 20.8735 - val_categorical_accuracy: 0.6818\n",
      "Epoch 45/300\n",
      "525/525 [==============================] - 0s 389us/step - loss: 10.1752 - categorical_accuracy: 0.6800 - val_loss: 20.8561 - val_categorical_accuracy: 0.6818\n",
      "Epoch 46/300\n",
      "525/525 [==============================] - 0s 401us/step - loss: 10.1544 - categorical_accuracy: 0.6933 - val_loss: 20.8463 - val_categorical_accuracy: 0.5985\n",
      "Epoch 47/300\n",
      "525/525 [==============================] - 0s 389us/step - loss: 10.1354 - categorical_accuracy: 0.6895 - val_loss: 20.8483 - val_categorical_accuracy: 0.6061\n",
      "Epoch 48/300\n",
      "525/525 [==============================] - 0s 386us/step - loss: 10.1148 - categorical_accuracy: 0.6990 - val_loss: 20.8575 - val_categorical_accuracy: 0.5682\n",
      "Epoch 49/300\n",
      "525/525 [==============================] - 0s 400us/step - loss: 10.0968 - categorical_accuracy: 0.6667 - val_loss: 20.8879 - val_categorical_accuracy: 0.6288\n",
      "Epoch 50/300\n",
      "525/525 [==============================] - 0s 387us/step - loss: 10.0777 - categorical_accuracy: 0.6838 - val_loss: 20.8988 - val_categorical_accuracy: 0.5985\n",
      "Epoch 51/300\n",
      "525/525 [==============================] - 0s 378us/step - loss: 10.0595 - categorical_accuracy: 0.6876 - val_loss: 20.8694 - val_categorical_accuracy: 0.6364\n",
      "Epoch 52/300\n",
      "525/525 [==============================] - 0s 386us/step - loss: 10.0410 - categorical_accuracy: 0.6895 - val_loss: 20.8557 - val_categorical_accuracy: 0.6212\n",
      "Epoch 53/300\n",
      "525/525 [==============================] - 0s 403us/step - loss: 10.0264 - categorical_accuracy: 0.6686 - val_loss: 20.8705 - val_categorical_accuracy: 0.6136\n",
      "Epoch 54/300\n",
      "525/525 [==============================] - 0s 384us/step - loss: 10.0106 - categorical_accuracy: 0.6838 - val_loss: 20.8884 - val_categorical_accuracy: 0.5985\n",
      "Epoch 55/300\n",
      "525/525 [==============================] - 0s 381us/step - loss: 9.9952 - categorical_accuracy: 0.6514 - val_loss: 20.9011 - val_categorical_accuracy: 0.6970\n",
      "Epoch 56/300\n",
      "525/525 [==============================] - 0s 374us/step - loss: 9.9791 - categorical_accuracy: 0.6724 - val_loss: 20.9069 - val_categorical_accuracy: 0.5985\n",
      "Epoch 57/300\n",
      "525/525 [==============================] - 0s 380us/step - loss: 9.9642 - categorical_accuracy: 0.6857 - val_loss: 20.8546 - val_categorical_accuracy: 0.5758\n",
      "Epoch 58/300\n",
      "525/525 [==============================] - 0s 414us/step - loss: 9.9521 - categorical_accuracy: 0.6667 - val_loss: 20.8432 - val_categorical_accuracy: 0.5455\n",
      "Epoch 59/300\n",
      "525/525 [==============================] - 0s 401us/step - loss: 9.9367 - categorical_accuracy: 0.6743 - val_loss: 20.8686 - val_categorical_accuracy: 0.6136\n",
      "Epoch 60/300\n",
      "525/525 [==============================] - 0s 382us/step - loss: 9.9229 - categorical_accuracy: 0.6724 - val_loss: 20.8898 - val_categorical_accuracy: 0.6970\n",
      "Epoch 61/300\n",
      "525/525 [==============================] - 0s 389us/step - loss: 9.9116 - categorical_accuracy: 0.6876 - val_loss: 20.8511 - val_categorical_accuracy: 0.6515\n",
      "Epoch 62/300\n",
      "525/525 [==============================] - 0s 378us/step - loss: 9.8975 - categorical_accuracy: 0.6552 - val_loss: 20.8452 - val_categorical_accuracy: 0.5303\n",
      "Epoch 63/300\n",
      "525/525 [==============================] - 0s 405us/step - loss: 9.8865 - categorical_accuracy: 0.6686 - val_loss: 20.8759 - val_categorical_accuracy: 0.6288\n",
      "Epoch 64/300\n",
      "525/525 [==============================] - 0s 403us/step - loss: 9.8723 - categorical_accuracy: 0.6400 - val_loss: 20.9154 - val_categorical_accuracy: 0.6212\n",
      "Epoch 65/300\n",
      "525/525 [==============================] - 0s 387us/step - loss: 9.8629 - categorical_accuracy: 0.6552 - val_loss: 20.9102 - val_categorical_accuracy: 0.6515\n"
     ]
    }
   ],
   "source": [
    "print('Начинаем обучение сети')\n",
    "history = make_nn(X_train.shape[1], Y_train.shape[1]).fit(\n",
    "    x=X_train,\n",
    "    y=Y_train,\n",
    "    batch_size=3,\n",
    "    epochs=300,\n",
    "    validation_split=0.2,\n",
    "    verbose=1,\n",
    "    callbacks=[\n",
    "        callbacks.History(),\n",
    "        # Добавляем сценарий ранней остановки\n",
    "        # Если в течении 30 эпох точность не вырастить более чем на 1%, то произойдет остановка\n",
    "        callbacks.EarlyStopping(\n",
    "            monitor='val_categorical_accuracy',\n",
    "            mode='max',\n",
    "            patience=50,\n",
    "            min_delta=0.01\n",
    "        ),\n",
    "#         Callback сохранений состояний сети\n",
    "        callbacks.ModelCheckpoint(\n",
    "#             Указываем путь для сохранения и формат имен файлов\n",
    "            make_save_points(file_name=file_name),\n",
    "#             Указываем какое значение отслеживать\n",
    "            monitor='val_categorical_accuracy',\n",
    "#             Указываем, что сохранять надо только лучшие результаты\n",
    "            save_best_only=True,\n",
    "#             Говорим как часто проверять, что текущий результат лучше предидущего (в эпохах)\n",
    "            period=5,\n",
    "#             Указываем сторону лучших значений\n",
    "            mode='max'\n",
    "        )\n",
    "    ]\n",
    ")"
   ]
  },
  {
   "cell_type": "code",
   "execution_count": 47,
   "metadata": {
    "colab": {
     "base_uri": "https://localhost:8080/",
     "height": 682
    },
    "colab_type": "code",
    "id": "vTIwjUuijksu",
    "outputId": "8616ddc5-f75a-4834-b4a8-57b07e23aa5c"
   },
   "outputs": [
    {
     "data": {
      "image/png": "[encoded data removed]",
      "text/plain": [
       "<matplotlib.figure.Figure at 0x7efcdd792898>"
      ]
     },
     "metadata": {
      "tags": []
     },
     "output_type": "display_data"
    },
    {
     "data": {
      "image/png": "[encoded data removed]",
      "text/plain": [
       "<matplotlib.figure.Figure at 0x7efcdd7cbef0>"
      ]
     },
     "metadata": {
      "tags": []
     },
     "output_type": "display_data"
    }
   ],
   "source": [
    "plt.figure(0, figsize=(10,5))\n",
    "plt.plot(history.history['loss'])\n",
    "plt.plot(history.history['val_loss'])\n",
    "plt.title('График ошибки')\n",
    "plt.ylabel('Значение')\n",
    "plt.xlabel('Эпоха')\n",
    "plt.legend(['Ошибка (train)', 'Ошибка (test)']);\n",
    "\n",
    "plt.figure(1, figsize=(10,5))\n",
    "plt.plot(history.history['categorical_accuracy'])\n",
    "plt.plot(history.history['val_categorical_accuracy'])\n",
    "plt.ylabel('Значение')\n",
    "plt.xlabel('Эпоха')\n",
    "plt.title('График точности')\n",
    "plt.legend(['Точность (train)', 'Точность (test)']);"
   ]
  }
 ],
 "metadata": {
  "colab": {
   "collapsed_sections": [],
   "name": "lab5.ipynb",
   "provenance": [],
   "version": "0.3.2"
  },
  "kernelspec": {
   "display_name": "Python 3",
   "language": "python",
   "name": "python3"
  },
  "language_info": {
   "codemirror_mode": {
    "name": "ipython",
    "version": 3
   },
   "file_extension": ".py",
   "mimetype": "text/x-python",
   "name": "python",
   "nbconvert_exporter": "python",
   "pygments_lexer": "ipython3",
   "version": "3.7.0"
  }
 },
 "nbformat": 4,
 "nbformat_minor": 1
}
